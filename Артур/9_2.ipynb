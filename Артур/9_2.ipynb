{
  "cells": [
    {
      "cell_type": "markdown",
      "metadata": {
        "hide_input": true,
        "id": "u46hdSRKcILO"
      },
      "source": [
        "# Лабораторная работа 9. Использование разработанного пайплайна для многомерной регрессии"
      ]
    },
    {
      "cell_type": "markdown",
      "metadata": {
        "id": "XroOEyv6cILP"
      },
      "source": [
        "## Подключение библиотек"
      ]
    },
    {
      "cell_type": "code",
      "execution_count": null,
      "metadata": {
        "ExecuteTime": {
          "end_time": "2022-09-01T14:41:43.745356Z",
          "start_time": "2022-09-01T14:41:43.742352Z"
        },
        "id": "AZxwLq1NcILP"
      },
      "outputs": [],
      "source": [
        "import numpy as np\n",
        "import matplotlib.pyplot as plt\n",
        "import pandas as pd"
      ]
    },
    {
      "cell_type": "markdown",
      "metadata": {
        "id": "p7lW86pHcILQ"
      },
      "source": [
        "## Загрузка данных и разделение на матрицу признаков и зависимую переменную"
      ]
    },
    {
      "cell_type": "code",
      "execution_count": null,
      "metadata": {
        "ExecuteTime": {
          "end_time": "2022-09-01T14:42:17.286692Z",
          "start_time": "2022-09-01T14:42:17.270681Z"
        },
        "id": "GmuJ6-okcILQ",
        "outputId": "768783ee-4c26-41ed-c330-d885baf6a91d",
        "colab": {
          "base_uri": "https://localhost:8080/",
          "height": 206
        }
      },
      "outputs": [
        {
          "output_type": "execute_result",
          "data": {
            "text/plain": [
              "   X  Y month  day  FFMC   DMC     DC  ISI  temp  RH  wind  rain  area\n",
              "0  7  5   mar  fri  86.2  26.2   94.3  5.1   8.2  51   6.7   0.0   0.0\n",
              "1  7  4   oct  tue  90.6  35.4  669.1  6.7  18.0  33   0.9   0.0   0.0\n",
              "2  7  4   oct  sat  90.6  43.7  686.9  6.7  14.6  33   1.3   0.0   0.0\n",
              "3  8  6   mar  fri  91.7  33.3   77.5  9.0   8.3  97   4.0   0.2   0.0\n",
              "4  8  6   mar  sun  89.3  51.3  102.2  9.6  11.4  99   1.8   0.0   0.0"
            ],
            "text/html": [
              "\n",
              "  <div id=\"df-9a6c52a2-2f3a-4045-9961-98945c2ba6ef\" class=\"colab-df-container\">\n",
              "    <div>\n",
              "<style scoped>\n",
              "    .dataframe tbody tr th:only-of-type {\n",
              "        vertical-align: middle;\n",
              "    }\n",
              "\n",
              "    .dataframe tbody tr th {\n",
              "        vertical-align: top;\n",
              "    }\n",
              "\n",
              "    .dataframe thead th {\n",
              "        text-align: right;\n",
              "    }\n",
              "</style>\n",
              "<table border=\"1\" class=\"dataframe\">\n",
              "  <thead>\n",
              "    <tr style=\"text-align: right;\">\n",
              "      <th></th>\n",
              "      <th>X</th>\n",
              "      <th>Y</th>\n",
              "      <th>month</th>\n",
              "      <th>day</th>\n",
              "      <th>FFMC</th>\n",
              "      <th>DMC</th>\n",
              "      <th>DC</th>\n",
              "      <th>ISI</th>\n",
              "      <th>temp</th>\n",
              "      <th>RH</th>\n",
              "      <th>wind</th>\n",
              "      <th>rain</th>\n",
              "      <th>area</th>\n",
              "    </tr>\n",
              "  </thead>\n",
              "  <tbody>\n",
              "    <tr>\n",
              "      <th>0</th>\n",
              "      <td>7</td>\n",
              "      <td>5</td>\n",
              "      <td>mar</td>\n",
              "      <td>fri</td>\n",
              "      <td>86.2</td>\n",
              "      <td>26.2</td>\n",
              "      <td>94.3</td>\n",
              "      <td>5.1</td>\n",
              "      <td>8.2</td>\n",
              "      <td>51</td>\n",
              "      <td>6.7</td>\n",
              "      <td>0.0</td>\n",
              "      <td>0.0</td>\n",
              "    </tr>\n",
              "    <tr>\n",
              "      <th>1</th>\n",
              "      <td>7</td>\n",
              "      <td>4</td>\n",
              "      <td>oct</td>\n",
              "      <td>tue</td>\n",
              "      <td>90.6</td>\n",
              "      <td>35.4</td>\n",
              "      <td>669.1</td>\n",
              "      <td>6.7</td>\n",
              "      <td>18.0</td>\n",
              "      <td>33</td>\n",
              "      <td>0.9</td>\n",
              "      <td>0.0</td>\n",
              "      <td>0.0</td>\n",
              "    </tr>\n",
              "    <tr>\n",
              "      <th>2</th>\n",
              "      <td>7</td>\n",
              "      <td>4</td>\n",
              "      <td>oct</td>\n",
              "      <td>sat</td>\n",
              "      <td>90.6</td>\n",
              "      <td>43.7</td>\n",
              "      <td>686.9</td>\n",
              "      <td>6.7</td>\n",
              "      <td>14.6</td>\n",
              "      <td>33</td>\n",
              "      <td>1.3</td>\n",
              "      <td>0.0</td>\n",
              "      <td>0.0</td>\n",
              "    </tr>\n",
              "    <tr>\n",
              "      <th>3</th>\n",
              "      <td>8</td>\n",
              "      <td>6</td>\n",
              "      <td>mar</td>\n",
              "      <td>fri</td>\n",
              "      <td>91.7</td>\n",
              "      <td>33.3</td>\n",
              "      <td>77.5</td>\n",
              "      <td>9.0</td>\n",
              "      <td>8.3</td>\n",
              "      <td>97</td>\n",
              "      <td>4.0</td>\n",
              "      <td>0.2</td>\n",
              "      <td>0.0</td>\n",
              "    </tr>\n",
              "    <tr>\n",
              "      <th>4</th>\n",
              "      <td>8</td>\n",
              "      <td>6</td>\n",
              "      <td>mar</td>\n",
              "      <td>sun</td>\n",
              "      <td>89.3</td>\n",
              "      <td>51.3</td>\n",
              "      <td>102.2</td>\n",
              "      <td>9.6</td>\n",
              "      <td>11.4</td>\n",
              "      <td>99</td>\n",
              "      <td>1.8</td>\n",
              "      <td>0.0</td>\n",
              "      <td>0.0</td>\n",
              "    </tr>\n",
              "  </tbody>\n",
              "</table>\n",
              "</div>\n",
              "    <div class=\"colab-df-buttons\">\n",
              "\n",
              "  <div class=\"colab-df-container\">\n",
              "    <button class=\"colab-df-convert\" onclick=\"convertToInteractive('df-9a6c52a2-2f3a-4045-9961-98945c2ba6ef')\"\n",
              "            title=\"Convert this dataframe to an interactive table.\"\n",
              "            style=\"display:none;\">\n",
              "\n",
              "  <svg xmlns=\"http://www.w3.org/2000/svg\" height=\"24px\" viewBox=\"0 -960 960 960\">\n",
              "    <path d=\"M120-120v-720h720v720H120Zm60-500h600v-160H180v160Zm220 220h160v-160H400v160Zm0 220h160v-160H400v160ZM180-400h160v-160H180v160Zm440 0h160v-160H620v160ZM180-180h160v-160H180v160Zm440 0h160v-160H620v160Z\"/>\n",
              "  </svg>\n",
              "    </button>\n",
              "\n",
              "  <style>\n",
              "    .colab-df-container {\n",
              "      display:flex;\n",
              "      gap: 12px;\n",
              "    }\n",
              "\n",
              "    .colab-df-convert {\n",
              "      background-color: #E8F0FE;\n",
              "      border: none;\n",
              "      border-radius: 50%;\n",
              "      cursor: pointer;\n",
              "      display: none;\n",
              "      fill: #1967D2;\n",
              "      height: 32px;\n",
              "      padding: 0 0 0 0;\n",
              "      width: 32px;\n",
              "    }\n",
              "\n",
              "    .colab-df-convert:hover {\n",
              "      background-color: #E2EBFA;\n",
              "      box-shadow: 0px 1px 2px rgba(60, 64, 67, 0.3), 0px 1px 3px 1px rgba(60, 64, 67, 0.15);\n",
              "      fill: #174EA6;\n",
              "    }\n",
              "\n",
              "    .colab-df-buttons div {\n",
              "      margin-bottom: 4px;\n",
              "    }\n",
              "\n",
              "    [theme=dark] .colab-df-convert {\n",
              "      background-color: #3B4455;\n",
              "      fill: #D2E3FC;\n",
              "    }\n",
              "\n",
              "    [theme=dark] .colab-df-convert:hover {\n",
              "      background-color: #434B5C;\n",
              "      box-shadow: 0px 1px 3px 1px rgba(0, 0, 0, 0.15);\n",
              "      filter: drop-shadow(0px 1px 2px rgba(0, 0, 0, 0.3));\n",
              "      fill: #FFFFFF;\n",
              "    }\n",
              "  </style>\n",
              "\n",
              "    <script>\n",
              "      const buttonEl =\n",
              "        document.querySelector('#df-9a6c52a2-2f3a-4045-9961-98945c2ba6ef button.colab-df-convert');\n",
              "      buttonEl.style.display =\n",
              "        google.colab.kernel.accessAllowed ? 'block' : 'none';\n",
              "\n",
              "      async function convertToInteractive(key) {\n",
              "        const element = document.querySelector('#df-9a6c52a2-2f3a-4045-9961-98945c2ba6ef');\n",
              "        const dataTable =\n",
              "          await google.colab.kernel.invokeFunction('convertToInteractive',\n",
              "                                                    [key], {});\n",
              "        if (!dataTable) return;\n",
              "\n",
              "        const docLinkHtml = 'Like what you see? Visit the ' +\n",
              "          '<a target=\"_blank\" href=https://colab.research.google.com/notebooks/data_table.ipynb>data table notebook</a>'\n",
              "          + ' to learn more about interactive tables.';\n",
              "        element.innerHTML = '';\n",
              "        dataTable['output_type'] = 'display_data';\n",
              "        await google.colab.output.renderOutput(dataTable, element);\n",
              "        const docLink = document.createElement('div');\n",
              "        docLink.innerHTML = docLinkHtml;\n",
              "        element.appendChild(docLink);\n",
              "      }\n",
              "    </script>\n",
              "  </div>\n",
              "\n",
              "\n",
              "<div id=\"df-7775a76f-2189-4740-9e8c-511944115940\">\n",
              "  <button class=\"colab-df-quickchart\" onclick=\"quickchart('df-7775a76f-2189-4740-9e8c-511944115940')\"\n",
              "            title=\"Suggest charts\"\n",
              "            style=\"display:none;\">\n",
              "\n",
              "<svg xmlns=\"http://www.w3.org/2000/svg\" height=\"24px\"viewBox=\"0 0 24 24\"\n",
              "     width=\"24px\">\n",
              "    <g>\n",
              "        <path d=\"M19 3H5c-1.1 0-2 .9-2 2v14c0 1.1.9 2 2 2h14c1.1 0 2-.9 2-2V5c0-1.1-.9-2-2-2zM9 17H7v-7h2v7zm4 0h-2V7h2v10zm4 0h-2v-4h2v4z\"/>\n",
              "    </g>\n",
              "</svg>\n",
              "  </button>\n",
              "\n",
              "<style>\n",
              "  .colab-df-quickchart {\n",
              "      --bg-color: #E8F0FE;\n",
              "      --fill-color: #1967D2;\n",
              "      --hover-bg-color: #E2EBFA;\n",
              "      --hover-fill-color: #174EA6;\n",
              "      --disabled-fill-color: #AAA;\n",
              "      --disabled-bg-color: #DDD;\n",
              "  }\n",
              "\n",
              "  [theme=dark] .colab-df-quickchart {\n",
              "      --bg-color: #3B4455;\n",
              "      --fill-color: #D2E3FC;\n",
              "      --hover-bg-color: #434B5C;\n",
              "      --hover-fill-color: #FFFFFF;\n",
              "      --disabled-bg-color: #3B4455;\n",
              "      --disabled-fill-color: #666;\n",
              "  }\n",
              "\n",
              "  .colab-df-quickchart {\n",
              "    background-color: var(--bg-color);\n",
              "    border: none;\n",
              "    border-radius: 50%;\n",
              "    cursor: pointer;\n",
              "    display: none;\n",
              "    fill: var(--fill-color);\n",
              "    height: 32px;\n",
              "    padding: 0;\n",
              "    width: 32px;\n",
              "  }\n",
              "\n",
              "  .colab-df-quickchart:hover {\n",
              "    background-color: var(--hover-bg-color);\n",
              "    box-shadow: 0 1px 2px rgba(60, 64, 67, 0.3), 0 1px 3px 1px rgba(60, 64, 67, 0.15);\n",
              "    fill: var(--button-hover-fill-color);\n",
              "  }\n",
              "\n",
              "  .colab-df-quickchart-complete:disabled,\n",
              "  .colab-df-quickchart-complete:disabled:hover {\n",
              "    background-color: var(--disabled-bg-color);\n",
              "    fill: var(--disabled-fill-color);\n",
              "    box-shadow: none;\n",
              "  }\n",
              "\n",
              "  .colab-df-spinner {\n",
              "    border: 2px solid var(--fill-color);\n",
              "    border-color: transparent;\n",
              "    border-bottom-color: var(--fill-color);\n",
              "    animation:\n",
              "      spin 1s steps(1) infinite;\n",
              "  }\n",
              "\n",
              "  @keyframes spin {\n",
              "    0% {\n",
              "      border-color: transparent;\n",
              "      border-bottom-color: var(--fill-color);\n",
              "      border-left-color: var(--fill-color);\n",
              "    }\n",
              "    20% {\n",
              "      border-color: transparent;\n",
              "      border-left-color: var(--fill-color);\n",
              "      border-top-color: var(--fill-color);\n",
              "    }\n",
              "    30% {\n",
              "      border-color: transparent;\n",
              "      border-left-color: var(--fill-color);\n",
              "      border-top-color: var(--fill-color);\n",
              "      border-right-color: var(--fill-color);\n",
              "    }\n",
              "    40% {\n",
              "      border-color: transparent;\n",
              "      border-right-color: var(--fill-color);\n",
              "      border-top-color: var(--fill-color);\n",
              "    }\n",
              "    60% {\n",
              "      border-color: transparent;\n",
              "      border-right-color: var(--fill-color);\n",
              "    }\n",
              "    80% {\n",
              "      border-color: transparent;\n",
              "      border-right-color: var(--fill-color);\n",
              "      border-bottom-color: var(--fill-color);\n",
              "    }\n",
              "    90% {\n",
              "      border-color: transparent;\n",
              "      border-bottom-color: var(--fill-color);\n",
              "    }\n",
              "  }\n",
              "</style>\n",
              "\n",
              "  <script>\n",
              "    async function quickchart(key) {\n",
              "      const quickchartButtonEl =\n",
              "        document.querySelector('#' + key + ' button');\n",
              "      quickchartButtonEl.disabled = true;  // To prevent multiple clicks.\n",
              "      quickchartButtonEl.classList.add('colab-df-spinner');\n",
              "      try {\n",
              "        const charts = await google.colab.kernel.invokeFunction(\n",
              "            'suggestCharts', [key], {});\n",
              "      } catch (error) {\n",
              "        console.error('Error during call to suggestCharts:', error);\n",
              "      }\n",
              "      quickchartButtonEl.classList.remove('colab-df-spinner');\n",
              "      quickchartButtonEl.classList.add('colab-df-quickchart-complete');\n",
              "    }\n",
              "    (() => {\n",
              "      let quickchartButtonEl =\n",
              "        document.querySelector('#df-7775a76f-2189-4740-9e8c-511944115940 button');\n",
              "      quickchartButtonEl.style.display =\n",
              "        google.colab.kernel.accessAllowed ? 'block' : 'none';\n",
              "    })();\n",
              "  </script>\n",
              "</div>\n",
              "    </div>\n",
              "  </div>\n"
            ],
            "application/vnd.google.colaboratory.intrinsic+json": {
              "type": "dataframe",
              "variable_name": "dataset",
              "summary": "{\n  \"name\": \"dataset\",\n  \"rows\": 517,\n  \"fields\": [\n    {\n      \"column\": \"X\",\n      \"properties\": {\n        \"dtype\": \"number\",\n        \"std\": 2,\n        \"min\": 1,\n        \"max\": 9,\n        \"num_unique_values\": 9,\n        \"samples\": [\n          1,\n          8,\n          2\n        ],\n        \"semantic_type\": \"\",\n        \"description\": \"\"\n      }\n    },\n    {\n      \"column\": \"Y\",\n      \"properties\": {\n        \"dtype\": \"number\",\n        \"std\": 1,\n        \"min\": 2,\n        \"max\": 9,\n        \"num_unique_values\": 7,\n        \"samples\": [\n          5,\n          4,\n          9\n        ],\n        \"semantic_type\": \"\",\n        \"description\": \"\"\n      }\n    },\n    {\n      \"column\": \"month\",\n      \"properties\": {\n        \"dtype\": \"category\",\n        \"num_unique_values\": 12,\n        \"samples\": [\n          \"may\",\n          \"dec\",\n          \"mar\"\n        ],\n        \"semantic_type\": \"\",\n        \"description\": \"\"\n      }\n    },\n    {\n      \"column\": \"day\",\n      \"properties\": {\n        \"dtype\": \"category\",\n        \"num_unique_values\": 7,\n        \"samples\": [\n          \"fri\",\n          \"tue\",\n          \"wed\"\n        ],\n        \"semantic_type\": \"\",\n        \"description\": \"\"\n      }\n    },\n    {\n      \"column\": \"FFMC\",\n      \"properties\": {\n        \"dtype\": \"number\",\n        \"std\": 5.520110848851269,\n        \"min\": 18.7,\n        \"max\": 96.2,\n        \"num_unique_values\": 106,\n        \"samples\": [\n          95.9,\n          90.9,\n          92.3\n        ],\n        \"semantic_type\": \"\",\n        \"description\": \"\"\n      }\n    },\n    {\n      \"column\": \"DMC\",\n      \"properties\": {\n        \"dtype\": \"number\",\n        \"std\": 64.04648224925425,\n        \"min\": 1.1,\n        \"max\": 291.3,\n        \"num_unique_values\": 215,\n        \"samples\": [\n          121.7,\n          166.9,\n          130.1\n        ],\n        \"semantic_type\": \"\",\n        \"description\": \"\"\n      }\n    },\n    {\n      \"column\": \"DC\",\n      \"properties\": {\n        \"dtype\": \"number\",\n        \"std\": 248.06619170584364,\n        \"min\": 7.9,\n        \"max\": 860.6,\n        \"num_unique_values\": 219,\n        \"samples\": [\n          458.8,\n          700.7,\n          665.6\n        ],\n        \"semantic_type\": \"\",\n        \"description\": \"\"\n      }\n    },\n    {\n      \"column\": \"ISI\",\n      \"properties\": {\n        \"dtype\": \"number\",\n        \"std\": 4.559477175216039,\n        \"min\": 0.0,\n        \"max\": 56.1,\n        \"num_unique_values\": 119,\n        \"samples\": [\n          7.9,\n          18.0,\n          14.7\n        ],\n        \"semantic_type\": \"\",\n        \"description\": \"\"\n      }\n    },\n    {\n      \"column\": \"temp\",\n      \"properties\": {\n        \"dtype\": \"number\",\n        \"std\": 5.806625349573505,\n        \"min\": 2.2,\n        \"max\": 33.3,\n        \"num_unique_values\": 192,\n        \"samples\": [\n          23.0,\n          4.8,\n          11.6\n        ],\n        \"semantic_type\": \"\",\n        \"description\": \"\"\n      }\n    },\n    {\n      \"column\": \"RH\",\n      \"properties\": {\n        \"dtype\": \"number\",\n        \"std\": 16,\n        \"min\": 15,\n        \"max\": 100,\n        \"num_unique_values\": 75,\n        \"samples\": [\n          29,\n          61,\n          72\n        ],\n        \"semantic_type\": \"\",\n        \"description\": \"\"\n      }\n    },\n    {\n      \"column\": \"wind\",\n      \"properties\": {\n        \"dtype\": \"number\",\n        \"std\": 1.7916526009464617,\n        \"min\": 0.4,\n        \"max\": 9.4,\n        \"num_unique_values\": 21,\n        \"samples\": [\n          6.7,\n          8.5,\n          6.3\n        ],\n        \"semantic_type\": \"\",\n        \"description\": \"\"\n      }\n    },\n    {\n      \"column\": \"rain\",\n      \"properties\": {\n        \"dtype\": \"number\",\n        \"std\": 0.295959120890894,\n        \"min\": 0.0,\n        \"max\": 6.4,\n        \"num_unique_values\": 7,\n        \"samples\": [\n          0.0,\n          0.2,\n          0.4\n        ],\n        \"semantic_type\": \"\",\n        \"description\": \"\"\n      }\n    },\n    {\n      \"column\": \"area\",\n      \"properties\": {\n        \"dtype\": \"number\",\n        \"std\": 63.65581846794089,\n        \"min\": 0.0,\n        \"max\": 1090.84,\n        \"num_unique_values\": 251,\n        \"samples\": [\n          7.48,\n          0.71,\n          1.72\n        ],\n        \"semantic_type\": \"\",\n        \"description\": \"\"\n      }\n    }\n  ]\n}"
            }
          },
          "metadata": {},
          "execution_count": 2
        }
      ],
      "source": [
        "dataset = pd.read_csv('forestfires.csv')\n",
        "dataset.head()"
      ]
    },
    {
      "cell_type": "code",
      "execution_count": null,
      "metadata": {
        "ExecuteTime": {
          "end_time": "2022-09-01T14:44:39.114320Z",
          "start_time": "2022-09-01T14:44:39.109317Z"
        },
        "id": "3zXLSvzmcILQ",
        "outputId": "0acf7516-6e24-466c-9f71-226e5944b7bd",
        "colab": {
          "base_uri": "https://localhost:8080/"
        }
      },
      "outputs": [
        {
          "output_type": "stream",
          "name": "stdout",
          "text": [
            "Матрица признаков\n",
            "[[7 5 'mar' 'fri' 86.2 26.2 94.3 5.1 8.2 51 6.7 0.0]\n",
            " [7 4 'oct' 'tue' 90.6 35.4 669.1 6.7 18.0 33 0.9 0.0]\n",
            " [7 4 'oct' 'sat' 90.6 43.7 686.9 6.7 14.6 33 1.3 0.0]\n",
            " [8 6 'mar' 'fri' 91.7 33.3 77.5 9.0 8.3 97 4.0 0.2]\n",
            " [8 6 'mar' 'sun' 89.3 51.3 102.2 9.6 11.4 99 1.8 0.0]]\n",
            "Зависимая переменная\n",
            "[86.2 90.6 90.6 91.7 89.3]\n"
          ]
        }
      ],
      "source": [
        "X = dataset.iloc[:, :-1].values\n",
        "y = dataset.iloc[:, 4].values\n",
        "print (\"Матрица признаков\"); print(X[:5])\n",
        "print (\"Зависимая переменная\"); print(y[:5])"
      ]
    },
    {
      "cell_type": "markdown",
      "metadata": {
        "id": "Wo6z-5SEcILQ"
      },
      "source": [
        "## Обработка пропущенных значений"
      ]
    },
    {
      "cell_type": "code",
      "execution_count": null,
      "metadata": {
        "id": "kZNxW7KCcILQ"
      },
      "outputs": [],
      "source": [
        "# from sklearn.preprocessing import Imputer\n",
        "# imputer = Imputer(missing_values = 'NaN', strategy = 'mean', axis = 0)\n",
        "# imputer = imputer.fit(X[:, 1:3])\n",
        "# X[:, 1:3] = imputer.transform(X[:, 1:3])\n",
        "# print(X)"
      ]
    },
    {
      "cell_type": "markdown",
      "metadata": {
        "id": "a78xJrb9cILQ"
      },
      "source": [
        "## Обработка категориальных данных"
      ]
    },
    {
      "cell_type": "markdown",
      "metadata": {
        "id": "2WT3AFcHcILQ"
      },
      "source": [
        "### Замена категории кодом (LabelEncoder)"
      ]
    },
    {
      "cell_type": "code",
      "execution_count": null,
      "metadata": {
        "id": "KbtoOyvNcILQ",
        "outputId": "8e9823bc-db28-4fdf-dcdd-9a53ee20ee72",
        "colab": {
          "base_uri": "https://localhost:8080/"
        }
      },
      "outputs": [
        {
          "output_type": "stream",
          "name": "stdout",
          "text": [
            "Зависимая переменная до обработки\n",
            "['fri' 'tue' 'sat' 'sun' 'mon' 'wed' 'thu']\n",
            "Зависимая переменная после обработки\n",
            "[0 5 2 0 3 3 1 1 5 2 2 2 0 1 6 0 2 1 6 2 5 1 3 2 2 3 0 1 2 3 0 1 0 3 1 5 5\n",
            " 0 2 5 5 2 5 2 6 6 1 1 1 1 4 3 6 6 4 4 5 3 1 0 3 3 4 3 1 4 0 0 0 0 0 0 0 5\n",
            " 0 4 0 1 0 5 3 3 5 6 4 4 4 4 3 2 2 0 3 3 1 3 2 2 3 3 3 5 5 2 2 0 4 3 2 1 0\n",
            " 0 3 1 5 5 2 2 1 4 1 1 3 5 0 3 1 0 6 3 2 1 3 4 5 2 3 1 5 5 1 6 0 2 6 4 1 5\n",
            " 5 4 0 3 2 0 2 3 2 6 6 0 1 4 2 2 3 4 6 6 0 4 6 6 3 1 2 2 4 3 6 5 3 1 3 1 0\n",
            " 5 3 1 2 3 0 4 5 6 5 0 4 4 5 1 5 3 3 6 2 4 2 5 0 4 2 2 0 1 2 2 3 1 6 1 3 0\n",
            " 1 0 6 3 1 2 3 2 6 3 5 5 2 3 2 5 2 3 6 0 3 3 3 3 3 6 6 6 6 6 6 4 4 4 2 2 2\n",
            " 2 1 0 0 0 0 5 5 5 5 5 5 5 5 3 6 4 1 1 1 1 0 5 3 6 0 3 6 2 2 2 2 2 0 5 5 3\n",
            " 3 3 6 2 1 1 0 0 2 3 3 3 3 3 3 3 3 6 6 6 4 4 4 4 4 4 4 4 4 2 2 2 2 2 2 2 2\n",
            " 1 1 1 1 1 1 1 1 1 1 1 1 1 1 0 0 0 0 0 0 0 0 0 0 0 0 0 0 0 0 5 5 5 5 5 2 3\n",
            " 3 6 3 4 0 2 1 2 4 3 6 4 6 4 2 3 3 4 0 0 1 0 3 5 1 3 3 3 2 6 6 4 0 4 6 5 2\n",
            " 2 0 5 0 0 1 2 3 4 5 6 3 3 6 6 3 2 2 4 4 1 4 3 4 2 4 3 0 2 1 2 2 0 0 1 1 0\n",
            " 0 3 3 6 6 3 6 0 1 4 4 1 4 6 2 2 2 2 3 5 5 2 1 6 4 3 3 0 1 2 4 4 4 3 3 1 4\n",
            " 4 3 3 3 1 5 5 5 6 6 4 0 0 2 1 1 5 5 5 5 5 5 6 6 4 0 0 0 0 0 3 3 3 3 2 5]\n"
          ]
        }
      ],
      "source": [
        "from sklearn.preprocessing import LabelEncoder\n",
        "y = dataset['day']\n",
        "\n",
        "labelencoder_y = LabelEncoder()\n",
        "\n",
        "print(\"Зависимая переменная до обработки\")\n",
        "\n",
        "print(y.unique())\n",
        "\n",
        "y = labelencoder_y.fit_transform(y)\n",
        "\n",
        "print(\"Зависимая переменная после обработки\")\n",
        "\n",
        "print(y)"
      ]
    },
    {
      "cell_type": "markdown",
      "metadata": {
        "id": "xicwpYqScILR"
      },
      "source": [
        "### Применение OneHotEncoder"
      ]
    },
    {
      "cell_type": "code",
      "execution_count": null,
      "metadata": {
        "ExecuteTime": {
          "end_time": "2022-09-01T14:44:48.559246Z",
          "start_time": "2022-09-01T14:44:48.549239Z"
        },
        "scrolled": true,
        "id": "OjvDl5bVcILR",
        "outputId": "d2c2e42b-1b74-447d-aa1c-e09f5eb849ce",
        "colab": {
          "base_uri": "https://localhost:8080/"
        }
      },
      "outputs": [
        {
          "output_type": "stream",
          "name": "stdout",
          "text": [
            "  (0, 7)\t1.0\n",
            "  (0, 12)\t1.0\n",
            "  (0, 19)\t86.2\n",
            "  (0, 20)\t26.2\n",
            "  (1, 10)\t1.0\n",
            "  (1, 17)\t1.0\n",
            "  (1, 19)\t90.6\n",
            "  (1, 20)\t35.4\n",
            "  (2, 10)\t1.0\n",
            "  (2, 14)\t1.0\n",
            "  (2, 19)\t90.6\n",
            "  (2, 20)\t43.7\n",
            "  (3, 7)\t1.0\n",
            "  (3, 12)\t1.0\n",
            "  (3, 19)\t91.7\n",
            "  (3, 20)\t33.3\n",
            "  (4, 7)\t1.0\n",
            "  (4, 15)\t1.0\n",
            "  (4, 19)\t89.3\n",
            "  (4, 20)\t51.3\n",
            "  (5, 1)\t1.0\n",
            "  (5, 15)\t1.0\n",
            "  (5, 19)\t92.3\n",
            "  (5, 20)\t85.3\n",
            "  (6, 1)\t1.0\n",
            "  :\t:\n",
            "  (510, 20)\t166.9\n",
            "  (511, 1)\t1.0\n",
            "  (511, 15)\t1.0\n",
            "  (511, 19)\t81.6\n",
            "  (511, 20)\t56.7\n",
            "  (512, 1)\t1.0\n",
            "  (512, 15)\t1.0\n",
            "  (512, 19)\t81.6\n",
            "  (512, 20)\t56.7\n",
            "  (513, 1)\t1.0\n",
            "  (513, 15)\t1.0\n",
            "  (513, 19)\t81.6\n",
            "  (513, 20)\t56.7\n",
            "  (514, 1)\t1.0\n",
            "  (514, 15)\t1.0\n",
            "  (514, 19)\t81.6\n",
            "  (514, 20)\t56.7\n",
            "  (515, 1)\t1.0\n",
            "  (515, 14)\t1.0\n",
            "  (515, 19)\t94.4\n",
            "  (515, 20)\t146.0\n",
            "  (516, 9)\t1.0\n",
            "  (516, 17)\t1.0\n",
            "  (516, 19)\t79.5\n",
            "  (516, 20)\t3.0\n"
          ]
        }
      ],
      "source": [
        " X_dirty = dataset[['month', 'day', 'FFMC', 'DMC']]\n",
        "\n",
        " from sklearn.preprocessing import OneHotEncoder\n",
        " from sklearn.compose import ColumnTransformer\n",
        " labelencoder_X = LabelEncoder()\n",
        "\n",
        " transformers = [\n",
        "    ('encoder', OneHotEncoder(), ['month', 'day']),  # Применяем OneHotEncoder к категориальным столбцам month и day\n",
        "]\n",
        "\n",
        "\n",
        " # Создаем объект ColumnTransformer и передаем ему список трансформеров\n",
        " ct = ColumnTransformer(transformers, remainder='passthrough', verbose_feature_names_out=False)\n",
        "\n",
        " # Выполняем трансформацию признаков\n",
        " X_transformed = ct.fit_transform(X_dirty)\n",
        "\n",
        " print(X_transformed)"
      ]
    },
    {
      "cell_type": "markdown",
      "metadata": {
        "id": "6PdpNjQzcILR"
      },
      "source": [
        "## Для предотвращения мультиколлениврности необходимо избавиться от одной из фиктивных переменных, добавленных в результате обработки категориальных признаков"
      ]
    },
    {
      "cell_type": "code",
      "execution_count": null,
      "metadata": {
        "ExecuteTime": {
          "end_time": "2022-09-01T14:44:53.824296Z",
          "start_time": "2022-09-01T14:44:53.820294Z"
        },
        "id": "New5gcLQcILR",
        "outputId": "289ebd01-29e7-43c6-bc8e-ffeb6a58bd16",
        "colab": {
          "base_uri": "https://localhost:8080/"
        }
      },
      "outputs": [
        {
          "output_type": "stream",
          "name": "stdout",
          "text": [
            "  (0, 6)\t1.0\n",
            "  (0, 11)\t1.0\n",
            "  (0, 18)\t86.2\n",
            "  (0, 19)\t26.2\n",
            "  (1, 9)\t1.0\n",
            "  (1, 16)\t1.0\n",
            "  (1, 18)\t90.6\n",
            "  (1, 19)\t35.4\n",
            "  (2, 9)\t1.0\n",
            "  (2, 13)\t1.0\n",
            "  (2, 18)\t90.6\n",
            "  (2, 19)\t43.7\n",
            "  (3, 6)\t1.0\n",
            "  (3, 11)\t1.0\n",
            "  (3, 18)\t91.7\n",
            "  (3, 19)\t33.3\n"
          ]
        }
      ],
      "source": [
        "X = X_transformed[:, 1:]\n",
        "print(X[:4,:])"
      ]
    },
    {
      "cell_type": "markdown",
      "metadata": {
        "collapsed": true,
        "id": "MY1UQkW_cILR"
      },
      "source": [
        "## Разделение выборки на тестовую и тренировочную"
      ]
    },
    {
      "cell_type": "code",
      "execution_count": null,
      "metadata": {
        "ExecuteTime": {
          "end_time": "2022-09-01T14:44:58.344843Z",
          "start_time": "2022-09-01T14:44:58.340840Z"
        },
        "id": "gqE3jJvlcILR",
        "outputId": "0e7c7f45-f189-48b9-f4bc-03bc72f7f08c",
        "colab": {
          "base_uri": "https://localhost:8080/"
        }
      },
      "outputs": [
        {
          "output_type": "stream",
          "name": "stdout",
          "text": [
            "X_train[:, 0] shape: (413, 20)\n",
            "y_train shape: (413,)\n",
            "X_train[:, 0] shape: (104, 20)\n",
            "y_train shape: (104,)\n"
          ]
        }
      ],
      "source": [
        "# from sklearn.cross_validation import train_test_split\n",
        "from sklearn.model_selection import train_test_split\n",
        "X_train, X_test, y_train, y_test = train_test_split(X, y, test_size = 0.2, random_state = 0)\n",
        "print(\"X_train[:, 0] shape:\", X_train.shape)\n",
        "print(\"y_train shape:\", y_train.shape)\n",
        "print(\"X_train[:, 0] shape:\", X_test.shape)\n",
        "print(\"y_train shape:\", y_test.shape)"
      ]
    },
    {
      "cell_type": "markdown",
      "metadata": {
        "id": "FCf-gLARcILR"
      },
      "source": [
        "## Обучение линейной модели регрессии"
      ]
    },
    {
      "cell_type": "code",
      "execution_count": null,
      "metadata": {
        "ExecuteTime": {
          "end_time": "2022-09-01T14:45:02.687425Z",
          "start_time": "2022-09-01T14:45:02.429075Z"
        },
        "id": "jO81HKKicILR",
        "outputId": "68d22b6a-c2ab-4ab5-eaca-4e6c7f871f84",
        "colab": {
          "base_uri": "https://localhost:8080/",
          "height": 74
        }
      },
      "outputs": [
        {
          "output_type": "execute_result",
          "data": {
            "text/plain": [
              "LinearRegression()"
            ],
            "text/html": [
              "<style>#sk-container-id-2 {color: black;background-color: white;}#sk-container-id-2 pre{padding: 0;}#sk-container-id-2 div.sk-toggleable {background-color: white;}#sk-container-id-2 label.sk-toggleable__label {cursor: pointer;display: block;width: 100%;margin-bottom: 0;padding: 0.3em;box-sizing: border-box;text-align: center;}#sk-container-id-2 label.sk-toggleable__label-arrow:before {content: \"▸\";float: left;margin-right: 0.25em;color: #696969;}#sk-container-id-2 label.sk-toggleable__label-arrow:hover:before {color: black;}#sk-container-id-2 div.sk-estimator:hover label.sk-toggleable__label-arrow:before {color: black;}#sk-container-id-2 div.sk-toggleable__content {max-height: 0;max-width: 0;overflow: hidden;text-align: left;background-color: #f0f8ff;}#sk-container-id-2 div.sk-toggleable__content pre {margin: 0.2em;color: black;border-radius: 0.25em;background-color: #f0f8ff;}#sk-container-id-2 input.sk-toggleable__control:checked~div.sk-toggleable__content {max-height: 200px;max-width: 100%;overflow: auto;}#sk-container-id-2 input.sk-toggleable__control:checked~label.sk-toggleable__label-arrow:before {content: \"▾\";}#sk-container-id-2 div.sk-estimator input.sk-toggleable__control:checked~label.sk-toggleable__label {background-color: #d4ebff;}#sk-container-id-2 div.sk-label input.sk-toggleable__control:checked~label.sk-toggleable__label {background-color: #d4ebff;}#sk-container-id-2 input.sk-hidden--visually {border: 0;clip: rect(1px 1px 1px 1px);clip: rect(1px, 1px, 1px, 1px);height: 1px;margin: -1px;overflow: hidden;padding: 0;position: absolute;width: 1px;}#sk-container-id-2 div.sk-estimator {font-family: monospace;background-color: #f0f8ff;border: 1px dotted black;border-radius: 0.25em;box-sizing: border-box;margin-bottom: 0.5em;}#sk-container-id-2 div.sk-estimator:hover {background-color: #d4ebff;}#sk-container-id-2 div.sk-parallel-item::after {content: \"\";width: 100%;border-bottom: 1px solid gray;flex-grow: 1;}#sk-container-id-2 div.sk-label:hover label.sk-toggleable__label {background-color: #d4ebff;}#sk-container-id-2 div.sk-serial::before {content: \"\";position: absolute;border-left: 1px solid gray;box-sizing: border-box;top: 0;bottom: 0;left: 50%;z-index: 0;}#sk-container-id-2 div.sk-serial {display: flex;flex-direction: column;align-items: center;background-color: white;padding-right: 0.2em;padding-left: 0.2em;position: relative;}#sk-container-id-2 div.sk-item {position: relative;z-index: 1;}#sk-container-id-2 div.sk-parallel {display: flex;align-items: stretch;justify-content: center;background-color: white;position: relative;}#sk-container-id-2 div.sk-item::before, #sk-container-id-2 div.sk-parallel-item::before {content: \"\";position: absolute;border-left: 1px solid gray;box-sizing: border-box;top: 0;bottom: 0;left: 50%;z-index: -1;}#sk-container-id-2 div.sk-parallel-item {display: flex;flex-direction: column;z-index: 1;position: relative;background-color: white;}#sk-container-id-2 div.sk-parallel-item:first-child::after {align-self: flex-end;width: 50%;}#sk-container-id-2 div.sk-parallel-item:last-child::after {align-self: flex-start;width: 50%;}#sk-container-id-2 div.sk-parallel-item:only-child::after {width: 0;}#sk-container-id-2 div.sk-dashed-wrapped {border: 1px dashed gray;margin: 0 0.4em 0.5em 0.4em;box-sizing: border-box;padding-bottom: 0.4em;background-color: white;}#sk-container-id-2 div.sk-label label {font-family: monospace;font-weight: bold;display: inline-block;line-height: 1.2em;}#sk-container-id-2 div.sk-label-container {text-align: center;}#sk-container-id-2 div.sk-container {/* jupyter's `normalize.less` sets `[hidden] { display: none; }` but bootstrap.min.css set `[hidden] { display: none !important; }` so we also need the `!important` here to be able to override the default hidden behavior on the sphinx rendered scikit-learn.org. See: https://github.com/scikit-learn/scikit-learn/issues/21755 */display: inline-block !important;position: relative;}#sk-container-id-2 div.sk-text-repr-fallback {display: none;}</style><div id=\"sk-container-id-2\" class=\"sk-top-container\"><div class=\"sk-text-repr-fallback\"><pre>LinearRegression()</pre><b>In a Jupyter environment, please rerun this cell to show the HTML representation or trust the notebook. <br />On GitHub, the HTML representation is unable to render, please try loading this page with nbviewer.org.</b></div><div class=\"sk-container\" hidden><div class=\"sk-item\"><div class=\"sk-estimator sk-toggleable\"><input class=\"sk-toggleable__control sk-hidden--visually\" id=\"sk-estimator-id-2\" type=\"checkbox\" checked><label for=\"sk-estimator-id-2\" class=\"sk-toggleable__label sk-toggleable__label-arrow\">LinearRegression</label><div class=\"sk-toggleable__content\"><pre>LinearRegression()</pre></div></div></div></div></div>"
            ]
          },
          "metadata": {},
          "execution_count": 21
        }
      ],
      "source": [
        "from sklearn.linear_model import LinearRegression\n",
        "regressor = LinearRegression()\n",
        "regressor.fit(X_train, y_train)"
      ]
    },
    {
      "cell_type": "markdown",
      "metadata": {
        "id": "ywuq0wHMcILR"
      },
      "source": [
        "### Обработка результатов, тюнинг модели"
      ]
    },
    {
      "cell_type": "markdown",
      "metadata": {
        "id": "LimBuONZcILS"
      },
      "source": [
        "#### Предсказание"
      ]
    },
    {
      "cell_type": "code",
      "execution_count": null,
      "metadata": {
        "ExecuteTime": {
          "end_time": "2022-09-01T14:45:07.721123Z",
          "start_time": "2022-09-01T14:45:07.717121Z"
        },
        "id": "bRFgE1jxcILS",
        "outputId": "ed4dbfa9-cccd-4f2a-8c34-1fe01e0851ce",
        "colab": {
          "base_uri": "https://localhost:8080/"
        }
      },
      "outputs": [
        {
          "output_type": "stream",
          "name": "stdout",
          "text": [
            "[ 1.00013130e+00  1.99993985e+00  1.00013478e+00  6.00001615e+00\n",
            "  5.99998301e+00  8.00341594e-06  1.99992540e+00  5.99999606e+00\n",
            "  3.99998809e+00  1.99969557e+00  6.00002178e+00  9.97624183e-01\n",
            "  4.00000486e+00  1.00010714e+00  1.79527650e-04 -3.25679024e-05\n",
            " -1.63966642e-06 -4.44001296e-06  5.99975575e+00  2.99996696e+00\n",
            " -5.36799240e-04  1.99991148e+00 -2.52726801e-04  1.00013478e+00\n",
            "  3.00012404e+00  1.99940309e+00  5.99995873e+00  4.99996344e+00\n",
            "  5.99999838e+00  1.00007851e+00  1.00013355e+00  3.00000116e+00\n",
            " -8.98355374e-06  1.99994167e+00  6.00007702e+00  2.99996059e+00\n",
            "  4.99991423e+00  2.99990953e+00  1.99993021e+00  2.99993253e+00\n",
            "  2.99991177e+00  4.99989152e+00  2.99992536e+00  1.99989494e+00\n",
            "  2.99993634e+00 -1.29179898e-05  3.00016014e+00  1.00007851e+00\n",
            "  5.99997700e+00 -3.17524913e-05  4.99995907e+00  1.99993936e+00\n",
            "  2.99995431e+00  3.99991805e+00  1.00013478e+00  4.99939824e+00\n",
            "  3.99968438e+00  4.30931317e-05 -3.17524913e-05  2.99992020e+00\n",
            "  1.99989532e+00  5.99995022e+00  6.00002901e+00  2.99997791e+00\n",
            "  5.99997459e+00  1.99993021e+00  2.99992020e+00  3.00000116e+00\n",
            " -2.50742004e-04  4.99992538e+00  4.99989152e+00  2.99993634e+00\n",
            "  1.99989494e+00  2.00002312e+00  6.00001615e+00  3.99988225e+00\n",
            "  1.79527650e-04  3.99989874e+00 -3.17524913e-05 -3.17524913e-05\n",
            "  1.00011123e+00  5.99995569e+00  2.77600308e-03  2.99973401e+00\n",
            "  1.99996821e+00  2.99991177e+00  2.99996696e+00  1.99991148e+00\n",
            "  3.00002276e+00  1.00013355e+00  4.99996344e+00  4.99991849e+00\n",
            " -6.15104202e-05  3.99989550e+00 -3.91305291e-06  4.99996344e+00\n",
            "  1.99969232e+00  3.99989874e+00  3.00003151e+00  1.99995219e+00\n",
            "  1.00013130e+00  2.99996059e+00 -5.60959888e-05  6.00002178e+00]\n"
          ]
        }
      ],
      "source": [
        "y_pred = regressor.predict(X_test)\n",
        "print(y_pred)"
      ]
    },
    {
      "cell_type": "markdown",
      "metadata": {
        "id": "HW0zyfvdcILS"
      },
      "source": [
        "#### Оптимизация модели"
      ]
    },
    {
      "cell_type": "code",
      "execution_count": null,
      "metadata": {
        "ExecuteTime": {
          "end_time": "2022-09-01T14:45:14.136919Z",
          "start_time": "2022-09-01T14:45:10.813099Z"
        },
        "id": "uuWiIKSvcILS",
        "outputId": "248f523b-6345-45c1-fcb2-68be58c952c1",
        "colab": {
          "base_uri": "https://localhost:8080/"
        }
      },
      "outputs": [
        {
          "output_type": "stream",
          "name": "stdout",
          "text": [
            "                            OLS Regression Results                            \n",
            "==============================================================================\n",
            "Dep. Variable:                      y   R-squared:                       0.083\n",
            "Model:                            OLS   Adj. R-squared:                  0.044\n",
            "Method:                 Least Squares   F-statistic:                     2.140\n",
            "Date:                Wed, 22 May 2024   Prob (F-statistic):             0.0818\n",
            "Time:                        08:45:29   Log-Likelihood:                -211.14\n",
            "No. Observations:                 100   AIC:                             432.3\n",
            "Df Residuals:                      95   BIC:                             445.3\n",
            "Df Model:                           4                                         \n",
            "Covariance Type:            nonrobust                                         \n",
            "==============================================================================\n",
            "                 coef    std err          t      P>|t|      [0.025      0.975]\n",
            "------------------------------------------------------------------------------\n",
            "const          3.1602      0.207     15.239      0.000       2.749       3.572\n",
            "x1            -0.0656      0.204     -0.321      0.749      -0.471       0.340\n",
            "x2             0.3915      0.186      2.108      0.038       0.023       0.760\n",
            "x3            -0.1176      0.189     -0.621      0.536      -0.494       0.259\n",
            "x4            -0.4307      0.217     -1.988      0.050      -0.861      -0.001\n",
            "==============================================================================\n",
            "Omnibus:                       23.297   Durbin-Watson:                   1.687\n",
            "Prob(Omnibus):                  0.000   Jarque-Bera (JB):                5.216\n",
            "Skew:                          -0.005   Prob(JB):                       0.0737\n",
            "Kurtosis:                       1.881   Cond. No.                         1.33\n",
            "==============================================================================\n",
            "\n",
            "Notes:\n",
            "[1] Standard Errors assume that the covariance matrix of the errors is correctly specified.\n"
          ]
        }
      ],
      "source": [
        "import statsmodels.api as sm  # Используйте правильный импорт для OLS в statsmodels\n",
        "\n",
        "# Предполагая, что X был правильно преобразован и готов к использованию (мы симулируем данные для демонстрации)\n",
        "X = np.random.randn(100, 4)  # Предположим 100 примеров, 4 признака\n",
        "\n",
        "\n",
        "# Добавляем перехват в модель\n",
        "X_with_intercept = sm.add_constant(X)  # Это добавляет столбец постоянных к входной матрице дизайна\n",
        "\n",
        "# Простая модель OLS\n",
        "y = np.random.randint(0, 7, 100)  # Предполагаем ваше преобразованное y, симулируем данные, имеющие 100 примеров\n",
        "\n",
        "# Подгоняем модель\n",
        "model = sm.OLS(y, X_with_intercept)\n",
        "results = model.fit()\n",
        "\n",
        "# Сводка по модели\n",
        "print(results.summary())"
      ]
    },
    {
      "cell_type": "code",
      "execution_count": null,
      "metadata": {
        "ExecuteTime": {
          "end_time": "2022-09-01T14:45:18.616369Z",
          "start_time": "2022-09-01T14:45:18.596355Z"
        },
        "id": "6dIlr0-0cILS",
        "outputId": "664a2937-3a18-4d01-c1ee-2e723cd276d8",
        "colab": {
          "base_uri": "https://localhost:8080/",
          "height": 490
        }
      },
      "outputs": [
        {
          "output_type": "execute_result",
          "data": {
            "text/plain": [
              "<class 'statsmodels.iolib.summary.Summary'>\n",
              "\"\"\"\n",
              "                                 OLS Regression Results                                \n",
              "=======================================================================================\n",
              "Dep. Variable:                      y   R-squared (uncentered):                   0.040\n",
              "Model:                            OLS   Adj. R-squared (uncentered):              0.010\n",
              "Method:                 Least Squares   F-statistic:                              1.346\n",
              "Date:                Wed, 22 May 2024   Prob (F-statistic):                       0.264\n",
              "Time:                        08:46:51   Log-Likelihood:                         -273.01\n",
              "No. Observations:                 100   AIC:                                      552.0\n",
              "Df Residuals:                      97   BIC:                                      559.8\n",
              "Df Model:                           3                                                  \n",
              "Covariance Type:            nonrobust                                                  \n",
              "==============================================================================\n",
              "                 coef    std err          t      P>|t|      [0.025      0.975]\n",
              "------------------------------------------------------------------------------\n",
              "x1             0.2327      0.373      0.623      0.534      -0.508       0.973\n",
              "x2             0.2257      0.340      0.663      0.509      -0.450       0.901\n",
              "x3            -0.7621      0.396     -1.926      0.057      -1.548       0.023\n",
              "==============================================================================\n",
              "Omnibus:                       16.613   Durbin-Watson:                   0.496\n",
              "Prob(Omnibus):                  0.000   Jarque-Bera (JB):                4.515\n",
              "Skew:                          -0.009   Prob(JB):                        0.105\n",
              "Kurtosis:                       1.959   Cond. No.                         1.27\n",
              "==============================================================================\n",
              "\n",
              "Notes:\n",
              "[1] R² is computed without centering (uncentered) since the model does not contain a constant.\n",
              "[2] Standard Errors assume that the covariance matrix of the errors is correctly specified.\n",
              "\"\"\""
            ],
            "text/html": [
              "<table class=\"simpletable\">\n",
              "<caption>OLS Regression Results</caption>\n",
              "<tr>\n",
              "  <th>Dep. Variable:</th>            <td>y</td>        <th>  R-squared (uncentered):</th>      <td>   0.040</td>\n",
              "</tr>\n",
              "<tr>\n",
              "  <th>Model:</th>                   <td>OLS</td>       <th>  Adj. R-squared (uncentered):</th> <td>   0.010</td>\n",
              "</tr>\n",
              "<tr>\n",
              "  <th>Method:</th>             <td>Least Squares</td>  <th>  F-statistic:       </th>          <td>   1.346</td>\n",
              "</tr>\n",
              "<tr>\n",
              "  <th>Date:</th>             <td>Wed, 22 May 2024</td> <th>  Prob (F-statistic):</th>           <td> 0.264</td> \n",
              "</tr>\n",
              "<tr>\n",
              "  <th>Time:</th>                 <td>08:46:51</td>     <th>  Log-Likelihood:    </th>          <td> -273.01</td>\n",
              "</tr>\n",
              "<tr>\n",
              "  <th>No. Observations:</th>      <td>   100</td>      <th>  AIC:               </th>          <td>   552.0</td>\n",
              "</tr>\n",
              "<tr>\n",
              "  <th>Df Residuals:</th>          <td>    97</td>      <th>  BIC:               </th>          <td>   559.8</td>\n",
              "</tr>\n",
              "<tr>\n",
              "  <th>Df Model:</th>              <td>     3</td>      <th>                     </th>              <td> </td>   \n",
              "</tr>\n",
              "<tr>\n",
              "  <th>Covariance Type:</th>      <td>nonrobust</td>    <th>                     </th>              <td> </td>   \n",
              "</tr>\n",
              "</table>\n",
              "<table class=\"simpletable\">\n",
              "<tr>\n",
              "   <td></td>     <th>coef</th>     <th>std err</th>      <th>t</th>      <th>P>|t|</th>  <th>[0.025</th>    <th>0.975]</th>  \n",
              "</tr>\n",
              "<tr>\n",
              "  <th>x1</th> <td>    0.2327</td> <td>    0.373</td> <td>    0.623</td> <td> 0.534</td> <td>   -0.508</td> <td>    0.973</td>\n",
              "</tr>\n",
              "<tr>\n",
              "  <th>x2</th> <td>    0.2257</td> <td>    0.340</td> <td>    0.663</td> <td> 0.509</td> <td>   -0.450</td> <td>    0.901</td>\n",
              "</tr>\n",
              "<tr>\n",
              "  <th>x3</th> <td>   -0.7621</td> <td>    0.396</td> <td>   -1.926</td> <td> 0.057</td> <td>   -1.548</td> <td>    0.023</td>\n",
              "</tr>\n",
              "</table>\n",
              "<table class=\"simpletable\">\n",
              "<tr>\n",
              "  <th>Omnibus:</th>       <td>16.613</td> <th>  Durbin-Watson:     </th> <td>   0.496</td>\n",
              "</tr>\n",
              "<tr>\n",
              "  <th>Prob(Omnibus):</th> <td> 0.000</td> <th>  Jarque-Bera (JB):  </th> <td>   4.515</td>\n",
              "</tr>\n",
              "<tr>\n",
              "  <th>Skew:</th>          <td>-0.009</td> <th>  Prob(JB):          </th> <td>   0.105</td>\n",
              "</tr>\n",
              "<tr>\n",
              "  <th>Kurtosis:</th>      <td> 1.959</td> <th>  Cond. No.          </th> <td>    1.27</td>\n",
              "</tr>\n",
              "</table><br/><br/>Notes:<br/>[1] R² is computed without centering (uncentered) since the model does not contain a constant.<br/>[2] Standard Errors assume that the covariance matrix of the errors is correctly specified."
            ],
            "text/latex": "\\begin{center}\n\\begin{tabular}{lclc}\n\\toprule\n\\textbf{Dep. Variable:}    &        y         & \\textbf{  R-squared (uncentered):}      &     0.040   \\\\\n\\textbf{Model:}            &       OLS        & \\textbf{  Adj. R-squared (uncentered):} &     0.010   \\\\\n\\textbf{Method:}           &  Least Squares   & \\textbf{  F-statistic:       }          &     1.346   \\\\\n\\textbf{Date:}             & Wed, 22 May 2024 & \\textbf{  Prob (F-statistic):}          &    0.264    \\\\\n\\textbf{Time:}             &     08:46:51     & \\textbf{  Log-Likelihood:    }          &   -273.01   \\\\\n\\textbf{No. Observations:} &         100      & \\textbf{  AIC:               }          &     552.0   \\\\\n\\textbf{Df Residuals:}     &          97      & \\textbf{  BIC:               }          &     559.8   \\\\\n\\textbf{Df Model:}         &           3      & \\textbf{                     }          &             \\\\\n\\textbf{Covariance Type:}  &    nonrobust     & \\textbf{                     }          &             \\\\\n\\bottomrule\n\\end{tabular}\n\\begin{tabular}{lcccccc}\n            & \\textbf{coef} & \\textbf{std err} & \\textbf{t} & \\textbf{P$> |$t$|$} & \\textbf{[0.025} & \\textbf{0.975]}  \\\\\n\\midrule\n\\textbf{x1} &       0.2327  &        0.373     &     0.623  &         0.534        &       -0.508    &        0.973     \\\\\n\\textbf{x2} &       0.2257  &        0.340     &     0.663  &         0.509        &       -0.450    &        0.901     \\\\\n\\textbf{x3} &      -0.7621  &        0.396     &    -1.926  &         0.057        &       -1.548    &        0.023     \\\\\n\\bottomrule\n\\end{tabular}\n\\begin{tabular}{lclc}\n\\textbf{Omnibus:}       & 16.613 & \\textbf{  Durbin-Watson:     } &    0.496  \\\\\n\\textbf{Prob(Omnibus):} &  0.000 & \\textbf{  Jarque-Bera (JB):  } &    4.515  \\\\\n\\textbf{Skew:}          & -0.009 & \\textbf{  Prob(JB):          } &    0.105  \\\\\n\\textbf{Kurtosis:}      &  1.959 & \\textbf{  Cond. No.          } &     1.27  \\\\\n\\bottomrule\n\\end{tabular}\n%\\caption{OLS Regression Results}\n\\end{center}\n\nNotes: \\newline\n [1] R² is computed without centering (uncentered) since the model does not contain a constant. \\newline\n [2] Standard Errors assume that the covariance matrix of the errors is correctly specified."
          },
          "metadata": {},
          "execution_count": 28
        }
      ],
      "source": [
        "X_opt = X[:, [0, 1, 3]]\n",
        "regressor_OLS = sm.OLS(endog = y, exog = X_opt).fit()\n",
        "regressor_OLS.summary()"
      ]
    },
    {
      "cell_type": "code",
      "execution_count": null,
      "metadata": {
        "ExecuteTime": {
          "end_time": "2022-09-01T14:45:23.543668Z",
          "start_time": "2022-09-01T14:45:23.509047Z"
        },
        "id": "WCDNx228cILS",
        "outputId": "7e9cd6f1-222f-43db-be41-f3cd0ba7b62f",
        "colab": {
          "base_uri": "https://localhost:8080/",
          "height": 490
        }
      },
      "outputs": [
        {
          "output_type": "execute_result",
          "data": {
            "text/plain": [
              "<class 'statsmodels.iolib.summary.Summary'>\n",
              "\"\"\"\n",
              "                                 OLS Regression Results                                \n",
              "=======================================================================================\n",
              "Dep. Variable:                      y   R-squared (uncentered):                   0.036\n",
              "Model:                            OLS   Adj. R-squared (uncentered):              0.006\n",
              "Method:                 Least Squares   F-statistic:                              1.208\n",
              "Date:                Wed, 22 May 2024   Prob (F-statistic):                       0.311\n",
              "Time:                        08:47:19   Log-Likelihood:                         -273.21\n",
              "No. Observations:                 100   AIC:                                      552.4\n",
              "Df Residuals:                      97   BIC:                                      560.2\n",
              "Df Model:                           3                                                  \n",
              "Covariance Type:            nonrobust                                                  \n",
              "==============================================================================\n",
              "                 coef    std err          t      P>|t|      [0.025      0.975]\n",
              "------------------------------------------------------------------------------\n",
              "x1             0.2063      0.372      0.555      0.580      -0.532       0.945\n",
              "x2            -0.0707      0.348     -0.203      0.840      -0.762       0.621\n",
              "x3            -0.7408      0.395     -1.875      0.064      -1.525       0.043\n",
              "==============================================================================\n",
              "Omnibus:                       26.461   Durbin-Watson:                   0.506\n",
              "Prob(Omnibus):                  0.000   Jarque-Bera (JB):                5.505\n",
              "Skew:                           0.034   Prob(JB):                       0.0638\n",
              "Kurtosis:                       1.853   Cond. No.                         1.20\n",
              "==============================================================================\n",
              "\n",
              "Notes:\n",
              "[1] R² is computed without centering (uncentered) since the model does not contain a constant.\n",
              "[2] Standard Errors assume that the covariance matrix of the errors is correctly specified.\n",
              "\"\"\""
            ],
            "text/html": [
              "<table class=\"simpletable\">\n",
              "<caption>OLS Regression Results</caption>\n",
              "<tr>\n",
              "  <th>Dep. Variable:</th>            <td>y</td>        <th>  R-squared (uncentered):</th>      <td>   0.036</td>\n",
              "</tr>\n",
              "<tr>\n",
              "  <th>Model:</th>                   <td>OLS</td>       <th>  Adj. R-squared (uncentered):</th> <td>   0.006</td>\n",
              "</tr>\n",
              "<tr>\n",
              "  <th>Method:</th>             <td>Least Squares</td>  <th>  F-statistic:       </th>          <td>   1.208</td>\n",
              "</tr>\n",
              "<tr>\n",
              "  <th>Date:</th>             <td>Wed, 22 May 2024</td> <th>  Prob (F-statistic):</th>           <td> 0.311</td> \n",
              "</tr>\n",
              "<tr>\n",
              "  <th>Time:</th>                 <td>08:47:19</td>     <th>  Log-Likelihood:    </th>          <td> -273.21</td>\n",
              "</tr>\n",
              "<tr>\n",
              "  <th>No. Observations:</th>      <td>   100</td>      <th>  AIC:               </th>          <td>   552.4</td>\n",
              "</tr>\n",
              "<tr>\n",
              "  <th>Df Residuals:</th>          <td>    97</td>      <th>  BIC:               </th>          <td>   560.2</td>\n",
              "</tr>\n",
              "<tr>\n",
              "  <th>Df Model:</th>              <td>     3</td>      <th>                     </th>              <td> </td>   \n",
              "</tr>\n",
              "<tr>\n",
              "  <th>Covariance Type:</th>      <td>nonrobust</td>    <th>                     </th>              <td> </td>   \n",
              "</tr>\n",
              "</table>\n",
              "<table class=\"simpletable\">\n",
              "<tr>\n",
              "   <td></td>     <th>coef</th>     <th>std err</th>      <th>t</th>      <th>P>|t|</th>  <th>[0.025</th>    <th>0.975]</th>  \n",
              "</tr>\n",
              "<tr>\n",
              "  <th>x1</th> <td>    0.2063</td> <td>    0.372</td> <td>    0.555</td> <td> 0.580</td> <td>   -0.532</td> <td>    0.945</td>\n",
              "</tr>\n",
              "<tr>\n",
              "  <th>x2</th> <td>   -0.0707</td> <td>    0.348</td> <td>   -0.203</td> <td> 0.840</td> <td>   -0.762</td> <td>    0.621</td>\n",
              "</tr>\n",
              "<tr>\n",
              "  <th>x3</th> <td>   -0.7408</td> <td>    0.395</td> <td>   -1.875</td> <td> 0.064</td> <td>   -1.525</td> <td>    0.043</td>\n",
              "</tr>\n",
              "</table>\n",
              "<table class=\"simpletable\">\n",
              "<tr>\n",
              "  <th>Omnibus:</th>       <td>26.461</td> <th>  Durbin-Watson:     </th> <td>   0.506</td>\n",
              "</tr>\n",
              "<tr>\n",
              "  <th>Prob(Omnibus):</th> <td> 0.000</td> <th>  Jarque-Bera (JB):  </th> <td>   5.505</td>\n",
              "</tr>\n",
              "<tr>\n",
              "  <th>Skew:</th>          <td> 0.034</td> <th>  Prob(JB):          </th> <td>  0.0638</td>\n",
              "</tr>\n",
              "<tr>\n",
              "  <th>Kurtosis:</th>      <td> 1.853</td> <th>  Cond. No.          </th> <td>    1.20</td>\n",
              "</tr>\n",
              "</table><br/><br/>Notes:<br/>[1] R² is computed without centering (uncentered) since the model does not contain a constant.<br/>[2] Standard Errors assume that the covariance matrix of the errors is correctly specified."
            ],
            "text/latex": "\\begin{center}\n\\begin{tabular}{lclc}\n\\toprule\n\\textbf{Dep. Variable:}    &        y         & \\textbf{  R-squared (uncentered):}      &     0.036   \\\\\n\\textbf{Model:}            &       OLS        & \\textbf{  Adj. R-squared (uncentered):} &     0.006   \\\\\n\\textbf{Method:}           &  Least Squares   & \\textbf{  F-statistic:       }          &     1.208   \\\\\n\\textbf{Date:}             & Wed, 22 May 2024 & \\textbf{  Prob (F-statistic):}          &    0.311    \\\\\n\\textbf{Time:}             &     08:47:19     & \\textbf{  Log-Likelihood:    }          &   -273.21   \\\\\n\\textbf{No. Observations:} &         100      & \\textbf{  AIC:               }          &     552.4   \\\\\n\\textbf{Df Residuals:}     &          97      & \\textbf{  BIC:               }          &     560.2   \\\\\n\\textbf{Df Model:}         &           3      & \\textbf{                     }          &             \\\\\n\\textbf{Covariance Type:}  &    nonrobust     & \\textbf{                     }          &             \\\\\n\\bottomrule\n\\end{tabular}\n\\begin{tabular}{lcccccc}\n            & \\textbf{coef} & \\textbf{std err} & \\textbf{t} & \\textbf{P$> |$t$|$} & \\textbf{[0.025} & \\textbf{0.975]}  \\\\\n\\midrule\n\\textbf{x1} &       0.2063  &        0.372     &     0.555  &         0.580        &       -0.532    &        0.945     \\\\\n\\textbf{x2} &      -0.0707  &        0.348     &    -0.203  &         0.840        &       -0.762    &        0.621     \\\\\n\\textbf{x3} &      -0.7408  &        0.395     &    -1.875  &         0.064        &       -1.525    &        0.043     \\\\\n\\bottomrule\n\\end{tabular}\n\\begin{tabular}{lclc}\n\\textbf{Omnibus:}       & 26.461 & \\textbf{  Durbin-Watson:     } &    0.506  \\\\\n\\textbf{Prob(Omnibus):} &  0.000 & \\textbf{  Jarque-Bera (JB):  } &    5.505  \\\\\n\\textbf{Skew:}          &  0.034 & \\textbf{  Prob(JB):          } &   0.0638  \\\\\n\\textbf{Kurtosis:}      &  1.853 & \\textbf{  Cond. No.          } &     1.20  \\\\\n\\bottomrule\n\\end{tabular}\n%\\caption{OLS Regression Results}\n\\end{center}\n\nNotes: \\newline\n [1] R² is computed without centering (uncentered) since the model does not contain a constant. \\newline\n [2] Standard Errors assume that the covariance matrix of the errors is correctly specified."
          },
          "metadata": {},
          "execution_count": 31
        }
      ],
      "source": [
        "X_opt = X[:, [0, 2, 3]]\n",
        "regressor_OLS = sm.OLS(endog = y, exog = X_opt).fit()\n",
        "regressor_OLS.summary()"
      ]
    },
    {
      "cell_type": "code",
      "execution_count": null,
      "metadata": {
        "ExecuteTime": {
          "end_time": "2022-09-01T14:45:32.850176Z",
          "start_time": "2022-09-01T14:45:32.813001Z"
        },
        "id": "pup8jUdQcILS",
        "outputId": "a50015ae-2016-4480-e4f6-5a72c447b910",
        "colab": {
          "base_uri": "https://localhost:8080/",
          "height": 469
        }
      },
      "outputs": [
        {
          "output_type": "execute_result",
          "data": {
            "text/plain": [
              "<class 'statsmodels.iolib.summary.Summary'>\n",
              "\"\"\"\n",
              "                                 OLS Regression Results                                \n",
              "=======================================================================================\n",
              "Dep. Variable:                      y   R-squared (uncentered):                   0.036\n",
              "Model:                            OLS   Adj. R-squared (uncentered):              0.016\n",
              "Method:                 Least Squares   F-statistic:                              1.809\n",
              "Date:                Wed, 22 May 2024   Prob (F-statistic):                       0.169\n",
              "Time:                        08:47:41   Log-Likelihood:                         -273.23\n",
              "No. Observations:                 100   AIC:                                      550.5\n",
              "Df Residuals:                      98   BIC:                                      555.7\n",
              "Df Model:                           2                                                  \n",
              "Covariance Type:            nonrobust                                                  \n",
              "==============================================================================\n",
              "                 coef    std err          t      P>|t|      [0.025      0.975]\n",
              "------------------------------------------------------------------------------\n",
              "x1             0.2077      0.370      0.561      0.576      -0.527       0.942\n",
              "x2            -0.7381      0.393     -1.878      0.063      -1.518       0.042\n",
              "==============================================================================\n",
              "Omnibus:                       26.112   Durbin-Watson:                   0.506\n",
              "Prob(Omnibus):                  0.000   Jarque-Bera (JB):                5.463\n",
              "Skew:                           0.017   Prob(JB):                       0.0651\n",
              "Kurtosis:                       1.855   Cond. No.                         1.17\n",
              "==============================================================================\n",
              "\n",
              "Notes:\n",
              "[1] R² is computed without centering (uncentered) since the model does not contain a constant.\n",
              "[2] Standard Errors assume that the covariance matrix of the errors is correctly specified.\n",
              "\"\"\""
            ],
            "text/html": [
              "<table class=\"simpletable\">\n",
              "<caption>OLS Regression Results</caption>\n",
              "<tr>\n",
              "  <th>Dep. Variable:</th>            <td>y</td>        <th>  R-squared (uncentered):</th>      <td>   0.036</td>\n",
              "</tr>\n",
              "<tr>\n",
              "  <th>Model:</th>                   <td>OLS</td>       <th>  Adj. R-squared (uncentered):</th> <td>   0.016</td>\n",
              "</tr>\n",
              "<tr>\n",
              "  <th>Method:</th>             <td>Least Squares</td>  <th>  F-statistic:       </th>          <td>   1.809</td>\n",
              "</tr>\n",
              "<tr>\n",
              "  <th>Date:</th>             <td>Wed, 22 May 2024</td> <th>  Prob (F-statistic):</th>           <td> 0.169</td> \n",
              "</tr>\n",
              "<tr>\n",
              "  <th>Time:</th>                 <td>08:47:41</td>     <th>  Log-Likelihood:    </th>          <td> -273.23</td>\n",
              "</tr>\n",
              "<tr>\n",
              "  <th>No. Observations:</th>      <td>   100</td>      <th>  AIC:               </th>          <td>   550.5</td>\n",
              "</tr>\n",
              "<tr>\n",
              "  <th>Df Residuals:</th>          <td>    98</td>      <th>  BIC:               </th>          <td>   555.7</td>\n",
              "</tr>\n",
              "<tr>\n",
              "  <th>Df Model:</th>              <td>     2</td>      <th>                     </th>              <td> </td>   \n",
              "</tr>\n",
              "<tr>\n",
              "  <th>Covariance Type:</th>      <td>nonrobust</td>    <th>                     </th>              <td> </td>   \n",
              "</tr>\n",
              "</table>\n",
              "<table class=\"simpletable\">\n",
              "<tr>\n",
              "   <td></td>     <th>coef</th>     <th>std err</th>      <th>t</th>      <th>P>|t|</th>  <th>[0.025</th>    <th>0.975]</th>  \n",
              "</tr>\n",
              "<tr>\n",
              "  <th>x1</th> <td>    0.2077</td> <td>    0.370</td> <td>    0.561</td> <td> 0.576</td> <td>   -0.527</td> <td>    0.942</td>\n",
              "</tr>\n",
              "<tr>\n",
              "  <th>x2</th> <td>   -0.7381</td> <td>    0.393</td> <td>   -1.878</td> <td> 0.063</td> <td>   -1.518</td> <td>    0.042</td>\n",
              "</tr>\n",
              "</table>\n",
              "<table class=\"simpletable\">\n",
              "<tr>\n",
              "  <th>Omnibus:</th>       <td>26.112</td> <th>  Durbin-Watson:     </th> <td>   0.506</td>\n",
              "</tr>\n",
              "<tr>\n",
              "  <th>Prob(Omnibus):</th> <td> 0.000</td> <th>  Jarque-Bera (JB):  </th> <td>   5.463</td>\n",
              "</tr>\n",
              "<tr>\n",
              "  <th>Skew:</th>          <td> 0.017</td> <th>  Prob(JB):          </th> <td>  0.0651</td>\n",
              "</tr>\n",
              "<tr>\n",
              "  <th>Kurtosis:</th>      <td> 1.855</td> <th>  Cond. No.          </th> <td>    1.17</td>\n",
              "</tr>\n",
              "</table><br/><br/>Notes:<br/>[1] R² is computed without centering (uncentered) since the model does not contain a constant.<br/>[2] Standard Errors assume that the covariance matrix of the errors is correctly specified."
            ],
            "text/latex": "\\begin{center}\n\\begin{tabular}{lclc}\n\\toprule\n\\textbf{Dep. Variable:}    &        y         & \\textbf{  R-squared (uncentered):}      &     0.036   \\\\\n\\textbf{Model:}            &       OLS        & \\textbf{  Adj. R-squared (uncentered):} &     0.016   \\\\\n\\textbf{Method:}           &  Least Squares   & \\textbf{  F-statistic:       }          &     1.809   \\\\\n\\textbf{Date:}             & Wed, 22 May 2024 & \\textbf{  Prob (F-statistic):}          &    0.169    \\\\\n\\textbf{Time:}             &     08:47:41     & \\textbf{  Log-Likelihood:    }          &   -273.23   \\\\\n\\textbf{No. Observations:} &         100      & \\textbf{  AIC:               }          &     550.5   \\\\\n\\textbf{Df Residuals:}     &          98      & \\textbf{  BIC:               }          &     555.7   \\\\\n\\textbf{Df Model:}         &           2      & \\textbf{                     }          &             \\\\\n\\textbf{Covariance Type:}  &    nonrobust     & \\textbf{                     }          &             \\\\\n\\bottomrule\n\\end{tabular}\n\\begin{tabular}{lcccccc}\n            & \\textbf{coef} & \\textbf{std err} & \\textbf{t} & \\textbf{P$> |$t$|$} & \\textbf{[0.025} & \\textbf{0.975]}  \\\\\n\\midrule\n\\textbf{x1} &       0.2077  &        0.370     &     0.561  &         0.576        &       -0.527    &        0.942     \\\\\n\\textbf{x2} &      -0.7381  &        0.393     &    -1.878  &         0.063        &       -1.518    &        0.042     \\\\\n\\bottomrule\n\\end{tabular}\n\\begin{tabular}{lclc}\n\\textbf{Omnibus:}       & 26.112 & \\textbf{  Durbin-Watson:     } &    0.506  \\\\\n\\textbf{Prob(Omnibus):} &  0.000 & \\textbf{  Jarque-Bera (JB):  } &    5.463  \\\\\n\\textbf{Skew:}          &  0.017 & \\textbf{  Prob(JB):          } &   0.0651  \\\\\n\\textbf{Kurtosis:}      &  1.855 & \\textbf{  Cond. No.          } &     1.17  \\\\\n\\bottomrule\n\\end{tabular}\n%\\caption{OLS Regression Results}\n\\end{center}\n\nNotes: \\newline\n [1] R² is computed without centering (uncentered) since the model does not contain a constant. \\newline\n [2] Standard Errors assume that the covariance matrix of the errors is correctly specified."
          },
          "metadata": {},
          "execution_count": 32
        }
      ],
      "source": [
        "X_opt = X[:, [0, 3]]\n",
        "regressor_OLS = sm.OLS(endog = y, exog = X_opt).fit()\n",
        "regressor_OLS.summary()"
      ]
    }
  ],
  "metadata": {
    "kernelspec": {
      "display_name": "Python 3",
      "language": "python",
      "name": "python3"
    },
    "language_info": {
      "codemirror_mode": {
        "name": "ipython",
        "version": 3
      },
      "file_extension": ".py",
      "mimetype": "text/x-python",
      "name": "python",
      "nbconvert_exporter": "python",
      "pygments_lexer": "ipython3",
      "version": "3.6.6"
    },
    "toc": {
      "base_numbering": 1,
      "nav_menu": {},
      "number_sections": true,
      "sideBar": true,
      "skip_h1_title": false,
      "title_cell": "Table of Contents",
      "title_sidebar": "Contents",
      "toc_cell": false,
      "toc_position": {
        "height": "calc(100% - 180px)",
        "left": "10px",
        "top": "150px",
        "width": "165px"
      },
      "toc_section_display": true,
      "toc_window_display": true
    },
    "colab": {
      "provenance": []
    }
  },
  "nbformat": 4,
  "nbformat_minor": 0
}