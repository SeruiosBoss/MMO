{
  "cells": [
    {
      "cell_type": "markdown",
      "metadata": {
        "id": "a8lPB0Wco3Pd"
      },
      "source": [
        "# Лабораторная работа 8. Построение пайплайна одномерной регрессии"
      ]
    },
    {
      "cell_type": "markdown",
      "metadata": {
        "id": "bwOEvD1vo3Pe"
      },
      "source": [
        "## Подключение библиотек"
      ]
    },
    {
      "cell_type": "code",
      "execution_count": null,
      "metadata": {
        "ExecuteTime": {
          "end_time": "2022-09-01T14:37:38.946376Z",
          "start_time": "2022-09-01T14:37:38.416020Z"
        },
        "id": "ANtY7CGOo3Pe"
      },
      "outputs": [],
      "source": [
        "import numpy as np\n",
        "import matplotlib.pyplot as plt\n",
        "import pandas as pd"
      ]
    },
    {
      "cell_type": "markdown",
      "metadata": {
        "id": "Rl_T817so3Pf"
      },
      "source": [
        "## Загрузка данных и разделение на матрицу признаков и зависимую переменную"
      ]
    },
    {
      "cell_type": "code",
      "execution_count": null,
      "metadata": {
        "ExecuteTime": {
          "end_time": "2022-09-01T14:37:48.005430Z",
          "start_time": "2022-09-01T14:37:47.983416Z"
        },
        "colab": {
          "base_uri": "https://localhost:8080/",
          "height": 206
        },
        "id": "5_nvx5B5o3Pf",
        "outputId": "628f1a07-8e69-4a28-8325-6ada4d7217b4"
      },
      "outputs": [
        {
          "output_type": "execute_result",
          "data": {
            "text/plain": [
              "   X  Y month  day  FFMC   DMC     DC  ISI  temp  RH  wind  rain  area\n",
              "0  7  5   mar  fri  86.2  26.2   94.3  5.1   8.2  51   6.7   0.0   0.0\n",
              "1  7  4   oct  tue  90.6  35.4  669.1  6.7  18.0  33   0.9   0.0   0.0\n",
              "2  7  4   oct  sat  90.6  43.7  686.9  6.7  14.6  33   1.3   0.0   0.0\n",
              "3  8  6   mar  fri  91.7  33.3   77.5  9.0   8.3  97   4.0   0.2   0.0\n",
              "4  8  6   mar  sun  89.3  51.3  102.2  9.6  11.4  99   1.8   0.0   0.0"
            ],
            "text/html": [
              "\n",
              "  <div id=\"df-be32b763-710c-4b76-8f97-0d607f83d19d\" class=\"colab-df-container\">\n",
              "    <div>\n",
              "<style scoped>\n",
              "    .dataframe tbody tr th:only-of-type {\n",
              "        vertical-align: middle;\n",
              "    }\n",
              "\n",
              "    .dataframe tbody tr th {\n",
              "        vertical-align: top;\n",
              "    }\n",
              "\n",
              "    .dataframe thead th {\n",
              "        text-align: right;\n",
              "    }\n",
              "</style>\n",
              "<table border=\"1\" class=\"dataframe\">\n",
              "  <thead>\n",
              "    <tr style=\"text-align: right;\">\n",
              "      <th></th>\n",
              "      <th>X</th>\n",
              "      <th>Y</th>\n",
              "      <th>month</th>\n",
              "      <th>day</th>\n",
              "      <th>FFMC</th>\n",
              "      <th>DMC</th>\n",
              "      <th>DC</th>\n",
              "      <th>ISI</th>\n",
              "      <th>temp</th>\n",
              "      <th>RH</th>\n",
              "      <th>wind</th>\n",
              "      <th>rain</th>\n",
              "      <th>area</th>\n",
              "    </tr>\n",
              "  </thead>\n",
              "  <tbody>\n",
              "    <tr>\n",
              "      <th>0</th>\n",
              "      <td>7</td>\n",
              "      <td>5</td>\n",
              "      <td>mar</td>\n",
              "      <td>fri</td>\n",
              "      <td>86.2</td>\n",
              "      <td>26.2</td>\n",
              "      <td>94.3</td>\n",
              "      <td>5.1</td>\n",
              "      <td>8.2</td>\n",
              "      <td>51</td>\n",
              "      <td>6.7</td>\n",
              "      <td>0.0</td>\n",
              "      <td>0.0</td>\n",
              "    </tr>\n",
              "    <tr>\n",
              "      <th>1</th>\n",
              "      <td>7</td>\n",
              "      <td>4</td>\n",
              "      <td>oct</td>\n",
              "      <td>tue</td>\n",
              "      <td>90.6</td>\n",
              "      <td>35.4</td>\n",
              "      <td>669.1</td>\n",
              "      <td>6.7</td>\n",
              "      <td>18.0</td>\n",
              "      <td>33</td>\n",
              "      <td>0.9</td>\n",
              "      <td>0.0</td>\n",
              "      <td>0.0</td>\n",
              "    </tr>\n",
              "    <tr>\n",
              "      <th>2</th>\n",
              "      <td>7</td>\n",
              "      <td>4</td>\n",
              "      <td>oct</td>\n",
              "      <td>sat</td>\n",
              "      <td>90.6</td>\n",
              "      <td>43.7</td>\n",
              "      <td>686.9</td>\n",
              "      <td>6.7</td>\n",
              "      <td>14.6</td>\n",
              "      <td>33</td>\n",
              "      <td>1.3</td>\n",
              "      <td>0.0</td>\n",
              "      <td>0.0</td>\n",
              "    </tr>\n",
              "    <tr>\n",
              "      <th>3</th>\n",
              "      <td>8</td>\n",
              "      <td>6</td>\n",
              "      <td>mar</td>\n",
              "      <td>fri</td>\n",
              "      <td>91.7</td>\n",
              "      <td>33.3</td>\n",
              "      <td>77.5</td>\n",
              "      <td>9.0</td>\n",
              "      <td>8.3</td>\n",
              "      <td>97</td>\n",
              "      <td>4.0</td>\n",
              "      <td>0.2</td>\n",
              "      <td>0.0</td>\n",
              "    </tr>\n",
              "    <tr>\n",
              "      <th>4</th>\n",
              "      <td>8</td>\n",
              "      <td>6</td>\n",
              "      <td>mar</td>\n",
              "      <td>sun</td>\n",
              "      <td>89.3</td>\n",
              "      <td>51.3</td>\n",
              "      <td>102.2</td>\n",
              "      <td>9.6</td>\n",
              "      <td>11.4</td>\n",
              "      <td>99</td>\n",
              "      <td>1.8</td>\n",
              "      <td>0.0</td>\n",
              "      <td>0.0</td>\n",
              "    </tr>\n",
              "  </tbody>\n",
              "</table>\n",
              "</div>\n",
              "    <div class=\"colab-df-buttons\">\n",
              "\n",
              "  <div class=\"colab-df-container\">\n",
              "    <button class=\"colab-df-convert\" onclick=\"convertToInteractive('df-be32b763-710c-4b76-8f97-0d607f83d19d')\"\n",
              "            title=\"Convert this dataframe to an interactive table.\"\n",
              "            style=\"display:none;\">\n",
              "\n",
              "  <svg xmlns=\"http://www.w3.org/2000/svg\" height=\"24px\" viewBox=\"0 -960 960 960\">\n",
              "    <path d=\"M120-120v-720h720v720H120Zm60-500h600v-160H180v160Zm220 220h160v-160H400v160Zm0 220h160v-160H400v160ZM180-400h160v-160H180v160Zm440 0h160v-160H620v160ZM180-180h160v-160H180v160Zm440 0h160v-160H620v160Z\"/>\n",
              "  </svg>\n",
              "    </button>\n",
              "\n",
              "  <style>\n",
              "    .colab-df-container {\n",
              "      display:flex;\n",
              "      gap: 12px;\n",
              "    }\n",
              "\n",
              "    .colab-df-convert {\n",
              "      background-color: #E8F0FE;\n",
              "      border: none;\n",
              "      border-radius: 50%;\n",
              "      cursor: pointer;\n",
              "      display: none;\n",
              "      fill: #1967D2;\n",
              "      height: 32px;\n",
              "      padding: 0 0 0 0;\n",
              "      width: 32px;\n",
              "    }\n",
              "\n",
              "    .colab-df-convert:hover {\n",
              "      background-color: #E2EBFA;\n",
              "      box-shadow: 0px 1px 2px rgba(60, 64, 67, 0.3), 0px 1px 3px 1px rgba(60, 64, 67, 0.15);\n",
              "      fill: #174EA6;\n",
              "    }\n",
              "\n",
              "    .colab-df-buttons div {\n",
              "      margin-bottom: 4px;\n",
              "    }\n",
              "\n",
              "    [theme=dark] .colab-df-convert {\n",
              "      background-color: #3B4455;\n",
              "      fill: #D2E3FC;\n",
              "    }\n",
              "\n",
              "    [theme=dark] .colab-df-convert:hover {\n",
              "      background-color: #434B5C;\n",
              "      box-shadow: 0px 1px 3px 1px rgba(0, 0, 0, 0.15);\n",
              "      filter: drop-shadow(0px 1px 2px rgba(0, 0, 0, 0.3));\n",
              "      fill: #FFFFFF;\n",
              "    }\n",
              "  </style>\n",
              "\n",
              "    <script>\n",
              "      const buttonEl =\n",
              "        document.querySelector('#df-be32b763-710c-4b76-8f97-0d607f83d19d button.colab-df-convert');\n",
              "      buttonEl.style.display =\n",
              "        google.colab.kernel.accessAllowed ? 'block' : 'none';\n",
              "\n",
              "      async function convertToInteractive(key) {\n",
              "        const element = document.querySelector('#df-be32b763-710c-4b76-8f97-0d607f83d19d');\n",
              "        const dataTable =\n",
              "          await google.colab.kernel.invokeFunction('convertToInteractive',\n",
              "                                                    [key], {});\n",
              "        if (!dataTable) return;\n",
              "\n",
              "        const docLinkHtml = 'Like what you see? Visit the ' +\n",
              "          '<a target=\"_blank\" href=https://colab.research.google.com/notebooks/data_table.ipynb>data table notebook</a>'\n",
              "          + ' to learn more about interactive tables.';\n",
              "        element.innerHTML = '';\n",
              "        dataTable['output_type'] = 'display_data';\n",
              "        await google.colab.output.renderOutput(dataTable, element);\n",
              "        const docLink = document.createElement('div');\n",
              "        docLink.innerHTML = docLinkHtml;\n",
              "        element.appendChild(docLink);\n",
              "      }\n",
              "    </script>\n",
              "  </div>\n",
              "\n",
              "\n",
              "<div id=\"df-f2848123-70c2-4631-8110-29cfaf283e4f\">\n",
              "  <button class=\"colab-df-quickchart\" onclick=\"quickchart('df-f2848123-70c2-4631-8110-29cfaf283e4f')\"\n",
              "            title=\"Suggest charts\"\n",
              "            style=\"display:none;\">\n",
              "\n",
              "<svg xmlns=\"http://www.w3.org/2000/svg\" height=\"24px\"viewBox=\"0 0 24 24\"\n",
              "     width=\"24px\">\n",
              "    <g>\n",
              "        <path d=\"M19 3H5c-1.1 0-2 .9-2 2v14c0 1.1.9 2 2 2h14c1.1 0 2-.9 2-2V5c0-1.1-.9-2-2-2zM9 17H7v-7h2v7zm4 0h-2V7h2v10zm4 0h-2v-4h2v4z\"/>\n",
              "    </g>\n",
              "</svg>\n",
              "  </button>\n",
              "\n",
              "<style>\n",
              "  .colab-df-quickchart {\n",
              "      --bg-color: #E8F0FE;\n",
              "      --fill-color: #1967D2;\n",
              "      --hover-bg-color: #E2EBFA;\n",
              "      --hover-fill-color: #174EA6;\n",
              "      --disabled-fill-color: #AAA;\n",
              "      --disabled-bg-color: #DDD;\n",
              "  }\n",
              "\n",
              "  [theme=dark] .colab-df-quickchart {\n",
              "      --bg-color: #3B4455;\n",
              "      --fill-color: #D2E3FC;\n",
              "      --hover-bg-color: #434B5C;\n",
              "      --hover-fill-color: #FFFFFF;\n",
              "      --disabled-bg-color: #3B4455;\n",
              "      --disabled-fill-color: #666;\n",
              "  }\n",
              "\n",
              "  .colab-df-quickchart {\n",
              "    background-color: var(--bg-color);\n",
              "    border: none;\n",
              "    border-radius: 50%;\n",
              "    cursor: pointer;\n",
              "    display: none;\n",
              "    fill: var(--fill-color);\n",
              "    height: 32px;\n",
              "    padding: 0;\n",
              "    width: 32px;\n",
              "  }\n",
              "\n",
              "  .colab-df-quickchart:hover {\n",
              "    background-color: var(--hover-bg-color);\n",
              "    box-shadow: 0 1px 2px rgba(60, 64, 67, 0.3), 0 1px 3px 1px rgba(60, 64, 67, 0.15);\n",
              "    fill: var(--button-hover-fill-color);\n",
              "  }\n",
              "\n",
              "  .colab-df-quickchart-complete:disabled,\n",
              "  .colab-df-quickchart-complete:disabled:hover {\n",
              "    background-color: var(--disabled-bg-color);\n",
              "    fill: var(--disabled-fill-color);\n",
              "    box-shadow: none;\n",
              "  }\n",
              "\n",
              "  .colab-df-spinner {\n",
              "    border: 2px solid var(--fill-color);\n",
              "    border-color: transparent;\n",
              "    border-bottom-color: var(--fill-color);\n",
              "    animation:\n",
              "      spin 1s steps(1) infinite;\n",
              "  }\n",
              "\n",
              "  @keyframes spin {\n",
              "    0% {\n",
              "      border-color: transparent;\n",
              "      border-bottom-color: var(--fill-color);\n",
              "      border-left-color: var(--fill-color);\n",
              "    }\n",
              "    20% {\n",
              "      border-color: transparent;\n",
              "      border-left-color: var(--fill-color);\n",
              "      border-top-color: var(--fill-color);\n",
              "    }\n",
              "    30% {\n",
              "      border-color: transparent;\n",
              "      border-left-color: var(--fill-color);\n",
              "      border-top-color: var(--fill-color);\n",
              "      border-right-color: var(--fill-color);\n",
              "    }\n",
              "    40% {\n",
              "      border-color: transparent;\n",
              "      border-right-color: var(--fill-color);\n",
              "      border-top-color: var(--fill-color);\n",
              "    }\n",
              "    60% {\n",
              "      border-color: transparent;\n",
              "      border-right-color: var(--fill-color);\n",
              "    }\n",
              "    80% {\n",
              "      border-color: transparent;\n",
              "      border-right-color: var(--fill-color);\n",
              "      border-bottom-color: var(--fill-color);\n",
              "    }\n",
              "    90% {\n",
              "      border-color: transparent;\n",
              "      border-bottom-color: var(--fill-color);\n",
              "    }\n",
              "  }\n",
              "</style>\n",
              "\n",
              "  <script>\n",
              "    async function quickchart(key) {\n",
              "      const quickchartButtonEl =\n",
              "        document.querySelector('#' + key + ' button');\n",
              "      quickchartButtonEl.disabled = true;  // To prevent multiple clicks.\n",
              "      quickchartButtonEl.classList.add('colab-df-spinner');\n",
              "      try {\n",
              "        const charts = await google.colab.kernel.invokeFunction(\n",
              "            'suggestCharts', [key], {});\n",
              "      } catch (error) {\n",
              "        console.error('Error during call to suggestCharts:', error);\n",
              "      }\n",
              "      quickchartButtonEl.classList.remove('colab-df-spinner');\n",
              "      quickchartButtonEl.classList.add('colab-df-quickchart-complete');\n",
              "    }\n",
              "    (() => {\n",
              "      let quickchartButtonEl =\n",
              "        document.querySelector('#df-f2848123-70c2-4631-8110-29cfaf283e4f button');\n",
              "      quickchartButtonEl.style.display =\n",
              "        google.colab.kernel.accessAllowed ? 'block' : 'none';\n",
              "    })();\n",
              "  </script>\n",
              "</div>\n",
              "    </div>\n",
              "  </div>\n"
            ],
            "application/vnd.google.colaboratory.intrinsic+json": {
              "type": "dataframe",
              "variable_name": "dataset",
              "summary": "{\n  \"name\": \"dataset\",\n  \"rows\": 517,\n  \"fields\": [\n    {\n      \"column\": \"X\",\n      \"properties\": {\n        \"dtype\": \"number\",\n        \"std\": 2,\n        \"min\": 1,\n        \"max\": 9,\n        \"num_unique_values\": 9,\n        \"samples\": [\n          1,\n          8,\n          2\n        ],\n        \"semantic_type\": \"\",\n        \"description\": \"\"\n      }\n    },\n    {\n      \"column\": \"Y\",\n      \"properties\": {\n        \"dtype\": \"number\",\n        \"std\": 1,\n        \"min\": 2,\n        \"max\": 9,\n        \"num_unique_values\": 7,\n        \"samples\": [\n          5,\n          4,\n          9\n        ],\n        \"semantic_type\": \"\",\n        \"description\": \"\"\n      }\n    },\n    {\n      \"column\": \"month\",\n      \"properties\": {\n        \"dtype\": \"category\",\n        \"num_unique_values\": 12,\n        \"samples\": [\n          \"may\",\n          \"dec\",\n          \"mar\"\n        ],\n        \"semantic_type\": \"\",\n        \"description\": \"\"\n      }\n    },\n    {\n      \"column\": \"day\",\n      \"properties\": {\n        \"dtype\": \"category\",\n        \"num_unique_values\": 7,\n        \"samples\": [\n          \"fri\",\n          \"tue\",\n          \"wed\"\n        ],\n        \"semantic_type\": \"\",\n        \"description\": \"\"\n      }\n    },\n    {\n      \"column\": \"FFMC\",\n      \"properties\": {\n        \"dtype\": \"number\",\n        \"std\": 5.520110848851269,\n        \"min\": 18.7,\n        \"max\": 96.2,\n        \"num_unique_values\": 106,\n        \"samples\": [\n          95.9,\n          90.9,\n          92.3\n        ],\n        \"semantic_type\": \"\",\n        \"description\": \"\"\n      }\n    },\n    {\n      \"column\": \"DMC\",\n      \"properties\": {\n        \"dtype\": \"number\",\n        \"std\": 64.04648224925425,\n        \"min\": 1.1,\n        \"max\": 291.3,\n        \"num_unique_values\": 215,\n        \"samples\": [\n          121.7,\n          166.9,\n          130.1\n        ],\n        \"semantic_type\": \"\",\n        \"description\": \"\"\n      }\n    },\n    {\n      \"column\": \"DC\",\n      \"properties\": {\n        \"dtype\": \"number\",\n        \"std\": 248.06619170584364,\n        \"min\": 7.9,\n        \"max\": 860.6,\n        \"num_unique_values\": 219,\n        \"samples\": [\n          458.8,\n          700.7,\n          665.6\n        ],\n        \"semantic_type\": \"\",\n        \"description\": \"\"\n      }\n    },\n    {\n      \"column\": \"ISI\",\n      \"properties\": {\n        \"dtype\": \"number\",\n        \"std\": 4.559477175216039,\n        \"min\": 0.0,\n        \"max\": 56.1,\n        \"num_unique_values\": 119,\n        \"samples\": [\n          7.9,\n          18.0,\n          14.7\n        ],\n        \"semantic_type\": \"\",\n        \"description\": \"\"\n      }\n    },\n    {\n      \"column\": \"temp\",\n      \"properties\": {\n        \"dtype\": \"number\",\n        \"std\": 5.806625349573505,\n        \"min\": 2.2,\n        \"max\": 33.3,\n        \"num_unique_values\": 192,\n        \"samples\": [\n          23.0,\n          4.8,\n          11.6\n        ],\n        \"semantic_type\": \"\",\n        \"description\": \"\"\n      }\n    },\n    {\n      \"column\": \"RH\",\n      \"properties\": {\n        \"dtype\": \"number\",\n        \"std\": 16,\n        \"min\": 15,\n        \"max\": 100,\n        \"num_unique_values\": 75,\n        \"samples\": [\n          29,\n          61,\n          72\n        ],\n        \"semantic_type\": \"\",\n        \"description\": \"\"\n      }\n    },\n    {\n      \"column\": \"wind\",\n      \"properties\": {\n        \"dtype\": \"number\",\n        \"std\": 1.7916526009464617,\n        \"min\": 0.4,\n        \"max\": 9.4,\n        \"num_unique_values\": 21,\n        \"samples\": [\n          6.7,\n          8.5,\n          6.3\n        ],\n        \"semantic_type\": \"\",\n        \"description\": \"\"\n      }\n    },\n    {\n      \"column\": \"rain\",\n      \"properties\": {\n        \"dtype\": \"number\",\n        \"std\": 0.295959120890894,\n        \"min\": 0.0,\n        \"max\": 6.4,\n        \"num_unique_values\": 7,\n        \"samples\": [\n          0.0,\n          0.2,\n          0.4\n        ],\n        \"semantic_type\": \"\",\n        \"description\": \"\"\n      }\n    },\n    {\n      \"column\": \"area\",\n      \"properties\": {\n        \"dtype\": \"number\",\n        \"std\": 63.65581846794089,\n        \"min\": 0.0,\n        \"max\": 1090.84,\n        \"num_unique_values\": 251,\n        \"samples\": [\n          7.48,\n          0.71,\n          1.72\n        ],\n        \"semantic_type\": \"\",\n        \"description\": \"\"\n      }\n    }\n  ]\n}"
            }
          },
          "metadata": {},
          "execution_count": 21
        }
      ],
      "source": [
        "dataset = pd.read_csv('forestfires.csv')\n",
        "dataset.head()"
      ]
    },
    {
      "cell_type": "code",
      "execution_count": null,
      "metadata": {
        "ExecuteTime": {
          "end_time": "2022-09-01T14:37:50.668211Z",
          "start_time": "2022-09-01T14:37:50.655202Z"
        },
        "colab": {
          "base_uri": "https://localhost:8080/"
        },
        "id": "6Iz0nqNWo3Pf",
        "outputId": "93410d5b-1548-4cef-dade-8d3451a2de2f"
      },
      "outputs": [
        {
          "output_type": "stream",
          "name": "stdout",
          "text": [
            "Матрица признаков\n",
            "[[7 5 'mar' 'fri' 86.2 26.2 94.3 5.1 8.2 51 6.7 0.0]\n",
            " [7 4 'oct' 'tue' 90.6 35.4 669.1 6.7 18.0 33 0.9 0.0]\n",
            " [7 4 'oct' 'sat' 90.6 43.7 686.9 6.7 14.6 33 1.3 0.0]\n",
            " [8 6 'mar' 'fri' 91.7 33.3 77.5 9.0 8.3 97 4.0 0.2]\n",
            " [8 6 'mar' 'sun' 89.3 51.3 102.2 9.6 11.4 99 1.8 0.0]]\n",
            "Зависимая переменная\n",
            "[5 4 4 6 6]\n"
          ]
        }
      ],
      "source": [
        "X = dataset.iloc[:, :-1].values\n",
        "y = dataset.iloc[:, 1].values\n",
        "print (\"Матрица признаков\"); print(X[:5])\n",
        "print (\"Зависимая переменная\"); print(y[:5])"
      ]
    },
    {
      "cell_type": "markdown",
      "metadata": {
        "id": "HQzmL2aEo3Pf"
      },
      "source": [
        "## Обработка пропущенных значений (если требуется)"
      ]
    },
    {
      "cell_type": "code",
      "execution_count": null,
      "metadata": {
        "ExecuteTime": {
          "end_time": "2022-09-01T14:39:04.538306Z",
          "start_time": "2022-09-01T14:39:04.535306Z"
        },
        "id": "vatWbn9ro3Pf"
      },
      "outputs": [],
      "source": [
        "# from sklearn.preprocessing import Imputer\n",
        "# imputer = Imputer(missing_values = 'NaN', strategy = 'mean', axis = 0)\n",
        "# imputer = imputer.fit(X[:, 1:3])\n",
        "# X[:, 1:3] = imputer.transform(X[:, 1:3])\n",
        "# print(X)"
      ]
    },
    {
      "cell_type": "markdown",
      "metadata": {
        "id": "1XeAzS_to3Pf"
      },
      "source": [
        "## Обработка категориальных данных (если требуется)"
      ]
    },
    {
      "cell_type": "markdown",
      "metadata": {
        "id": "VSxNW8Aio3Pf"
      },
      "source": [
        "### Замена категории кодом (LabelEncoder)"
      ]
    },
    {
      "cell_type": "code",
      "execution_count": null,
      "metadata": {
        "id": "f-SFfrano3Pg"
      },
      "outputs": [],
      "source": [
        "from sklearn.preprocessing import LabelEncoder\n",
        "y = dataset['day']\n",
        "\n",
        "labelencoder_y = LabelEncoder()\n",
        "\n",
        "print(\"Зависимая переменная до обработки\")\n",
        "\n",
        "print(y.unique())\n",
        "\n",
        "y = labelencoder_y.fit_transform(y)\n",
        "\n",
        "print(\"Зависимая переменная после обработки\")\n",
        "\n",
        "print(y)"
      ]
    },
    {
      "cell_type": "markdown",
      "metadata": {
        "id": "hs9xXAVio3Pg"
      },
      "source": [
        "### Применение OneHotEncoder"
      ]
    },
    {
      "cell_type": "code",
      "execution_count": null,
      "metadata": {
        "scrolled": true,
        "colab": {
          "base_uri": "https://localhost:8080/"
        },
        "id": "xYnuwK-5o3Pg",
        "outputId": "f7069df0-5e4e-4b14-c539-08c7348d427c"
      },
      "outputs": [
        {
          "output_type": "stream",
          "name": "stdout",
          "text": [
            "  (0, 7)\t1.0\n",
            "  (0, 12)\t1.0\n",
            "  (0, 19)\t86.2\n",
            "  (0, 20)\t26.2\n",
            "  (1, 10)\t1.0\n",
            "  (1, 17)\t1.0\n",
            "  (1, 19)\t90.6\n",
            "  (1, 20)\t35.4\n",
            "  (2, 10)\t1.0\n",
            "  (2, 14)\t1.0\n",
            "  (2, 19)\t90.6\n",
            "  (2, 20)\t43.7\n",
            "  (3, 7)\t1.0\n",
            "  (3, 12)\t1.0\n",
            "  (3, 19)\t91.7\n",
            "  (3, 20)\t33.3\n",
            "  (4, 7)\t1.0\n",
            "  (4, 15)\t1.0\n",
            "  (4, 19)\t89.3\n",
            "  (4, 20)\t51.3\n",
            "  (5, 1)\t1.0\n",
            "  (5, 15)\t1.0\n",
            "  (5, 19)\t92.3\n",
            "  (5, 20)\t85.3\n",
            "  (6, 1)\t1.0\n",
            "  :\t:\n",
            "  (510, 20)\t166.9\n",
            "  (511, 1)\t1.0\n",
            "  (511, 15)\t1.0\n",
            "  (511, 19)\t81.6\n",
            "  (511, 20)\t56.7\n",
            "  (512, 1)\t1.0\n",
            "  (512, 15)\t1.0\n",
            "  (512, 19)\t81.6\n",
            "  (512, 20)\t56.7\n",
            "  (513, 1)\t1.0\n",
            "  (513, 15)\t1.0\n",
            "  (513, 19)\t81.6\n",
            "  (513, 20)\t56.7\n",
            "  (514, 1)\t1.0\n",
            "  (514, 15)\t1.0\n",
            "  (514, 19)\t81.6\n",
            "  (514, 20)\t56.7\n",
            "  (515, 1)\t1.0\n",
            "  (515, 14)\t1.0\n",
            "  (515, 19)\t94.4\n",
            "  (515, 20)\t146.0\n",
            "  (516, 9)\t1.0\n",
            "  (516, 17)\t1.0\n",
            "  (516, 19)\t79.5\n",
            "  (516, 20)\t3.0\n"
          ]
        }
      ],
      "source": [
        " X_dirty = dataset[['month', 'day', 'FFMC', 'DMC']]\n",
        "\n",
        " from sklearn.preprocessing import OneHotEncoder\n",
        " from sklearn.compose import ColumnTransformer\n",
        " labelencoder_X = LabelEncoder()\n",
        "\n",
        " transformers = [\n",
        "    ('encoder', OneHotEncoder(), ['month', 'day']),  # Применяем OneHotEncoder к категориальным столбцам month и day\n",
        "]\n",
        "\n",
        "\n",
        " # Создаем объект ColumnTransformer и передаем ему список трансформеров\n",
        " ct = ColumnTransformer(transformers, remainder='passthrough', verbose_feature_names_out=False)\n",
        "\n",
        " # Выполняем трансформацию признаков\n",
        " X_transformed = ct.fit_transform(X_dirty)\n",
        "\n",
        " print(X_transformed)"
      ]
    },
    {
      "cell_type": "markdown",
      "metadata": {
        "collapsed": true,
        "id": "fOPBSbNGo3Pg"
      },
      "source": [
        "## Разделение выборки на тестовую и тренировочную"
      ]
    },
    {
      "cell_type": "code",
      "execution_count": null,
      "metadata": {
        "ExecuteTime": {
          "end_time": "2022-09-01T14:39:31.585348Z",
          "start_time": "2022-09-01T14:39:30.143150Z"
        },
        "colab": {
          "base_uri": "https://localhost:8080/"
        },
        "id": "VTU4SiRUo3Pg",
        "outputId": "340d2584-1dac-4632-cb6e-dc964b0e9935"
      },
      "outputs": [
        {
          "output_type": "stream",
          "name": "stdout",
          "text": [
            "X_train[:, 0] shape: (387, 1)\n",
            "y_train shape: (387,)\n",
            "X_train[:, 0] shape: (130, 1)\n",
            "y_train shape: (130,)\n"
          ]
        }
      ],
      "source": [
        "# from sklearn.cross_validation import train_test_split\n",
        "from sklearn.model_selection import train_test_split\n",
        "X_train, X_test, y_train, y_test = train_test_split(X_transformed, y, test_size = 1/4, random_state = 0)\n",
        "print(\"X_train[:, 0] shape:\", X_train[:, 0].shape)\n",
        "\n",
        "print(\"y_train shape:\", y_train.shape)\n",
        "print(\"X_train[:, 0] shape:\", X_test[:, 0].shape)\n",
        "\n",
        "print(\"y_train shape:\", y_test.shape)"
      ]
    },
    {
      "cell_type": "markdown",
      "metadata": {
        "id": "bWv5XEvGo3Pg"
      },
      "source": [
        "## Обучение линейной модели регрессии"
      ]
    },
    {
      "cell_type": "code",
      "execution_count": null,
      "metadata": {
        "ExecuteTime": {
          "end_time": "2022-09-01T14:39:46.784542Z",
          "start_time": "2022-09-01T14:39:44.606639Z"
        },
        "colab": {
          "base_uri": "https://localhost:8080/",
          "height": 74
        },
        "id": "2VZMdr9Yo3Pg",
        "outputId": "1cb4568c-93b3-4307-b9db-c27253c08d45"
      },
      "outputs": [
        {
          "output_type": "execute_result",
          "data": {
            "text/plain": [
              "LinearRegression()"
            ],
            "text/html": [
              "<style>#sk-container-id-3 {color: black;background-color: white;}#sk-container-id-3 pre{padding: 0;}#sk-container-id-3 div.sk-toggleable {background-color: white;}#sk-container-id-3 label.sk-toggleable__label {cursor: pointer;display: block;width: 100%;margin-bottom: 0;padding: 0.3em;box-sizing: border-box;text-align: center;}#sk-container-id-3 label.sk-toggleable__label-arrow:before {content: \"▸\";float: left;margin-right: 0.25em;color: #696969;}#sk-container-id-3 label.sk-toggleable__label-arrow:hover:before {color: black;}#sk-container-id-3 div.sk-estimator:hover label.sk-toggleable__label-arrow:before {color: black;}#sk-container-id-3 div.sk-toggleable__content {max-height: 0;max-width: 0;overflow: hidden;text-align: left;background-color: #f0f8ff;}#sk-container-id-3 div.sk-toggleable__content pre {margin: 0.2em;color: black;border-radius: 0.25em;background-color: #f0f8ff;}#sk-container-id-3 input.sk-toggleable__control:checked~div.sk-toggleable__content {max-height: 200px;max-width: 100%;overflow: auto;}#sk-container-id-3 input.sk-toggleable__control:checked~label.sk-toggleable__label-arrow:before {content: \"▾\";}#sk-container-id-3 div.sk-estimator input.sk-toggleable__control:checked~label.sk-toggleable__label {background-color: #d4ebff;}#sk-container-id-3 div.sk-label input.sk-toggleable__control:checked~label.sk-toggleable__label {background-color: #d4ebff;}#sk-container-id-3 input.sk-hidden--visually {border: 0;clip: rect(1px 1px 1px 1px);clip: rect(1px, 1px, 1px, 1px);height: 1px;margin: -1px;overflow: hidden;padding: 0;position: absolute;width: 1px;}#sk-container-id-3 div.sk-estimator {font-family: monospace;background-color: #f0f8ff;border: 1px dotted black;border-radius: 0.25em;box-sizing: border-box;margin-bottom: 0.5em;}#sk-container-id-3 div.sk-estimator:hover {background-color: #d4ebff;}#sk-container-id-3 div.sk-parallel-item::after {content: \"\";width: 100%;border-bottom: 1px solid gray;flex-grow: 1;}#sk-container-id-3 div.sk-label:hover label.sk-toggleable__label {background-color: #d4ebff;}#sk-container-id-3 div.sk-serial::before {content: \"\";position: absolute;border-left: 1px solid gray;box-sizing: border-box;top: 0;bottom: 0;left: 50%;z-index: 0;}#sk-container-id-3 div.sk-serial {display: flex;flex-direction: column;align-items: center;background-color: white;padding-right: 0.2em;padding-left: 0.2em;position: relative;}#sk-container-id-3 div.sk-item {position: relative;z-index: 1;}#sk-container-id-3 div.sk-parallel {display: flex;align-items: stretch;justify-content: center;background-color: white;position: relative;}#sk-container-id-3 div.sk-item::before, #sk-container-id-3 div.sk-parallel-item::before {content: \"\";position: absolute;border-left: 1px solid gray;box-sizing: border-box;top: 0;bottom: 0;left: 50%;z-index: -1;}#sk-container-id-3 div.sk-parallel-item {display: flex;flex-direction: column;z-index: 1;position: relative;background-color: white;}#sk-container-id-3 div.sk-parallel-item:first-child::after {align-self: flex-end;width: 50%;}#sk-container-id-3 div.sk-parallel-item:last-child::after {align-self: flex-start;width: 50%;}#sk-container-id-3 div.sk-parallel-item:only-child::after {width: 0;}#sk-container-id-3 div.sk-dashed-wrapped {border: 1px dashed gray;margin: 0 0.4em 0.5em 0.4em;box-sizing: border-box;padding-bottom: 0.4em;background-color: white;}#sk-container-id-3 div.sk-label label {font-family: monospace;font-weight: bold;display: inline-block;line-height: 1.2em;}#sk-container-id-3 div.sk-label-container {text-align: center;}#sk-container-id-3 div.sk-container {/* jupyter's `normalize.less` sets `[hidden] { display: none; }` but bootstrap.min.css set `[hidden] { display: none !important; }` so we also need the `!important` here to be able to override the default hidden behavior on the sphinx rendered scikit-learn.org. See: https://github.com/scikit-learn/scikit-learn/issues/21755 */display: inline-block !important;position: relative;}#sk-container-id-3 div.sk-text-repr-fallback {display: none;}</style><div id=\"sk-container-id-3\" class=\"sk-top-container\"><div class=\"sk-text-repr-fallback\"><pre>LinearRegression()</pre><b>In a Jupyter environment, please rerun this cell to show the HTML representation or trust the notebook. <br />On GitHub, the HTML representation is unable to render, please try loading this page with nbviewer.org.</b></div><div class=\"sk-container\" hidden><div class=\"sk-item\"><div class=\"sk-estimator sk-toggleable\"><input class=\"sk-toggleable__control sk-hidden--visually\" id=\"sk-estimator-id-3\" type=\"checkbox\" checked><label for=\"sk-estimator-id-3\" class=\"sk-toggleable__label sk-toggleable__label-arrow\">LinearRegression</label><div class=\"sk-toggleable__content\"><pre>LinearRegression()</pre></div></div></div></div></div>"
            ]
          },
          "metadata": {},
          "execution_count": 59
        }
      ],
      "source": [
        "from sklearn.linear_model import LinearRegression\n",
        "regressor = LinearRegression()\n",
        "regressor.fit(X_train, y_train)"
      ]
    },
    {
      "cell_type": "markdown",
      "metadata": {
        "id": "IFT7bdE4o3Ph"
      },
      "source": [
        "## Предсказание, обработка и визуализация результатов"
      ]
    },
    {
      "cell_type": "code",
      "execution_count": null,
      "metadata": {
        "ExecuteTime": {
          "end_time": "2022-09-01T14:39:55.195658Z",
          "start_time": "2022-09-01T14:39:55.142004Z"
        },
        "colab": {
          "base_uri": "https://localhost:8080/"
        },
        "id": "z2J6UwKWo3Ph",
        "outputId": "187532ef-26f6-48f4-ae16-3e7fa4ed9a40"
      },
      "outputs": [
        {
          "output_type": "stream",
          "name": "stdout",
          "text": [
            "[4.68595432 4.64332766 4.10530536 4.30777154 4.37104161 3.98979654\n",
            " 4.59204023 4.31985871 4.44938084 3.79576868 4.40136091 5.10264141\n",
            " 4.76915948 4.60393193 4.44244285 3.99850077 4.06655699 4.01735184\n",
            " 3.98438004 4.71998817 4.28385525 3.98836934 3.6893342  4.10530536\n",
            " 4.56197289 4.35796287 4.15276695 3.97192373 4.26625506 3.96282894\n",
            " 4.10751803 4.33269522 3.95462449 4.11130553 4.52016134 4.23362655\n",
            " 4.39367951 4.0768059  4.03226847 4.13309105 4.19855224 3.80463814\n",
            " 4.08054734 3.94464019 4.08319372 3.94572744 5.24228012 3.96282894\n",
            " 4.29888875 3.90156358 4.0253183  4.0664485  4.71013373 4.17549463\n",
            " 4.10530536 4.15329482 3.94137749 4.42063495 3.90156358 4.14380515\n",
            " 4.04718426 4.20242836 4.71591171 4.17682549 4.22914535 4.03226847\n",
            " 4.14380515 4.33269522 3.67666389 3.88613006 3.80463814 4.08319372\n",
            " 3.94464019 4.33396046 4.30777154 4.65822764 4.44244285 4.21854787\n",
            " 3.90156358 3.90156358 4.04590001 4.24504289 4.3978746  3.9172935\n",
            " 4.88851664 4.19855224 4.71998817 3.98836934 4.38284401 4.10751803\n",
            " 3.97192373 3.88182731 3.86193936 4.12296319 4.55519821 3.97192373\n",
            " 3.78064051 4.21854787 4.71700498 4.07898495 4.68595432 4.23362655\n",
            " 3.82170647 4.40136091 4.09628947 3.78567805 4.51903744 4.71013373\n",
            " 3.96806471 4.23362655 4.17549463 3.82170647 4.38776552 4.01454232\n",
            " 4.43598014 3.68209151 3.90116975 4.74743626 4.58854165 3.98079116\n",
            " 4.17977693 4.10751803 3.99745938 3.90116975 4.66723047 4.57551873\n",
            " 4.13309105 4.66570061 4.61492577 4.54598291]\n"
          ]
        }
      ],
      "source": [
        "y_pred = regressor.predict(X_test)\n",
        "print(y_pred)"
      ]
    },
    {
      "cell_type": "code",
      "execution_count": null,
      "metadata": {
        "ExecuteTime": {
          "end_time": "2022-09-01T14:39:57.121715Z",
          "start_time": "2022-09-01T14:39:56.509973Z"
        },
        "colab": {
          "base_uri": "https://localhost:8080/",
          "height": 472
        },
        "id": "D7UxHs2_o3Ph",
        "outputId": "aec5ac5d-7cab-433f-fe98-653133e051e6"
      },
      "outputs": [
        {
          "output_type": "display_data",
          "data": {
            "text/plain": [
              "<Figure size 640x480 with 1 Axes>"
            ],
            "image/png": "[encoded data removed]"
          },
          "metadata": {}
        }
      ],
      "source": [
        "# Преобразование csr_matrix в NumPy массив\n",
        "X_train_dense = X_train.toarray()\n",
        "\n",
        "# Теперь можно применить ravel() к первому столбцу\n",
        "\n",
        "X_train_0 = X_train_dense[:, 0].ravel()\n",
        "plt.scatter(X_train_0, y_train, color='red')\n",
        "plt.plot(X_train_0, regressor.predict(X_train), color='blue')\n",
        "\n",
        "plt.title('Зависимость целевой переменной от первого признака')\n",
        "\n",
        "plt.xlabel('Первый признак')\n",
        "\n",
        "plt.ylabel('Значение y')\n",
        "\n",
        "plt.show()"
      ]
    },
    {
      "cell_type": "code",
      "execution_count": null,
      "metadata": {
        "ExecuteTime": {
          "end_time": "2022-09-01T14:39:59.261075Z",
          "start_time": "2022-09-01T14:39:59.117979Z"
        },
        "colab": {
          "base_uri": "https://localhost:8080/",
          "height": 472
        },
        "id": "1zpO9JZNo3Ph",
        "outputId": "7382e2ca-4735-42a3-8689-3937b1d05965"
      },
      "outputs": [
        {
          "output_type": "display_data",
          "data": {
            "text/plain": [
              "<Figure size 640x480 with 1 Axes>"
            ],
            "image/png": "[encoded data removed]"
          },
          "metadata": {}
        }
      ],
      "source": [
        "# Преобразование csr_matrix в NumPy массив\n",
        "X_test_dense = X_test.toarray()\n",
        "\n",
        "# Преобразование данных к одномерному массиву\n",
        "X_test_0 = X_test_dense[:, 0].ravel()\n",
        "\n",
        "# Получение предсказаний для тестовой выборки\n",
        "y_pred_test = regressor.predict(X_test_dense)\n",
        "\n",
        "plt.scatter(X_test_0, y_test, color='red')\n",
        "plt.plot(X_test_0, y_pred_test, color='blue')\n",
        "plt.title('Зависимость целевой переменной от первого признака (тестовый набор)')\n",
        "plt.xlabel('Первый признак')\n",
        "plt.ylabel('Значение y')\n",
        "plt.show()"
      ]
    }
  ],
  "metadata": {
    "kernelspec": {
      "display_name": "Python 3",
      "language": "python",
      "name": "python3"
    },
    "language_info": {
      "codemirror_mode": {
        "name": "ipython",
        "version": 3
      },
      "file_extension": ".py",
      "mimetype": "text/x-python",
      "name": "python",
      "nbconvert_exporter": "python",
      "pygments_lexer": "ipython3",
      "version": "3.6.6"
    },
    "toc": {
      "base_numbering": 1,
      "nav_menu": {},
      "number_sections": true,
      "sideBar": true,
      "skip_h1_title": false,
      "title_cell": "Table of Contents",
      "title_sidebar": "Contents",
      "toc_cell": false,
      "toc_position": {},
      "toc_section_display": true,
      "toc_window_display": false
    },
    "colab": {
      "provenance": []
    }
  },
  "nbformat": 4,
  "nbformat_minor": 0
}