{
  "cells": [
    {
      "cell_type": "markdown",
      "metadata": {
        "hide_input": true,
        "id": "u46hdSRKcILO"
      },
      "source": [
        "# Лабораторная работа 9. Использование разработанного пайплайна для многомерной регрессии"
      ]
    },
    {
      "cell_type": "markdown",
      "metadata": {
        "id": "XroOEyv6cILP"
      },
      "source": [
        "## Подключение библиотек"
      ]
    },
    {
      "cell_type": "code",
      "execution_count": null,
      "metadata": {
        "ExecuteTime": {
          "end_time": "2022-09-01T14:41:43.745356Z",
          "start_time": "2022-09-01T14:41:43.742352Z"
        },
        "id": "AZxwLq1NcILP"
      },
      "outputs": [],
      "source": [
        "import numpy as np\n",
        "import matplotlib.pyplot as plt\n",
        "import pandas as pd"
      ]
    },
    {
      "cell_type": "markdown",
      "metadata": {
        "id": "p7lW86pHcILQ"
      },
      "source": [
        "## Загрузка данных и разделение на матрицу признаков и зависимую переменную"
      ]
    },
    {
      "cell_type": "code",
      "execution_count": null,
      "metadata": {
        "ExecuteTime": {
          "end_time": "2022-09-01T14:42:17.286692Z",
          "start_time": "2022-09-01T14:42:17.270681Z"
        },
        "colab": {
          "base_uri": "https://localhost:8080/",
          "height": 342
        },
        "id": "GmuJ6-okcILQ",
        "outputId": "80eab421-fa3a-47cb-d1b3-bfd7f2220985"
      },
      "outputs": [
        {
          "output_type": "execute_result",
          "data": {
            "text/plain": [
              "   symboling  normalized-losses         make fuel-type aspiration  \\\n",
              "0          3                123  alfa-romero       gas        std   \n",
              "1          3                123  alfa-romero       gas        std   \n",
              "2          1                123  alfa-romero       gas        std   \n",
              "3          2                164         audi       gas        std   \n",
              "4          2                164         audi       gas        std   \n",
              "\n",
              "  num-of-doors   body-style drive-wheels engine-location  wheel-base  ...  \\\n",
              "0          two  convertible          rwd           front        88.6  ...   \n",
              "1          two  convertible          rwd           front        88.6  ...   \n",
              "2          two    hatchback          rwd           front        94.5  ...   \n",
              "3         four        sedan          fwd           front        99.8  ...   \n",
              "4         four        sedan          4wd           front        99.4  ...   \n",
              "\n",
              "   engine-size  fuel-system  bore  stroke compression-ratio horsepower  \\\n",
              "0          130         mpfi  3.47    2.68               9.0        111   \n",
              "1          130         mpfi  3.47    2.68               9.0        111   \n",
              "2          152         mpfi  2.68    3.47               9.0        154   \n",
              "3          109         mpfi  3.19    3.40              10.0        102   \n",
              "4          136         mpfi  3.19    3.40               8.0        115   \n",
              "\n",
              "   peak-rpm city-mpg  highway-mpg  price  \n",
              "0      5000       21           27  13495  \n",
              "1      5000       21           27  16500  \n",
              "2      5000       19           26  16500  \n",
              "3      5500       24           30  13950  \n",
              "4      5500       18           22  17450  \n",
              "\n",
              "[5 rows x 26 columns]"
            ],
            "text/html": [
              "\n",
              "  <div id=\"df-b4b3a7e8-7706-4bba-8ae0-3358d63574fb\" class=\"colab-df-container\">\n",
              "    <div>\n",
              "<style scoped>\n",
              "    .dataframe tbody tr th:only-of-type {\n",
              "        vertical-align: middle;\n",
              "    }\n",
              "\n",
              "    .dataframe tbody tr th {\n",
              "        vertical-align: top;\n",
              "    }\n",
              "\n",
              "    .dataframe thead th {\n",
              "        text-align: right;\n",
              "    }\n",
              "</style>\n",
              "<table border=\"1\" class=\"dataframe\">\n",
              "  <thead>\n",
              "    <tr style=\"text-align: right;\">\n",
              "      <th></th>\n",
              "      <th>symboling</th>\n",
              "      <th>normalized-losses</th>\n",
              "      <th>make</th>\n",
              "      <th>fuel-type</th>\n",
              "      <th>aspiration</th>\n",
              "      <th>num-of-doors</th>\n",
              "      <th>body-style</th>\n",
              "      <th>drive-wheels</th>\n",
              "      <th>engine-location</th>\n",
              "      <th>wheel-base</th>\n",
              "      <th>...</th>\n",
              "      <th>engine-size</th>\n",
              "      <th>fuel-system</th>\n",
              "      <th>bore</th>\n",
              "      <th>stroke</th>\n",
              "      <th>compression-ratio</th>\n",
              "      <th>horsepower</th>\n",
              "      <th>peak-rpm</th>\n",
              "      <th>city-mpg</th>\n",
              "      <th>highway-mpg</th>\n",
              "      <th>price</th>\n",
              "    </tr>\n",
              "  </thead>\n",
              "  <tbody>\n",
              "    <tr>\n",
              "      <th>0</th>\n",
              "      <td>3</td>\n",
              "      <td>123</td>\n",
              "      <td>alfa-romero</td>\n",
              "      <td>gas</td>\n",
              "      <td>std</td>\n",
              "      <td>two</td>\n",
              "      <td>convertible</td>\n",
              "      <td>rwd</td>\n",
              "      <td>front</td>\n",
              "      <td>88.6</td>\n",
              "      <td>...</td>\n",
              "      <td>130</td>\n",
              "      <td>mpfi</td>\n",
              "      <td>3.47</td>\n",
              "      <td>2.68</td>\n",
              "      <td>9.0</td>\n",
              "      <td>111</td>\n",
              "      <td>5000</td>\n",
              "      <td>21</td>\n",
              "      <td>27</td>\n",
              "      <td>13495</td>\n",
              "    </tr>\n",
              "    <tr>\n",
              "      <th>1</th>\n",
              "      <td>3</td>\n",
              "      <td>123</td>\n",
              "      <td>alfa-romero</td>\n",
              "      <td>gas</td>\n",
              "      <td>std</td>\n",
              "      <td>two</td>\n",
              "      <td>convertible</td>\n",
              "      <td>rwd</td>\n",
              "      <td>front</td>\n",
              "      <td>88.6</td>\n",
              "      <td>...</td>\n",
              "      <td>130</td>\n",
              "      <td>mpfi</td>\n",
              "      <td>3.47</td>\n",
              "      <td>2.68</td>\n",
              "      <td>9.0</td>\n",
              "      <td>111</td>\n",
              "      <td>5000</td>\n",
              "      <td>21</td>\n",
              "      <td>27</td>\n",
              "      <td>16500</td>\n",
              "    </tr>\n",
              "    <tr>\n",
              "      <th>2</th>\n",
              "      <td>1</td>\n",
              "      <td>123</td>\n",
              "      <td>alfa-romero</td>\n",
              "      <td>gas</td>\n",
              "      <td>std</td>\n",
              "      <td>two</td>\n",
              "      <td>hatchback</td>\n",
              "      <td>rwd</td>\n",
              "      <td>front</td>\n",
              "      <td>94.5</td>\n",
              "      <td>...</td>\n",
              "      <td>152</td>\n",
              "      <td>mpfi</td>\n",
              "      <td>2.68</td>\n",
              "      <td>3.47</td>\n",
              "      <td>9.0</td>\n",
              "      <td>154</td>\n",
              "      <td>5000</td>\n",
              "      <td>19</td>\n",
              "      <td>26</td>\n",
              "      <td>16500</td>\n",
              "    </tr>\n",
              "    <tr>\n",
              "      <th>3</th>\n",
              "      <td>2</td>\n",
              "      <td>164</td>\n",
              "      <td>audi</td>\n",
              "      <td>gas</td>\n",
              "      <td>std</td>\n",
              "      <td>four</td>\n",
              "      <td>sedan</td>\n",
              "      <td>fwd</td>\n",
              "      <td>front</td>\n",
              "      <td>99.8</td>\n",
              "      <td>...</td>\n",
              "      <td>109</td>\n",
              "      <td>mpfi</td>\n",
              "      <td>3.19</td>\n",
              "      <td>3.40</td>\n",
              "      <td>10.0</td>\n",
              "      <td>102</td>\n",
              "      <td>5500</td>\n",
              "      <td>24</td>\n",
              "      <td>30</td>\n",
              "      <td>13950</td>\n",
              "    </tr>\n",
              "    <tr>\n",
              "      <th>4</th>\n",
              "      <td>2</td>\n",
              "      <td>164</td>\n",
              "      <td>audi</td>\n",
              "      <td>gas</td>\n",
              "      <td>std</td>\n",
              "      <td>four</td>\n",
              "      <td>sedan</td>\n",
              "      <td>4wd</td>\n",
              "      <td>front</td>\n",
              "      <td>99.4</td>\n",
              "      <td>...</td>\n",
              "      <td>136</td>\n",
              "      <td>mpfi</td>\n",
              "      <td>3.19</td>\n",
              "      <td>3.40</td>\n",
              "      <td>8.0</td>\n",
              "      <td>115</td>\n",
              "      <td>5500</td>\n",
              "      <td>18</td>\n",
              "      <td>22</td>\n",
              "      <td>17450</td>\n",
              "    </tr>\n",
              "  </tbody>\n",
              "</table>\n",
              "<p>5 rows × 26 columns</p>\n",
              "</div>\n",
              "    <div class=\"colab-df-buttons\">\n",
              "\n",
              "  <div class=\"colab-df-container\">\n",
              "    <button class=\"colab-df-convert\" onclick=\"convertToInteractive('df-b4b3a7e8-7706-4bba-8ae0-3358d63574fb')\"\n",
              "            title=\"Convert this dataframe to an interactive table.\"\n",
              "            style=\"display:none;\">\n",
              "\n",
              "  <svg xmlns=\"http://www.w3.org/2000/svg\" height=\"24px\" viewBox=\"0 -960 960 960\">\n",
              "    <path d=\"M120-120v-720h720v720H120Zm60-500h600v-160H180v160Zm220 220h160v-160H400v160Zm0 220h160v-160H400v160ZM180-400h160v-160H180v160Zm440 0h160v-160H620v160ZM180-180h160v-160H180v160Zm440 0h160v-160H620v160Z\"/>\n",
              "  </svg>\n",
              "    </button>\n",
              "\n",
              "  <style>\n",
              "    .colab-df-container {\n",
              "      display:flex;\n",
              "      gap: 12px;\n",
              "    }\n",
              "\n",
              "    .colab-df-convert {\n",
              "      background-color: #E8F0FE;\n",
              "      border: none;\n",
              "      border-radius: 50%;\n",
              "      cursor: pointer;\n",
              "      display: none;\n",
              "      fill: #1967D2;\n",
              "      height: 32px;\n",
              "      padding: 0 0 0 0;\n",
              "      width: 32px;\n",
              "    }\n",
              "\n",
              "    .colab-df-convert:hover {\n",
              "      background-color: #E2EBFA;\n",
              "      box-shadow: 0px 1px 2px rgba(60, 64, 67, 0.3), 0px 1px 3px 1px rgba(60, 64, 67, 0.15);\n",
              "      fill: #174EA6;\n",
              "    }\n",
              "\n",
              "    .colab-df-buttons div {\n",
              "      margin-bottom: 4px;\n",
              "    }\n",
              "\n",
              "    [theme=dark] .colab-df-convert {\n",
              "      background-color: #3B4455;\n",
              "      fill: #D2E3FC;\n",
              "    }\n",
              "\n",
              "    [theme=dark] .colab-df-convert:hover {\n",
              "      background-color: #434B5C;\n",
              "      box-shadow: 0px 1px 3px 1px rgba(0, 0, 0, 0.15);\n",
              "      filter: drop-shadow(0px 1px 2px rgba(0, 0, 0, 0.3));\n",
              "      fill: #FFFFFF;\n",
              "    }\n",
              "  </style>\n",
              "\n",
              "    <script>\n",
              "      const buttonEl =\n",
              "        document.querySelector('#df-b4b3a7e8-7706-4bba-8ae0-3358d63574fb button.colab-df-convert');\n",
              "      buttonEl.style.display =\n",
              "        google.colab.kernel.accessAllowed ? 'block' : 'none';\n",
              "\n",
              "      async function convertToInteractive(key) {\n",
              "        const element = document.querySelector('#df-b4b3a7e8-7706-4bba-8ae0-3358d63574fb');\n",
              "        const dataTable =\n",
              "          await google.colab.kernel.invokeFunction('convertToInteractive',\n",
              "                                                    [key], {});\n",
              "        if (!dataTable) return;\n",
              "\n",
              "        const docLinkHtml = 'Like what you see? Visit the ' +\n",
              "          '<a target=\"_blank\" href=https://colab.research.google.com/notebooks/data_table.ipynb>data table notebook</a>'\n",
              "          + ' to learn more about interactive tables.';\n",
              "        element.innerHTML = '';\n",
              "        dataTable['output_type'] = 'display_data';\n",
              "        await google.colab.output.renderOutput(dataTable, element);\n",
              "        const docLink = document.createElement('div');\n",
              "        docLink.innerHTML = docLinkHtml;\n",
              "        element.appendChild(docLink);\n",
              "      }\n",
              "    </script>\n",
              "  </div>\n",
              "\n",
              "\n",
              "<div id=\"df-a3f7b187-48d7-46c2-b9b7-d1c406726913\">\n",
              "  <button class=\"colab-df-quickchart\" onclick=\"quickchart('df-a3f7b187-48d7-46c2-b9b7-d1c406726913')\"\n",
              "            title=\"Suggest charts\"\n",
              "            style=\"display:none;\">\n",
              "\n",
              "<svg xmlns=\"http://www.w3.org/2000/svg\" height=\"24px\"viewBox=\"0 0 24 24\"\n",
              "     width=\"24px\">\n",
              "    <g>\n",
              "        <path d=\"M19 3H5c-1.1 0-2 .9-2 2v14c0 1.1.9 2 2 2h14c1.1 0 2-.9 2-2V5c0-1.1-.9-2-2-2zM9 17H7v-7h2v7zm4 0h-2V7h2v10zm4 0h-2v-4h2v4z\"/>\n",
              "    </g>\n",
              "</svg>\n",
              "  </button>\n",
              "\n",
              "<style>\n",
              "  .colab-df-quickchart {\n",
              "      --bg-color: #E8F0FE;\n",
              "      --fill-color: #1967D2;\n",
              "      --hover-bg-color: #E2EBFA;\n",
              "      --hover-fill-color: #174EA6;\n",
              "      --disabled-fill-color: #AAA;\n",
              "      --disabled-bg-color: #DDD;\n",
              "  }\n",
              "\n",
              "  [theme=dark] .colab-df-quickchart {\n",
              "      --bg-color: #3B4455;\n",
              "      --fill-color: #D2E3FC;\n",
              "      --hover-bg-color: #434B5C;\n",
              "      --hover-fill-color: #FFFFFF;\n",
              "      --disabled-bg-color: #3B4455;\n",
              "      --disabled-fill-color: #666;\n",
              "  }\n",
              "\n",
              "  .colab-df-quickchart {\n",
              "    background-color: var(--bg-color);\n",
              "    border: none;\n",
              "    border-radius: 50%;\n",
              "    cursor: pointer;\n",
              "    display: none;\n",
              "    fill: var(--fill-color);\n",
              "    height: 32px;\n",
              "    padding: 0;\n",
              "    width: 32px;\n",
              "  }\n",
              "\n",
              "  .colab-df-quickchart:hover {\n",
              "    background-color: var(--hover-bg-color);\n",
              "    box-shadow: 0 1px 2px rgba(60, 64, 67, 0.3), 0 1px 3px 1px rgba(60, 64, 67, 0.15);\n",
              "    fill: var(--button-hover-fill-color);\n",
              "  }\n",
              "\n",
              "  .colab-df-quickchart-complete:disabled,\n",
              "  .colab-df-quickchart-complete:disabled:hover {\n",
              "    background-color: var(--disabled-bg-color);\n",
              "    fill: var(--disabled-fill-color);\n",
              "    box-shadow: none;\n",
              "  }\n",
              "\n",
              "  .colab-df-spinner {\n",
              "    border: 2px solid var(--fill-color);\n",
              "    border-color: transparent;\n",
              "    border-bottom-color: var(--fill-color);\n",
              "    animation:\n",
              "      spin 1s steps(1) infinite;\n",
              "  }\n",
              "\n",
              "  @keyframes spin {\n",
              "    0% {\n",
              "      border-color: transparent;\n",
              "      border-bottom-color: var(--fill-color);\n",
              "      border-left-color: var(--fill-color);\n",
              "    }\n",
              "    20% {\n",
              "      border-color: transparent;\n",
              "      border-left-color: var(--fill-color);\n",
              "      border-top-color: var(--fill-color);\n",
              "    }\n",
              "    30% {\n",
              "      border-color: transparent;\n",
              "      border-left-color: var(--fill-color);\n",
              "      border-top-color: var(--fill-color);\n",
              "      border-right-color: var(--fill-color);\n",
              "    }\n",
              "    40% {\n",
              "      border-color: transparent;\n",
              "      border-right-color: var(--fill-color);\n",
              "      border-top-color: var(--fill-color);\n",
              "    }\n",
              "    60% {\n",
              "      border-color: transparent;\n",
              "      border-right-color: var(--fill-color);\n",
              "    }\n",
              "    80% {\n",
              "      border-color: transparent;\n",
              "      border-right-color: var(--fill-color);\n",
              "      border-bottom-color: var(--fill-color);\n",
              "    }\n",
              "    90% {\n",
              "      border-color: transparent;\n",
              "      border-bottom-color: var(--fill-color);\n",
              "    }\n",
              "  }\n",
              "</style>\n",
              "\n",
              "  <script>\n",
              "    async function quickchart(key) {\n",
              "      const quickchartButtonEl =\n",
              "        document.querySelector('#' + key + ' button');\n",
              "      quickchartButtonEl.disabled = true;  // To prevent multiple clicks.\n",
              "      quickchartButtonEl.classList.add('colab-df-spinner');\n",
              "      try {\n",
              "        const charts = await google.colab.kernel.invokeFunction(\n",
              "            'suggestCharts', [key], {});\n",
              "      } catch (error) {\n",
              "        console.error('Error during call to suggestCharts:', error);\n",
              "      }\n",
              "      quickchartButtonEl.classList.remove('colab-df-spinner');\n",
              "      quickchartButtonEl.classList.add('colab-df-quickchart-complete');\n",
              "    }\n",
              "    (() => {\n",
              "      let quickchartButtonEl =\n",
              "        document.querySelector('#df-a3f7b187-48d7-46c2-b9b7-d1c406726913 button');\n",
              "      quickchartButtonEl.style.display =\n",
              "        google.colab.kernel.accessAllowed ? 'block' : 'none';\n",
              "    })();\n",
              "  </script>\n",
              "</div>\n",
              "    </div>\n",
              "  </div>\n"
            ],
            "application/vnd.google.colaboratory.intrinsic+json": {
              "type": "dataframe",
              "variable_name": "dataset"
            }
          },
          "metadata": {},
          "execution_count": 33
        }
      ],
      "source": [
        "dataset = pd.read_csv('imports-85.data')\n",
        "dataset.head()"
      ]
    },
    {
      "cell_type": "code",
      "execution_count": null,
      "metadata": {
        "ExecuteTime": {
          "end_time": "2022-09-01T14:44:39.114320Z",
          "start_time": "2022-09-01T14:44:39.109317Z"
        },
        "colab": {
          "base_uri": "https://localhost:8080/"
        },
        "id": "3zXLSvzmcILQ",
        "outputId": "c4edb5a6-bcb2-45fb-ef54-497495530b79"
      },
      "outputs": [
        {
          "output_type": "stream",
          "name": "stdout",
          "text": [
            "Матрица признаков\n",
            "[[3 123 'alfa-romero' 'gas' 'std' 'two' 'convertible' 'rwd' 'front' 88.6\n",
            "  168.8 64.1 48.8 2548 'dohc' 'four' 130 'mpfi' 3.47 2.68 9.0 111 5000 21\n",
            "  27]\n",
            " [3 123 'alfa-romero' 'gas' 'std' 'two' 'convertible' 'rwd' 'front' 88.6\n",
            "  168.8 64.1 48.8 2548 'dohc' 'four' 130 'mpfi' 3.47 2.68 9.0 111 5000 21\n",
            "  27]\n",
            " [1 123 'alfa-romero' 'gas' 'std' 'two' 'hatchback' 'rwd' 'front' 94.5\n",
            "  171.2 65.5 52.4 2823 'ohcv' 'six' 152 'mpfi' 2.68 3.47 9.0 154 5000 19\n",
            "  26]\n",
            " [2 164 'audi' 'gas' 'std' 'four' 'sedan' 'fwd' 'front' 99.8 176.6 66.2\n",
            "  54.3 2337 'ohc' 'four' 109 'mpfi' 3.19 3.4 10.0 102 5500 24 30]\n",
            " [2 164 'audi' 'gas' 'std' 'four' 'sedan' '4wd' 'front' 99.4 176.6 66.4\n",
            "  54.3 2824 'ohc' 'five' 136 'mpfi' 3.19 3.4 8.0 115 5500 18 22]]\n",
            "Зависимая переменная\n",
            "['std' 'std' 'std' 'std' 'std']\n"
          ]
        }
      ],
      "source": [
        "X = dataset.iloc[:, :-1].values\n",
        "y = dataset.iloc[:, 4].values\n",
        "print (\"Матрица признаков\"); print(X[:5])\n",
        "print (\"Зависимая переменная\"); print(y[:5])"
      ]
    },
    {
      "cell_type": "markdown",
      "metadata": {
        "id": "Wo6z-5SEcILQ"
      },
      "source": [
        "## Обработка пропущенных значений"
      ]
    },
    {
      "cell_type": "code",
      "execution_count": null,
      "metadata": {
        "id": "kZNxW7KCcILQ"
      },
      "outputs": [],
      "source": [
        "# from sklearn.preprocessing import Imputer\n",
        "# imputer = Imputer(missing_values = 'NaN', strategy = 'mean', axis = 0)\n",
        "# imputer = imputer.fit(X[:, 1:3])\n",
        "# X[:, 1:3] = imputer.transform(X[:, 1:3])\n",
        "# print(X)"
      ]
    },
    {
      "cell_type": "markdown",
      "metadata": {
        "id": "a78xJrb9cILQ"
      },
      "source": [
        "## Обработка категориальных данных"
      ]
    },
    {
      "cell_type": "markdown",
      "metadata": {
        "id": "2WT3AFcHcILQ"
      },
      "source": [
        "### Замена категории кодом (LabelEncoder)"
      ]
    },
    {
      "cell_type": "code",
      "execution_count": null,
      "metadata": {
        "colab": {
          "base_uri": "https://localhost:8080/"
        },
        "id": "KbtoOyvNcILQ",
        "outputId": "323761a6-2773-44c5-d569-9a1ed2cb980d"
      },
      "outputs": [
        {
          "output_type": "stream",
          "name": "stdout",
          "text": [
            "Зависимая переменная до обработки\n",
            "['gas' 'diesel']\n",
            "Зависимая переменная после обработки\n",
            "[1 1 1 1 1 1 1 1 1 1 1 1 1 1 1 1 1 1 1 1 1 1 1 1 1 1 1 1 1 1 1 1 1 1 1 1 1\n",
            " 1 1 1 1 1 1 1 1 1 1 1 1 1 1 1 1 1 1 1 1 1 1 1 1 1 1 0 1 1 0 0 0 0 0 1 1 1\n",
            " 1 1 1 1 1 1 1 1 1 1 1 1 1 1 1 1 0 1 1 1 1 1 1 1 1 1 1 1 1 1 1 1 1 1 0 1 0\n",
            " 1 0 1 0 1 0 1 1 1 1 1 1 1 1 1 1 1 1 1 1 1 1 1 1 1 1 1 1 1 1 1 1 1 1 1 1 1\n",
            " 1 1 1 1 1 1 1 1 1 1 0 0 1 1 1 1 1 1 1 1 1 1 1 1 1 1 0 1 1 1 1 1 1 1 0 1 0\n",
            " 1 1 0 1 1 1 1 0 1 1 1 1 1 1 1 1 1 1 0 1]\n"
          ]
        }
      ],
      "source": [
        "from sklearn.preprocessing import LabelEncoder\n",
        "y = dataset['fuel-type']\n",
        "\n",
        "labelencoder_y = LabelEncoder()\n",
        "\n",
        "print(\"Зависимая переменная до обработки\")\n",
        "\n",
        "print(y.unique())\n",
        "\n",
        "y = labelencoder_y.fit_transform(y)\n",
        "\n",
        "print(\"Зависимая переменная после обработки\")\n",
        "\n",
        "print(y)"
      ]
    },
    {
      "cell_type": "markdown",
      "metadata": {
        "id": "xicwpYqScILR"
      },
      "source": [
        "### Применение OneHotEncoder"
      ]
    },
    {
      "cell_type": "code",
      "execution_count": null,
      "metadata": {
        "ExecuteTime": {
          "end_time": "2022-09-01T14:44:48.559246Z",
          "start_time": "2022-09-01T14:44:48.549239Z"
        },
        "scrolled": true,
        "colab": {
          "base_uri": "https://localhost:8080/"
        },
        "id": "OjvDl5bVcILR",
        "outputId": "97ee8b4e-ca7e-4197-daa2-add30d89efac"
      },
      "outputs": [
        {
          "output_type": "stream",
          "name": "stdout",
          "text": [
            "  (0, 0)\t1.0\n",
            "  (0, 23)\t1.0\n",
            "  (0, 24)\t111.0\n",
            "  (0, 25)\t13495.0\n",
            "  (1, 0)\t1.0\n",
            "  (1, 23)\t1.0\n",
            "  (1, 24)\t111.0\n",
            "  (1, 25)\t16500.0\n",
            "  (2, 0)\t1.0\n",
            "  (2, 23)\t1.0\n",
            "  (2, 24)\t154.0\n",
            "  (2, 25)\t16500.0\n",
            "  (3, 1)\t1.0\n",
            "  (3, 23)\t1.0\n",
            "  (3, 24)\t102.0\n",
            "  (3, 25)\t13950.0\n",
            "  (4, 1)\t1.0\n",
            "  (4, 23)\t1.0\n",
            "  (4, 24)\t115.0\n",
            "  (4, 25)\t17450.0\n",
            "  (5, 1)\t1.0\n",
            "  (5, 23)\t1.0\n",
            "  (5, 24)\t110.0\n",
            "  (5, 25)\t15250.0\n",
            "  (6, 1)\t1.0\n",
            "  :\t:\n",
            "  (198, 25)\t18420.0\n",
            "  (199, 21)\t1.0\n",
            "  (199, 23)\t1.0\n",
            "  (199, 24)\t162.0\n",
            "  (199, 25)\t18950.0\n",
            "  (200, 21)\t1.0\n",
            "  (200, 23)\t1.0\n",
            "  (200, 24)\t114.0\n",
            "  (200, 25)\t16845.0\n",
            "  (201, 21)\t1.0\n",
            "  (201, 23)\t1.0\n",
            "  (201, 24)\t160.0\n",
            "  (201, 25)\t19045.0\n",
            "  (202, 21)\t1.0\n",
            "  (202, 23)\t1.0\n",
            "  (202, 24)\t134.0\n",
            "  (202, 25)\t21485.0\n",
            "  (203, 21)\t1.0\n",
            "  (203, 22)\t1.0\n",
            "  (203, 24)\t106.0\n",
            "  (203, 25)\t22470.0\n",
            "  (204, 21)\t1.0\n",
            "  (204, 23)\t1.0\n",
            "  (204, 24)\t114.0\n",
            "  (204, 25)\t22625.0\n"
          ]
        }
      ],
      "source": [
        " X_dirty = dataset[['make', 'fuel-type', 'horsepower', 'price']]\n",
        "\n",
        " from sklearn.preprocessing import OneHotEncoder\n",
        " from sklearn.compose import ColumnTransformer\n",
        " labelencoder_X = LabelEncoder()\n",
        "\n",
        " transformers = [\n",
        "    ('encoder', OneHotEncoder(), ['make', 'fuel-type']),  # Применяем OneHotEncoder к категориальным столбцам month и day\n",
        "]\n",
        "\n",
        "\n",
        " # Создаем объект ColumnTransformer и передаем ему список трансформеров\n",
        " ct = ColumnTransformer(transformers, remainder='passthrough', verbose_feature_names_out=False)\n",
        "\n",
        " # Выполняем трансформацию признаков\n",
        " X_transformed = ct.fit_transform(X_dirty)\n",
        "\n",
        " print(X_transformed)"
      ]
    },
    {
      "cell_type": "markdown",
      "metadata": {
        "id": "6PdpNjQzcILR"
      },
      "source": [
        "## Для предотвращения мультиколлениврности необходимо избавиться от одной из фиктивных переменных, добавленных в результате обработки категориальных признаков"
      ]
    },
    {
      "cell_type": "code",
      "execution_count": null,
      "metadata": {
        "ExecuteTime": {
          "end_time": "2022-09-01T14:44:53.824296Z",
          "start_time": "2022-09-01T14:44:53.820294Z"
        },
        "colab": {
          "base_uri": "https://localhost:8080/"
        },
        "id": "New5gcLQcILR",
        "outputId": "cdc7e79e-e189-4701-904e-b4fd95375661"
      },
      "outputs": [
        {
          "output_type": "stream",
          "name": "stdout",
          "text": [
            "  (0, 22)\t1.0\n",
            "  (0, 23)\t111.0\n",
            "  (0, 24)\t13495.0\n",
            "  (1, 22)\t1.0\n",
            "  (1, 23)\t111.0\n",
            "  (1, 24)\t16500.0\n",
            "  (2, 22)\t1.0\n",
            "  (2, 23)\t154.0\n",
            "  (2, 24)\t16500.0\n",
            "  (3, 0)\t1.0\n",
            "  (3, 22)\t1.0\n",
            "  (3, 23)\t102.0\n",
            "  (3, 24)\t13950.0\n"
          ]
        }
      ],
      "source": [
        "X = X_transformed[:, 1:]\n",
        "print(X[:4,:])"
      ]
    },
    {
      "cell_type": "markdown",
      "metadata": {
        "collapsed": true,
        "id": "MY1UQkW_cILR"
      },
      "source": [
        "## Разделение выборки на тестовую и тренировочную"
      ]
    },
    {
      "cell_type": "code",
      "execution_count": null,
      "metadata": {
        "ExecuteTime": {
          "end_time": "2022-09-01T14:44:58.344843Z",
          "start_time": "2022-09-01T14:44:58.340840Z"
        },
        "colab": {
          "base_uri": "https://localhost:8080/"
        },
        "id": "gqE3jJvlcILR",
        "outputId": "eb34595e-bab3-4d66-cf8c-394cd37a93a8"
      },
      "outputs": [
        {
          "output_type": "stream",
          "name": "stdout",
          "text": [
            "X_train[:, 0] shape: (164, 25)\n",
            "y_train shape: (164,)\n",
            "X_train[:, 0] shape: (41, 25)\n",
            "y_train shape: (41,)\n"
          ]
        }
      ],
      "source": [
        "# from sklearn.cross_validation import train_test_split\n",
        "from sklearn.model_selection import train_test_split\n",
        "X_train, X_test, y_train, y_test = train_test_split(X, y, test_size = 0.2, random_state = 0)\n",
        "print(\"X_train[:, 0] shape:\", X_train.shape)\n",
        "print(\"y_train shape:\", y_train.shape)\n",
        "print(\"X_train[:, 0] shape:\", X_test.shape)\n",
        "print(\"y_train shape:\", y_test.shape)"
      ]
    },
    {
      "cell_type": "markdown",
      "metadata": {
        "id": "FCf-gLARcILR"
      },
      "source": [
        "## Обучение линейной модели регрессии"
      ]
    },
    {
      "cell_type": "code",
      "execution_count": null,
      "metadata": {
        "ExecuteTime": {
          "end_time": "2022-09-01T14:45:02.687425Z",
          "start_time": "2022-09-01T14:45:02.429075Z"
        },
        "colab": {
          "base_uri": "https://localhost:8080/",
          "height": 74
        },
        "id": "jO81HKKicILR",
        "outputId": "95bceb55-2201-4a5a-a33f-df5d27005cc9"
      },
      "outputs": [
        {
          "output_type": "execute_result",
          "data": {
            "text/plain": [
              "LinearRegression()"
            ],
            "text/html": [
              "<style>#sk-container-id-3 {color: black;background-color: white;}#sk-container-id-3 pre{padding: 0;}#sk-container-id-3 div.sk-toggleable {background-color: white;}#sk-container-id-3 label.sk-toggleable__label {cursor: pointer;display: block;width: 100%;margin-bottom: 0;padding: 0.3em;box-sizing: border-box;text-align: center;}#sk-container-id-3 label.sk-toggleable__label-arrow:before {content: \"▸\";float: left;margin-right: 0.25em;color: #696969;}#sk-container-id-3 label.sk-toggleable__label-arrow:hover:before {color: black;}#sk-container-id-3 div.sk-estimator:hover label.sk-toggleable__label-arrow:before {color: black;}#sk-container-id-3 div.sk-toggleable__content {max-height: 0;max-width: 0;overflow: hidden;text-align: left;background-color: #f0f8ff;}#sk-container-id-3 div.sk-toggleable__content pre {margin: 0.2em;color: black;border-radius: 0.25em;background-color: #f0f8ff;}#sk-container-id-3 input.sk-toggleable__control:checked~div.sk-toggleable__content {max-height: 200px;max-width: 100%;overflow: auto;}#sk-container-id-3 input.sk-toggleable__control:checked~label.sk-toggleable__label-arrow:before {content: \"▾\";}#sk-container-id-3 div.sk-estimator input.sk-toggleable__control:checked~label.sk-toggleable__label {background-color: #d4ebff;}#sk-container-id-3 div.sk-label input.sk-toggleable__control:checked~label.sk-toggleable__label {background-color: #d4ebff;}#sk-container-id-3 input.sk-hidden--visually {border: 0;clip: rect(1px 1px 1px 1px);clip: rect(1px, 1px, 1px, 1px);height: 1px;margin: -1px;overflow: hidden;padding: 0;position: absolute;width: 1px;}#sk-container-id-3 div.sk-estimator {font-family: monospace;background-color: #f0f8ff;border: 1px dotted black;border-radius: 0.25em;box-sizing: border-box;margin-bottom: 0.5em;}#sk-container-id-3 div.sk-estimator:hover {background-color: #d4ebff;}#sk-container-id-3 div.sk-parallel-item::after {content: \"\";width: 100%;border-bottom: 1px solid gray;flex-grow: 1;}#sk-container-id-3 div.sk-label:hover label.sk-toggleable__label {background-color: #d4ebff;}#sk-container-id-3 div.sk-serial::before {content: \"\";position: absolute;border-left: 1px solid gray;box-sizing: border-box;top: 0;bottom: 0;left: 50%;z-index: 0;}#sk-container-id-3 div.sk-serial {display: flex;flex-direction: column;align-items: center;background-color: white;padding-right: 0.2em;padding-left: 0.2em;position: relative;}#sk-container-id-3 div.sk-item {position: relative;z-index: 1;}#sk-container-id-3 div.sk-parallel {display: flex;align-items: stretch;justify-content: center;background-color: white;position: relative;}#sk-container-id-3 div.sk-item::before, #sk-container-id-3 div.sk-parallel-item::before {content: \"\";position: absolute;border-left: 1px solid gray;box-sizing: border-box;top: 0;bottom: 0;left: 50%;z-index: -1;}#sk-container-id-3 div.sk-parallel-item {display: flex;flex-direction: column;z-index: 1;position: relative;background-color: white;}#sk-container-id-3 div.sk-parallel-item:first-child::after {align-self: flex-end;width: 50%;}#sk-container-id-3 div.sk-parallel-item:last-child::after {align-self: flex-start;width: 50%;}#sk-container-id-3 div.sk-parallel-item:only-child::after {width: 0;}#sk-container-id-3 div.sk-dashed-wrapped {border: 1px dashed gray;margin: 0 0.4em 0.5em 0.4em;box-sizing: border-box;padding-bottom: 0.4em;background-color: white;}#sk-container-id-3 div.sk-label label {font-family: monospace;font-weight: bold;display: inline-block;line-height: 1.2em;}#sk-container-id-3 div.sk-label-container {text-align: center;}#sk-container-id-3 div.sk-container {/* jupyter's `normalize.less` sets `[hidden] { display: none; }` but bootstrap.min.css set `[hidden] { display: none !important; }` so we also need the `!important` here to be able to override the default hidden behavior on the sphinx rendered scikit-learn.org. See: https://github.com/scikit-learn/scikit-learn/issues/21755 */display: inline-block !important;position: relative;}#sk-container-id-3 div.sk-text-repr-fallback {display: none;}</style><div id=\"sk-container-id-3\" class=\"sk-top-container\"><div class=\"sk-text-repr-fallback\"><pre>LinearRegression()</pre><b>In a Jupyter environment, please rerun this cell to show the HTML representation or trust the notebook. <br />On GitHub, the HTML representation is unable to render, please try loading this page with nbviewer.org.</b></div><div class=\"sk-container\" hidden><div class=\"sk-item\"><div class=\"sk-estimator sk-toggleable\"><input class=\"sk-toggleable__control sk-hidden--visually\" id=\"sk-estimator-id-3\" type=\"checkbox\" checked><label for=\"sk-estimator-id-3\" class=\"sk-toggleable__label sk-toggleable__label-arrow\">LinearRegression</label><div class=\"sk-toggleable__content\"><pre>LinearRegression()</pre></div></div></div></div></div>"
            ]
          },
          "metadata": {},
          "execution_count": 40
        }
      ],
      "source": [
        "from sklearn.linear_model import LinearRegression\n",
        "regressor = LinearRegression()\n",
        "regressor.fit(X_train, y_train)"
      ]
    },
    {
      "cell_type": "markdown",
      "metadata": {
        "id": "ywuq0wHMcILR"
      },
      "source": [
        "### Обработка результатов, тюнинг модели"
      ]
    },
    {
      "cell_type": "markdown",
      "metadata": {
        "id": "LimBuONZcILS"
      },
      "source": [
        "#### Предсказание"
      ]
    },
    {
      "cell_type": "code",
      "execution_count": null,
      "metadata": {
        "ExecuteTime": {
          "end_time": "2022-09-01T14:45:07.721123Z",
          "start_time": "2022-09-01T14:45:07.717121Z"
        },
        "colab": {
          "base_uri": "https://localhost:8080/"
        },
        "id": "bRFgE1jxcILS",
        "outputId": "fc34e6d8-15ce-4018-a041-2740a21f7f79"
      },
      "outputs": [
        {
          "output_type": "stream",
          "name": "stdout",
          "text": [
            "[0.99520834 0.99001087 1.00925322 1.01161583 0.98996432 0.9918224\n",
            " 1.00694024 0.9948672  1.00317622 0.99442986 1.01242906 0.99304193\n",
            " 0.99379718 0.00324846 1.00942437 0.99156735 0.99928874 1.0100268\n",
            " 0.99402509 0.99456999 1.00457855 0.99844109 0.99941522 0.99189618\n",
            " 0.9897168  0.99780697 0.99411068 0.99867612 0.99441    1.00701363\n",
            " 0.99057759 0.99127932 1.00701057 0.99301041 1.00729819 1.01249201\n",
            " 0.99099428 1.00268478 1.00420617 0.9844563  1.00910819]\n"
          ]
        }
      ],
      "source": [
        "y_pred = regressor.predict(X_test)\n",
        "print(y_pred)"
      ]
    },
    {
      "cell_type": "markdown",
      "metadata": {
        "id": "HW0zyfvdcILS"
      },
      "source": [
        "#### Оптимизация модели"
      ]
    },
    {
      "cell_type": "code",
      "execution_count": null,
      "metadata": {
        "ExecuteTime": {
          "end_time": "2022-09-01T14:45:14.136919Z",
          "start_time": "2022-09-01T14:45:10.813099Z"
        },
        "colab": {
          "base_uri": "https://localhost:8080/"
        },
        "id": "uuWiIKSvcILS",
        "outputId": "f6e6e999-58fe-40db-e4c2-b97d3ddbecb9"
      },
      "outputs": [
        {
          "output_type": "stream",
          "name": "stdout",
          "text": [
            "                            OLS Regression Results                            \n",
            "==============================================================================\n",
            "Dep. Variable:                      y   R-squared:                       0.047\n",
            "Model:                            OLS   Adj. R-squared:                  0.007\n",
            "Method:                 Least Squares   F-statistic:                     1.167\n",
            "Date:                Wed, 22 May 2024   Prob (F-statistic):              0.331\n",
            "Time:                        08:49:34   Log-Likelihood:                -208.03\n",
            "No. Observations:                 100   AIC:                             426.1\n",
            "Df Residuals:                      95   BIC:                             439.1\n",
            "Df Model:                           4                                         \n",
            "Covariance Type:            nonrobust                                         \n",
            "==============================================================================\n",
            "                 coef    std err          t      P>|t|      [0.025      0.975]\n",
            "------------------------------------------------------------------------------\n",
            "const          2.9140      0.201     14.521      0.000       2.516       3.312\n",
            "x1            -0.2711      0.248     -1.091      0.278      -0.764       0.222\n",
            "x2            -0.3031      0.202     -1.502      0.136      -0.704       0.097\n",
            "x3             0.2759      0.218      1.264      0.209      -0.158       0.709\n",
            "x4             0.1603      0.200      0.802      0.425      -0.237       0.557\n",
            "==============================================================================\n",
            "Omnibus:                       21.981   Durbin-Watson:                   2.328\n",
            "Prob(Omnibus):                  0.000   Jarque-Bera (JB):                5.146\n",
            "Skew:                           0.060   Prob(JB):                       0.0763\n",
            "Kurtosis:                       1.895   Cond. No.                         1.44\n",
            "==============================================================================\n",
            "\n",
            "Notes:\n",
            "[1] Standard Errors assume that the covariance matrix of the errors is correctly specified.\n"
          ]
        }
      ],
      "source": [
        "import statsmodels.api as sm  # Используйте правильный импорт для OLS в statsmodels\n",
        "\n",
        "# Предполагая, что X был правильно преобразован и готов к использованию (мы симулируем данные для демонстрации)\n",
        "X = np.random.randn(100, 4)  # Предположим 100 примеров, 4 признака\n",
        "\n",
        "\n",
        "# Добавляем перехват в модель\n",
        "X_with_intercept = sm.add_constant(X)  # Это добавляет столбец постоянных к входной матрице дизайна\n",
        "\n",
        "# Простая модель OLS\n",
        "y = np.random.randint(0, 7, 100)  # Предполагаем ваше преобразованное y, симулируем данные, имеющие 100 примеров\n",
        "\n",
        "# Подгоняем модель\n",
        "model = sm.OLS(y, X_with_intercept)\n",
        "results = model.fit()\n",
        "\n",
        "# Сводка по модели\n",
        "print(results.summary())"
      ]
    },
    {
      "cell_type": "code",
      "execution_count": null,
      "metadata": {
        "ExecuteTime": {
          "end_time": "2022-09-01T14:45:18.616369Z",
          "start_time": "2022-09-01T14:45:18.596355Z"
        },
        "colab": {
          "base_uri": "https://localhost:8080/",
          "height": 490
        },
        "id": "6dIlr0-0cILS",
        "outputId": "5de77478-02e1-4076-d135-cb57e2a48b9b"
      },
      "outputs": [
        {
          "output_type": "execute_result",
          "data": {
            "text/plain": [
              "<class 'statsmodels.iolib.summary.Summary'>\n",
              "\"\"\"\n",
              "                                 OLS Regression Results                                \n",
              "=======================================================================================\n",
              "Dep. Variable:                      y   R-squared (uncentered):                   0.011\n",
              "Model:                            OLS   Adj. R-squared (uncentered):             -0.019\n",
              "Method:                 Least Squares   F-statistic:                             0.3643\n",
              "Date:                Wed, 22 May 2024   Prob (F-statistic):                       0.779\n",
              "Time:                        08:49:36   Log-Likelihood:                         -266.77\n",
              "No. Observations:                 100   AIC:                                      539.5\n",
              "Df Residuals:                      97   BIC:                                      547.4\n",
              "Df Model:                           3                                                  \n",
              "Covariance Type:            nonrobust                                                  \n",
              "==============================================================================\n",
              "                 coef    std err          t      P>|t|      [0.025      0.975]\n",
              "------------------------------------------------------------------------------\n",
              "x1            -0.0106      0.440     -0.024      0.981      -0.884       0.863\n",
              "x2            -0.0248      0.356     -0.070      0.945      -0.731       0.682\n",
              "x3             0.3681      0.355      1.037      0.302      -0.336       1.073\n",
              "==============================================================================\n",
              "Omnibus:                       32.004   Durbin-Watson:                   0.738\n",
              "Prob(Omnibus):                  0.000   Jarque-Bera (JB):                6.019\n",
              "Skew:                           0.090   Prob(JB):                       0.0493\n",
              "Kurtosis:                       1.812   Cond. No.                         1.36\n",
              "==============================================================================\n",
              "\n",
              "Notes:\n",
              "[1] R² is computed without centering (uncentered) since the model does not contain a constant.\n",
              "[2] Standard Errors assume that the covariance matrix of the errors is correctly specified.\n",
              "\"\"\""
            ],
            "text/html": [
              "<table class=\"simpletable\">\n",
              "<caption>OLS Regression Results</caption>\n",
              "<tr>\n",
              "  <th>Dep. Variable:</th>            <td>y</td>        <th>  R-squared (uncentered):</th>      <td>   0.011</td>\n",
              "</tr>\n",
              "<tr>\n",
              "  <th>Model:</th>                   <td>OLS</td>       <th>  Adj. R-squared (uncentered):</th> <td>  -0.019</td>\n",
              "</tr>\n",
              "<tr>\n",
              "  <th>Method:</th>             <td>Least Squares</td>  <th>  F-statistic:       </th>          <td>  0.3643</td>\n",
              "</tr>\n",
              "<tr>\n",
              "  <th>Date:</th>             <td>Wed, 22 May 2024</td> <th>  Prob (F-statistic):</th>           <td> 0.779</td> \n",
              "</tr>\n",
              "<tr>\n",
              "  <th>Time:</th>                 <td>08:49:36</td>     <th>  Log-Likelihood:    </th>          <td> -266.77</td>\n",
              "</tr>\n",
              "<tr>\n",
              "  <th>No. Observations:</th>      <td>   100</td>      <th>  AIC:               </th>          <td>   539.5</td>\n",
              "</tr>\n",
              "<tr>\n",
              "  <th>Df Residuals:</th>          <td>    97</td>      <th>  BIC:               </th>          <td>   547.4</td>\n",
              "</tr>\n",
              "<tr>\n",
              "  <th>Df Model:</th>              <td>     3</td>      <th>                     </th>              <td> </td>   \n",
              "</tr>\n",
              "<tr>\n",
              "  <th>Covariance Type:</th>      <td>nonrobust</td>    <th>                     </th>              <td> </td>   \n",
              "</tr>\n",
              "</table>\n",
              "<table class=\"simpletable\">\n",
              "<tr>\n",
              "   <td></td>     <th>coef</th>     <th>std err</th>      <th>t</th>      <th>P>|t|</th>  <th>[0.025</th>    <th>0.975]</th>  \n",
              "</tr>\n",
              "<tr>\n",
              "  <th>x1</th> <td>   -0.0106</td> <td>    0.440</td> <td>   -0.024</td> <td> 0.981</td> <td>   -0.884</td> <td>    0.863</td>\n",
              "</tr>\n",
              "<tr>\n",
              "  <th>x2</th> <td>   -0.0248</td> <td>    0.356</td> <td>   -0.070</td> <td> 0.945</td> <td>   -0.731</td> <td>    0.682</td>\n",
              "</tr>\n",
              "<tr>\n",
              "  <th>x3</th> <td>    0.3681</td> <td>    0.355</td> <td>    1.037</td> <td> 0.302</td> <td>   -0.336</td> <td>    1.073</td>\n",
              "</tr>\n",
              "</table>\n",
              "<table class=\"simpletable\">\n",
              "<tr>\n",
              "  <th>Omnibus:</th>       <td>32.004</td> <th>  Durbin-Watson:     </th> <td>   0.738</td>\n",
              "</tr>\n",
              "<tr>\n",
              "  <th>Prob(Omnibus):</th> <td> 0.000</td> <th>  Jarque-Bera (JB):  </th> <td>   6.019</td>\n",
              "</tr>\n",
              "<tr>\n",
              "  <th>Skew:</th>          <td> 0.090</td> <th>  Prob(JB):          </th> <td>  0.0493</td>\n",
              "</tr>\n",
              "<tr>\n",
              "  <th>Kurtosis:</th>      <td> 1.812</td> <th>  Cond. No.          </th> <td>    1.36</td>\n",
              "</tr>\n",
              "</table><br/><br/>Notes:<br/>[1] R² is computed without centering (uncentered) since the model does not contain a constant.<br/>[2] Standard Errors assume that the covariance matrix of the errors is correctly specified."
            ],
            "text/latex": "\\begin{center}\n\\begin{tabular}{lclc}\n\\toprule\n\\textbf{Dep. Variable:}    &        y         & \\textbf{  R-squared (uncentered):}      &     0.011   \\\\\n\\textbf{Model:}            &       OLS        & \\textbf{  Adj. R-squared (uncentered):} &    -0.019   \\\\\n\\textbf{Method:}           &  Least Squares   & \\textbf{  F-statistic:       }          &    0.3643   \\\\\n\\textbf{Date:}             & Wed, 22 May 2024 & \\textbf{  Prob (F-statistic):}          &    0.779    \\\\\n\\textbf{Time:}             &     08:49:36     & \\textbf{  Log-Likelihood:    }          &   -266.77   \\\\\n\\textbf{No. Observations:} &         100      & \\textbf{  AIC:               }          &     539.5   \\\\\n\\textbf{Df Residuals:}     &          97      & \\textbf{  BIC:               }          &     547.4   \\\\\n\\textbf{Df Model:}         &           3      & \\textbf{                     }          &             \\\\\n\\textbf{Covariance Type:}  &    nonrobust     & \\textbf{                     }          &             \\\\\n\\bottomrule\n\\end{tabular}\n\\begin{tabular}{lcccccc}\n            & \\textbf{coef} & \\textbf{std err} & \\textbf{t} & \\textbf{P$> |$t$|$} & \\textbf{[0.025} & \\textbf{0.975]}  \\\\\n\\midrule\n\\textbf{x1} &      -0.0106  &        0.440     &    -0.024  &         0.981        &       -0.884    &        0.863     \\\\\n\\textbf{x2} &      -0.0248  &        0.356     &    -0.070  &         0.945        &       -0.731    &        0.682     \\\\\n\\textbf{x3} &       0.3681  &        0.355     &     1.037  &         0.302        &       -0.336    &        1.073     \\\\\n\\bottomrule\n\\end{tabular}\n\\begin{tabular}{lclc}\n\\textbf{Omnibus:}       & 32.004 & \\textbf{  Durbin-Watson:     } &    0.738  \\\\\n\\textbf{Prob(Omnibus):} &  0.000 & \\textbf{  Jarque-Bera (JB):  } &    6.019  \\\\\n\\textbf{Skew:}          &  0.090 & \\textbf{  Prob(JB):          } &   0.0493  \\\\\n\\textbf{Kurtosis:}      &  1.812 & \\textbf{  Cond. No.          } &     1.36  \\\\\n\\bottomrule\n\\end{tabular}\n%\\caption{OLS Regression Results}\n\\end{center}\n\nNotes: \\newline\n [1] R² is computed without centering (uncentered) since the model does not contain a constant. \\newline\n [2] Standard Errors assume that the covariance matrix of the errors is correctly specified."
          },
          "metadata": {},
          "execution_count": 43
        }
      ],
      "source": [
        "X_opt = X[:, [0, 1, 3]]\n",
        "regressor_OLS = sm.OLS(endog = y, exog = X_opt).fit()\n",
        "regressor_OLS.summary()"
      ]
    },
    {
      "cell_type": "code",
      "execution_count": null,
      "metadata": {
        "ExecuteTime": {
          "end_time": "2022-09-01T14:45:23.543668Z",
          "start_time": "2022-09-01T14:45:23.509047Z"
        },
        "colab": {
          "base_uri": "https://localhost:8080/",
          "height": 490
        },
        "id": "WCDNx228cILS",
        "outputId": "fc812072-8ce0-4e8a-fa2f-4ecae69454a7"
      },
      "outputs": [
        {
          "output_type": "execute_result",
          "data": {
            "text/plain": [
              "<class 'statsmodels.iolib.summary.Summary'>\n",
              "\"\"\"\n",
              "                                 OLS Regression Results                                \n",
              "=======================================================================================\n",
              "Dep. Variable:                      y   R-squared (uncentered):                   0.016\n",
              "Model:                            OLS   Adj. R-squared (uncentered):             -0.014\n",
              "Method:                 Least Squares   F-statistic:                             0.5419\n",
              "Date:                Wed, 22 May 2024   Prob (F-statistic):                       0.655\n",
              "Time:                        08:49:39   Log-Likelihood:                         -266.50\n",
              "No. Observations:                 100   AIC:                                      539.0\n",
              "Df Residuals:                      97   BIC:                                      546.8\n",
              "Df Model:                           3                                                  \n",
              "Covariance Type:            nonrobust                                                  \n",
              "==============================================================================\n",
              "                 coef    std err          t      P>|t|      [0.025      0.975]\n",
              "------------------------------------------------------------------------------\n",
              "x1            -0.0323      0.439     -0.073      0.942      -0.905       0.840\n",
              "x2             0.2811      0.385      0.729      0.468      -0.484       1.046\n",
              "x3             0.3548      0.352      1.009      0.316      -0.343       1.053\n",
              "==============================================================================\n",
              "Omnibus:                       38.983   Durbin-Watson:                   0.740\n",
              "Prob(Omnibus):                  0.000   Jarque-Bera (JB):                6.464\n",
              "Skew:                           0.096   Prob(JB):                       0.0395\n",
              "Kurtosis:                       1.769   Cond. No.                         1.32\n",
              "==============================================================================\n",
              "\n",
              "Notes:\n",
              "[1] R² is computed without centering (uncentered) since the model does not contain a constant.\n",
              "[2] Standard Errors assume that the covariance matrix of the errors is correctly specified.\n",
              "\"\"\""
            ],
            "text/html": [
              "<table class=\"simpletable\">\n",
              "<caption>OLS Regression Results</caption>\n",
              "<tr>\n",
              "  <th>Dep. Variable:</th>            <td>y</td>        <th>  R-squared (uncentered):</th>      <td>   0.016</td>\n",
              "</tr>\n",
              "<tr>\n",
              "  <th>Model:</th>                   <td>OLS</td>       <th>  Adj. R-squared (uncentered):</th> <td>  -0.014</td>\n",
              "</tr>\n",
              "<tr>\n",
              "  <th>Method:</th>             <td>Least Squares</td>  <th>  F-statistic:       </th>          <td>  0.5419</td>\n",
              "</tr>\n",
              "<tr>\n",
              "  <th>Date:</th>             <td>Wed, 22 May 2024</td> <th>  Prob (F-statistic):</th>           <td> 0.655</td> \n",
              "</tr>\n",
              "<tr>\n",
              "  <th>Time:</th>                 <td>08:49:39</td>     <th>  Log-Likelihood:    </th>          <td> -266.50</td>\n",
              "</tr>\n",
              "<tr>\n",
              "  <th>No. Observations:</th>      <td>   100</td>      <th>  AIC:               </th>          <td>   539.0</td>\n",
              "</tr>\n",
              "<tr>\n",
              "  <th>Df Residuals:</th>          <td>    97</td>      <th>  BIC:               </th>          <td>   546.8</td>\n",
              "</tr>\n",
              "<tr>\n",
              "  <th>Df Model:</th>              <td>     3</td>      <th>                     </th>              <td> </td>   \n",
              "</tr>\n",
              "<tr>\n",
              "  <th>Covariance Type:</th>      <td>nonrobust</td>    <th>                     </th>              <td> </td>   \n",
              "</tr>\n",
              "</table>\n",
              "<table class=\"simpletable\">\n",
              "<tr>\n",
              "   <td></td>     <th>coef</th>     <th>std err</th>      <th>t</th>      <th>P>|t|</th>  <th>[0.025</th>    <th>0.975]</th>  \n",
              "</tr>\n",
              "<tr>\n",
              "  <th>x1</th> <td>   -0.0323</td> <td>    0.439</td> <td>   -0.073</td> <td> 0.942</td> <td>   -0.905</td> <td>    0.840</td>\n",
              "</tr>\n",
              "<tr>\n",
              "  <th>x2</th> <td>    0.2811</td> <td>    0.385</td> <td>    0.729</td> <td> 0.468</td> <td>   -0.484</td> <td>    1.046</td>\n",
              "</tr>\n",
              "<tr>\n",
              "  <th>x3</th> <td>    0.3548</td> <td>    0.352</td> <td>    1.009</td> <td> 0.316</td> <td>   -0.343</td> <td>    1.053</td>\n",
              "</tr>\n",
              "</table>\n",
              "<table class=\"simpletable\">\n",
              "<tr>\n",
              "  <th>Omnibus:</th>       <td>38.983</td> <th>  Durbin-Watson:     </th> <td>   0.740</td>\n",
              "</tr>\n",
              "<tr>\n",
              "  <th>Prob(Omnibus):</th> <td> 0.000</td> <th>  Jarque-Bera (JB):  </th> <td>   6.464</td>\n",
              "</tr>\n",
              "<tr>\n",
              "  <th>Skew:</th>          <td> 0.096</td> <th>  Prob(JB):          </th> <td>  0.0395</td>\n",
              "</tr>\n",
              "<tr>\n",
              "  <th>Kurtosis:</th>      <td> 1.769</td> <th>  Cond. No.          </th> <td>    1.32</td>\n",
              "</tr>\n",
              "</table><br/><br/>Notes:<br/>[1] R² is computed without centering (uncentered) since the model does not contain a constant.<br/>[2] Standard Errors assume that the covariance matrix of the errors is correctly specified."
            ],
            "text/latex": "\\begin{center}\n\\begin{tabular}{lclc}\n\\toprule\n\\textbf{Dep. Variable:}    &        y         & \\textbf{  R-squared (uncentered):}      &     0.016   \\\\\n\\textbf{Model:}            &       OLS        & \\textbf{  Adj. R-squared (uncentered):} &    -0.014   \\\\\n\\textbf{Method:}           &  Least Squares   & \\textbf{  F-statistic:       }          &    0.5419   \\\\\n\\textbf{Date:}             & Wed, 22 May 2024 & \\textbf{  Prob (F-statistic):}          &    0.655    \\\\\n\\textbf{Time:}             &     08:49:39     & \\textbf{  Log-Likelihood:    }          &   -266.50   \\\\\n\\textbf{No. Observations:} &         100      & \\textbf{  AIC:               }          &     539.0   \\\\\n\\textbf{Df Residuals:}     &          97      & \\textbf{  BIC:               }          &     546.8   \\\\\n\\textbf{Df Model:}         &           3      & \\textbf{                     }          &             \\\\\n\\textbf{Covariance Type:}  &    nonrobust     & \\textbf{                     }          &             \\\\\n\\bottomrule\n\\end{tabular}\n\\begin{tabular}{lcccccc}\n            & \\textbf{coef} & \\textbf{std err} & \\textbf{t} & \\textbf{P$> |$t$|$} & \\textbf{[0.025} & \\textbf{0.975]}  \\\\\n\\midrule\n\\textbf{x1} &      -0.0323  &        0.439     &    -0.073  &         0.942        &       -0.905    &        0.840     \\\\\n\\textbf{x2} &       0.2811  &        0.385     &     0.729  &         0.468        &       -0.484    &        1.046     \\\\\n\\textbf{x3} &       0.3548  &        0.352     &     1.009  &         0.316        &       -0.343    &        1.053     \\\\\n\\bottomrule\n\\end{tabular}\n\\begin{tabular}{lclc}\n\\textbf{Omnibus:}       & 38.983 & \\textbf{  Durbin-Watson:     } &    0.740  \\\\\n\\textbf{Prob(Omnibus):} &  0.000 & \\textbf{  Jarque-Bera (JB):  } &    6.464  \\\\\n\\textbf{Skew:}          &  0.096 & \\textbf{  Prob(JB):          } &   0.0395  \\\\\n\\textbf{Kurtosis:}      &  1.769 & \\textbf{  Cond. No.          } &     1.32  \\\\\n\\bottomrule\n\\end{tabular}\n%\\caption{OLS Regression Results}\n\\end{center}\n\nNotes: \\newline\n [1] R² is computed without centering (uncentered) since the model does not contain a constant. \\newline\n [2] Standard Errors assume that the covariance matrix of the errors is correctly specified."
          },
          "metadata": {},
          "execution_count": 44
        }
      ],
      "source": [
        "X_opt = X[:, [0, 2, 3]]\n",
        "regressor_OLS = sm.OLS(endog = y, exog = X_opt).fit()\n",
        "regressor_OLS.summary()"
      ]
    },
    {
      "cell_type": "code",
      "execution_count": null,
      "metadata": {
        "ExecuteTime": {
          "end_time": "2022-09-01T14:45:32.850176Z",
          "start_time": "2022-09-01T14:45:32.813001Z"
        },
        "colab": {
          "base_uri": "https://localhost:8080/",
          "height": 469
        },
        "id": "pup8jUdQcILS",
        "outputId": "969f7c16-89f8-49c9-91f2-1a4da8b01f03"
      },
      "outputs": [
        {
          "output_type": "execute_result",
          "data": {
            "text/plain": [
              "<class 'statsmodels.iolib.summary.Summary'>\n",
              "\"\"\"\n",
              "                                 OLS Regression Results                                \n",
              "=======================================================================================\n",
              "Dep. Variable:                      y   R-squared (uncentered):                   0.011\n",
              "Model:                            OLS   Adj. R-squared (uncentered):             -0.009\n",
              "Method:                 Least Squares   F-statistic:                             0.5496\n",
              "Date:                Wed, 22 May 2024   Prob (F-statistic):                       0.579\n",
              "Time:                        08:49:41   Log-Likelihood:                         -266.78\n",
              "No. Observations:                 100   AIC:                                      537.6\n",
              "Df Residuals:                      98   BIC:                                      542.8\n",
              "Df Model:                           2                                                  \n",
              "Covariance Type:            nonrobust                                                  \n",
              "==============================================================================\n",
              "                 coef    std err          t      P>|t|      [0.025      0.975]\n",
              "------------------------------------------------------------------------------\n",
              "x1            -0.0091      0.437     -0.021      0.983      -0.877       0.859\n",
              "x2             0.3652      0.351      1.041      0.300      -0.331       1.061\n",
              "==============================================================================\n",
              "Omnibus:                       32.549   Durbin-Watson:                   0.741\n",
              "Prob(Omnibus):                  0.000   Jarque-Bera (JB):                6.075\n",
              "Skew:                           0.096   Prob(JB):                       0.0480\n",
              "Kurtosis:                       1.808   Cond. No.                         1.30\n",
              "==============================================================================\n",
              "\n",
              "Notes:\n",
              "[1] R² is computed without centering (uncentered) since the model does not contain a constant.\n",
              "[2] Standard Errors assume that the covariance matrix of the errors is correctly specified.\n",
              "\"\"\""
            ],
            "text/html": [
              "<table class=\"simpletable\">\n",
              "<caption>OLS Regression Results</caption>\n",
              "<tr>\n",
              "  <th>Dep. Variable:</th>            <td>y</td>        <th>  R-squared (uncentered):</th>      <td>   0.011</td>\n",
              "</tr>\n",
              "<tr>\n",
              "  <th>Model:</th>                   <td>OLS</td>       <th>  Adj. R-squared (uncentered):</th> <td>  -0.009</td>\n",
              "</tr>\n",
              "<tr>\n",
              "  <th>Method:</th>             <td>Least Squares</td>  <th>  F-statistic:       </th>          <td>  0.5496</td>\n",
              "</tr>\n",
              "<tr>\n",
              "  <th>Date:</th>             <td>Wed, 22 May 2024</td> <th>  Prob (F-statistic):</th>           <td> 0.579</td> \n",
              "</tr>\n",
              "<tr>\n",
              "  <th>Time:</th>                 <td>08:49:41</td>     <th>  Log-Likelihood:    </th>          <td> -266.78</td>\n",
              "</tr>\n",
              "<tr>\n",
              "  <th>No. Observations:</th>      <td>   100</td>      <th>  AIC:               </th>          <td>   537.6</td>\n",
              "</tr>\n",
              "<tr>\n",
              "  <th>Df Residuals:</th>          <td>    98</td>      <th>  BIC:               </th>          <td>   542.8</td>\n",
              "</tr>\n",
              "<tr>\n",
              "  <th>Df Model:</th>              <td>     2</td>      <th>                     </th>              <td> </td>   \n",
              "</tr>\n",
              "<tr>\n",
              "  <th>Covariance Type:</th>      <td>nonrobust</td>    <th>                     </th>              <td> </td>   \n",
              "</tr>\n",
              "</table>\n",
              "<table class=\"simpletable\">\n",
              "<tr>\n",
              "   <td></td>     <th>coef</th>     <th>std err</th>      <th>t</th>      <th>P>|t|</th>  <th>[0.025</th>    <th>0.975]</th>  \n",
              "</tr>\n",
              "<tr>\n",
              "  <th>x1</th> <td>   -0.0091</td> <td>    0.437</td> <td>   -0.021</td> <td> 0.983</td> <td>   -0.877</td> <td>    0.859</td>\n",
              "</tr>\n",
              "<tr>\n",
              "  <th>x2</th> <td>    0.3652</td> <td>    0.351</td> <td>    1.041</td> <td> 0.300</td> <td>   -0.331</td> <td>    1.061</td>\n",
              "</tr>\n",
              "</table>\n",
              "<table class=\"simpletable\">\n",
              "<tr>\n",
              "  <th>Omnibus:</th>       <td>32.549</td> <th>  Durbin-Watson:     </th> <td>   0.741</td>\n",
              "</tr>\n",
              "<tr>\n",
              "  <th>Prob(Omnibus):</th> <td> 0.000</td> <th>  Jarque-Bera (JB):  </th> <td>   6.075</td>\n",
              "</tr>\n",
              "<tr>\n",
              "  <th>Skew:</th>          <td> 0.096</td> <th>  Prob(JB):          </th> <td>  0.0480</td>\n",
              "</tr>\n",
              "<tr>\n",
              "  <th>Kurtosis:</th>      <td> 1.808</td> <th>  Cond. No.          </th> <td>    1.30</td>\n",
              "</tr>\n",
              "</table><br/><br/>Notes:<br/>[1] R² is computed without centering (uncentered) since the model does not contain a constant.<br/>[2] Standard Errors assume that the covariance matrix of the errors is correctly specified."
            ],
            "text/latex": "\\begin{center}\n\\begin{tabular}{lclc}\n\\toprule\n\\textbf{Dep. Variable:}    &        y         & \\textbf{  R-squared (uncentered):}      &     0.011   \\\\\n\\textbf{Model:}            &       OLS        & \\textbf{  Adj. R-squared (uncentered):} &    -0.009   \\\\\n\\textbf{Method:}           &  Least Squares   & \\textbf{  F-statistic:       }          &    0.5496   \\\\\n\\textbf{Date:}             & Wed, 22 May 2024 & \\textbf{  Prob (F-statistic):}          &    0.579    \\\\\n\\textbf{Time:}             &     08:49:41     & \\textbf{  Log-Likelihood:    }          &   -266.78   \\\\\n\\textbf{No. Observations:} &         100      & \\textbf{  AIC:               }          &     537.6   \\\\\n\\textbf{Df Residuals:}     &          98      & \\textbf{  BIC:               }          &     542.8   \\\\\n\\textbf{Df Model:}         &           2      & \\textbf{                     }          &             \\\\\n\\textbf{Covariance Type:}  &    nonrobust     & \\textbf{                     }          &             \\\\\n\\bottomrule\n\\end{tabular}\n\\begin{tabular}{lcccccc}\n            & \\textbf{coef} & \\textbf{std err} & \\textbf{t} & \\textbf{P$> |$t$|$} & \\textbf{[0.025} & \\textbf{0.975]}  \\\\\n\\midrule\n\\textbf{x1} &      -0.0091  &        0.437     &    -0.021  &         0.983        &       -0.877    &        0.859     \\\\\n\\textbf{x2} &       0.3652  &        0.351     &     1.041  &         0.300        &       -0.331    &        1.061     \\\\\n\\bottomrule\n\\end{tabular}\n\\begin{tabular}{lclc}\n\\textbf{Omnibus:}       & 32.549 & \\textbf{  Durbin-Watson:     } &    0.741  \\\\\n\\textbf{Prob(Omnibus):} &  0.000 & \\textbf{  Jarque-Bera (JB):  } &    6.075  \\\\\n\\textbf{Skew:}          &  0.096 & \\textbf{  Prob(JB):          } &   0.0480  \\\\\n\\textbf{Kurtosis:}      &  1.808 & \\textbf{  Cond. No.          } &     1.30  \\\\\n\\bottomrule\n\\end{tabular}\n%\\caption{OLS Regression Results}\n\\end{center}\n\nNotes: \\newline\n [1] R² is computed without centering (uncentered) since the model does not contain a constant. \\newline\n [2] Standard Errors assume that the covariance matrix of the errors is correctly specified."
          },
          "metadata": {},
          "execution_count": 45
        }
      ],
      "source": [
        "X_opt = X[:, [0, 3]]\n",
        "regressor_OLS = sm.OLS(endog = y, exog = X_opt).fit()\n",
        "regressor_OLS.summary()"
      ]
    }
  ],
  "metadata": {
    "kernelspec": {
      "display_name": "Python 3",
      "language": "python",
      "name": "python3"
    },
    "language_info": {
      "codemirror_mode": {
        "name": "ipython",
        "version": 3
      },
      "file_extension": ".py",
      "mimetype": "text/x-python",
      "name": "python",
      "nbconvert_exporter": "python",
      "pygments_lexer": "ipython3",
      "version": "3.6.6"
    },
    "toc": {
      "base_numbering": 1,
      "nav_menu": {},
      "number_sections": true,
      "sideBar": true,
      "skip_h1_title": false,
      "title_cell": "Table of Contents",
      "title_sidebar": "Contents",
      "toc_cell": false,
      "toc_position": {
        "height": "calc(100% - 180px)",
        "left": "10px",
        "top": "150px",
        "width": "165px"
      },
      "toc_section_display": true,
      "toc_window_display": true
    },
    "colab": {
      "provenance": []
    }
  },
  "nbformat": 4,
  "nbformat_minor": 0
}