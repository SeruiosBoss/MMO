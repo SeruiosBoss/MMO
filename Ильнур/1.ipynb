{
  "cells": [
    {
      "cell_type": "markdown",
      "id": "be041c7c-aff4-407a-a926-8d8e2231173d",
      "metadata": {},
      "source": [
        "# **Лабораторная работа №1** \"Инструментальные средства машинного обучения\"\n",
        "# **Выполнил: Мухамеджанов Ильнур; группа: ПИН-б-о-22-1**"
      ]
    },
    {
      "cell_type": "markdown",
      "id": "f9a6726a-d147-4e58-9ae8-5b5d63b8d939",
      "metadata": {},
      "source": [
        "## https://archive.ics.uci.edu/dataset/10/automobile"
      ]
    },
    {
      "cell_type": "markdown",
      "id": "38e22b0b-7d52-4a45-9273-db62825c44e0",
      "metadata": {},
      "source": [
        "## Первичный анализ данных"
      ]
    },
    {
      "cell_type": "markdown",
      "id": "3ad08225-1b8a-4912-a7c7-e673f8ee9dfb",
      "metadata": {},
      "source": [
        "### Общее описание набора данных Automobile\n",
        "\n",
        "Данный набор данных содержит информацию о характеристиках автомобилей и их ценах. Он включает 205 экземпляров, каждый из которых описывается 26 признаками, большинство из которых являются многозначными дискретными атрибутами, а последний признак - \"price\" - служит целевой переменной.\n",
        "\n",
        "### Описание признаков\n",
        "\n",
        "1. **symboling** - рейтинг страхового риска\n",
        "2. **normalized-losses** - нормализованные потери\n",
        "3. **make** - марка автомобиля\n",
        "4. **fuel-type** - тип топлива\n",
        "5. **aspiration** - тип наддува (стандартный или турбированный)\n",
        "6. **num-of-doors** - количество дверей\n",
        "7. **body-style** - стиль кузова\n",
        "8. **drive-wheels** - тип привода\n",
        "9. **engine-location** - расположение двигателя\n",
        "10. **wheel-base** - база колеса\n",
        "11. **length** - длина\n",
        "12. **width** - ширина\n",
        "13. **height** - высота\n",
        "14. **curb-weight** - снаряженная масса\n",
        "15. **engine-type** - тип двигателя\n",
        "16. **num-of-cylinders** - количество цилиндров\n",
        "17. **engine-size** - размер двигателя\n",
        "18. **fuel-system** - топливная система\n",
        "19. **bore** - диаметр цилиндра\n",
        "20. **stroke** - ход поршня\n",
        "21. **compression-ratio** - степень сжатия\n",
        "22. **horsepower** - мощность в лошадиных силах\n",
        "23. **peak-rpm** - максимальные обороты в минуту\n",
        "24. **city-mpg** - расход топлива в городе (мили на галлон)\n",
        "25. **highway-mpg** - расход топлива на шоссе (мили на галлон)\n",
        "26. **price** (цена) - целевая переменная\n",
        "\n",
        "### Характеристики данных\n",
        "\n",
        "- Количество элементов (Instances): 205\n",
        "- Количество признаков (Features): 26\n",
        "- Связанные задачи: Регрессия\n",
        "- Характеристики набора данных: Многомерные (Multivariate)\n",
        "- Тип признаков: Категориальные (Categorical), числовые (Numeric)\n",
        "\n",
        "### ### Особенности набора данных\n",
        "\n",
        "Этот набор данных подходит для решения задач регрессии, где нужно предсказать стоимость автомобиля, основываясь на его характеристиках. Значительная часть признаков являются категориальными, что требует специальной обработки перед использованием в большинстве алгоритмов машинного обучения, таких как преобразование в числовое представление через one-hot encoding или label encoding. Также важно отметить наличие числовых признаков, которые могут требовать масштабирования для оптимальной работы некоторых моделей машинного обучения.\n",
        "\n",
        "### Распределение целевой переменной \"price\"\n",
        "\n",
        "Распределение целевой переменной \"price\" представляет интерес для анализа рыночных цен на автомобили. Изучение этого распределения может помочь в выявлении паттернов, влияющих на стоимость автомобиля, включая марку, тип топлива, мощность двигателя и другие характеристики.\n",
        "\n",
        "\n",
        "Таким образом, данный набор данных представляет собой комплексное собрание информации о автомобилях, которое может быть использовано для различных задач аналитики и предсказаний в авторынке."
      ]
    },
    {
      "cell_type": "markdown",
      "metadata": {
        "id": "OuqYdfR6DlLR"
      },
      "source": [
        "### Подключение библиотеки NumPy и загрузка данных"
      ]
    },
    {
      "cell_type": "code",
      "execution_count": null,
      "metadata": {
        "ExecuteTime": {
          "end_time": "2022-08-22T15:50:49.355964Z",
          "start_time": "2022-08-22T15:50:46.108877Z"
        },
        "colab": {
          "base_uri": "https://localhost:8080/"
        },
        "id": "Y-GOOMZhDlLR",
        "outputId": "b4722a57-c818-47c4-e93e-5adbe4e3eecb"
      },
      "outputs": [
        {
          "name": "stdout",
          "output_type": "stream",
          "text": [
            "   0    1            2    3    4     5            6    7      8     9   ...  \\\n",
            "0   3    ?  alfa-romero  gas  std   two  convertible  rwd  front  88.6  ...   \n",
            "1   3    ?  alfa-romero  gas  std   two  convertible  rwd  front  88.6  ...   \n",
            "2   1    ?  alfa-romero  gas  std   two    hatchback  rwd  front  94.5  ...   \n",
            "3   2  164         audi  gas  std  four        sedan  fwd  front  99.8  ...   \n",
            "\n",
            "    16    17    18    19    20   21    22  23  24     25  \n",
            "0  130  mpfi  3.47  2.68   9.0  111  5000  21  27  13495  \n",
            "1  130  mpfi  3.47  2.68   9.0  111  5000  21  27  16500  \n",
            "2  152  mpfi  2.68  3.47   9.0  154  5000  19  26  16500  \n",
            "3  109  mpfi  3.19  3.40  10.0  102  5500  24  30  13950  \n",
            "\n",
            "[4 rows x 26 columns]\n"
          ]
        }
      ],
      "source": [
        "import pandas as pd\n",
        "\n",
        "data_path = \"imports-85.data\"\n",
        "data = pd.read_csv(data_path, header=None)\n",
        "print(data[:4])"
      ]
    },
    {
      "cell_type": "markdown",
      "metadata": {
        "id": "BRkRKa7vDlLT"
      },
      "source": [
        "### Тип переменной и форма (shape)"
      ]
    },
    {
      "cell_type": "code",
      "execution_count": null,
      "metadata": {
        "ExecuteTime": {
          "end_time": "2022-08-22T15:50:53.470268Z",
          "start_time": "2022-08-22T15:50:53.466267Z"
        },
        "colab": {
          "base_uri": "https://localhost:8080/"
        },
        "id": "n1sUPh2yDlLT",
        "outputId": "f61a30ea-dcb3-4a1a-cec3-cb506174c92a"
      },
      "outputs": [
        {
          "name": "stdout",
          "output_type": "stream",
          "text": [
            "Data type :  <class 'pandas.core.frame.DataFrame'>\n",
            "Data shape :  (205, 26)\n",
            "   0  1            2    3    4    5            6    7      8     9   ...   16  \\\n",
            "0   3  ?  alfa-romero  gas  std  two  convertible  rwd  front  88.6  ...  130   \n",
            "\n",
            "     17    18    19   20   21    22  23  24     25  \n",
            "0  mpfi  3.47  2.68  9.0  111  5000  21  27  13495  \n",
            "\n",
            "[1 rows x 26 columns]\n"
          ]
        }
      ],
      "source": [
        "print ( \"Data type : \", type(data) )\n",
        "print ( \"Data shape : \", data.shape )\n",
        "print (data[:1])"
      ]
    },
    {
      "cell_type": "markdown",
      "metadata": {
        "id": "WnQZ1-tlDlLT"
      },
      "source": [
        "### Получение типа набора данных, строки, элемента"
      ]
    },
    {
      "cell_type": "code",
      "execution_count": null,
      "metadata": {
        "ExecuteTime": {
          "end_time": "2022-08-22T15:50:56.469203Z",
          "start_time": "2022-08-22T15:50:56.442184Z"
        },
        "colab": {
          "base_uri": "https://localhost:8080/"
        },
        "id": "diZMLAwIDlLT",
        "outputId": "cbc606ca-abfb-49c0-afcd-b0d29450a95f"
      },
      "outputs": [
        {
          "name": "stdout",
          "output_type": "stream",
          "text": [
            "Shape of the dataset: (205, 26)\n",
            "Dataset type: <class 'pandas.core.frame.DataFrame'>\n",
            "A single row of the dataset is type of: <class 'pandas.core.series.Series'>\n",
            "Types of elements: <class 'numpy.int64'> <class 'numpy.int64'>\n",
            "Dataset:\n",
            "     0    1            2       3      4     5            6    7      8   \\\n",
            "0     3    ?  alfa-romero     gas    std   two  convertible  rwd  front   \n",
            "1     3    ?  alfa-romero     gas    std   two  convertible  rwd  front   \n",
            "2     1    ?  alfa-romero     gas    std   two    hatchback  rwd  front   \n",
            "3     2  164         audi     gas    std  four        sedan  fwd  front   \n",
            "4     2  164         audi     gas    std  four        sedan  4wd  front   \n",
            "..   ..  ...          ...     ...    ...   ...          ...  ...    ...   \n",
            "200  -1   95        volvo     gas    std  four        sedan  rwd  front   \n",
            "201  -1   95        volvo     gas  turbo  four        sedan  rwd  front   \n",
            "202  -1   95        volvo     gas    std  four        sedan  rwd  front   \n",
            "203  -1   95        volvo  diesel  turbo  four        sedan  rwd  front   \n",
            "204  -1   95        volvo     gas  turbo  four        sedan  rwd  front   \n",
            "\n",
            "        9   ...   16    17    18    19    20   21    22  23  24     25  \n",
            "0     88.6  ...  130  mpfi  3.47  2.68   9.0  111  5000  21  27  13495  \n",
            "1     88.6  ...  130  mpfi  3.47  2.68   9.0  111  5000  21  27  16500  \n",
            "2     94.5  ...  152  mpfi  2.68  3.47   9.0  154  5000  19  26  16500  \n",
            "3     99.8  ...  109  mpfi  3.19  3.40  10.0  102  5500  24  30  13950  \n",
            "4     99.4  ...  136  mpfi  3.19  3.40   8.0  115  5500  18  22  17450  \n",
            "..     ...  ...  ...   ...   ...   ...   ...  ...   ...  ..  ..    ...  \n",
            "200  109.1  ...  141  mpfi  3.78  3.15   9.5  114  5400  23  28  16845  \n",
            "201  109.1  ...  141  mpfi  3.78  3.15   8.7  160  5300  19  25  19045  \n",
            "202  109.1  ...  173  mpfi  3.58  2.87   8.8  134  5500  18  23  21485  \n",
            "203  109.1  ...  145   idi  3.01  3.40  23.0  106  4800  26  27  22470  \n",
            "204  109.1  ...  141  mpfi  3.78  3.15   9.5  114  5400  19  25  22625  \n",
            "\n",
            "[205 rows x 26 columns]\n"
          ]
        }
      ],
      "source": [
        "data1 = pd.read_csv(data_path, header=None)\n",
        "print('Shape of the dataset:', data1.shape)\n",
        "print('Dataset type:', type(data1))\n",
        "print('A single row of the dataset is type of:', type(data1[0]))\n",
        "print('Types of elements:', type(data1[0][1]), type(data1[0][4]))\n",
        "print('Dataset:')\n",
        "print(data1)"
      ]
    },
    {
      "cell_type": "markdown",
      "metadata": {
        "id": "RIYW2mlDDlLU"
      },
      "source": [
        "### Указание типа столбцов при загрузке данных"
      ]
    },
    {
      "cell_type": "code",
      "execution_count": null,
      "metadata": {
        "ExecuteTime": {
          "end_time": "2022-08-22T15:50:59.019675Z",
          "start_time": "2022-08-22T15:50:59.010669Z"
        },
        "colab": {
          "base_uri": "https://localhost:8080/"
        },
        "id": "jo7IGpavDlLU",
        "outputId": "7dd559fa-d542-4bf6-89e6-323653fa4c9b"
      },
      "outputs": [
        {
          "name": "stdout",
          "output_type": "stream",
          "text": [
            "Shape of the dataset: (205, 26)\n",
            "Dataset type: <class 'pandas.core.frame.DataFrame'>\n",
            "A single row of the dataset is type of: <class 'pandas.core.series.Series'>\n",
            "Types of elements: <class 'numpy.int64'> <class 'numpy.int64'>\n",
            "Dataset slice:\n",
            "   0    1            2    3      4     5            6    7      8      9   \\\n",
            "0   3    ?  alfa-romero  gas    std   two  convertible  rwd  front   88.6   \n",
            "1   3    ?  alfa-romero  gas    std   two  convertible  rwd  front   88.6   \n",
            "2   1    ?  alfa-romero  gas    std   two    hatchback  rwd  front   94.5   \n",
            "3   2  164         audi  gas    std  four        sedan  fwd  front   99.8   \n",
            "4   2  164         audi  gas    std  four        sedan  4wd  front   99.4   \n",
            "5   2    ?         audi  gas    std   two        sedan  fwd  front   99.8   \n",
            "6   1  158         audi  gas    std  four        sedan  fwd  front  105.8   \n",
            "7   1    ?         audi  gas    std  four        wagon  fwd  front  105.8   \n",
            "8   1  158         audi  gas  turbo  four        sedan  fwd  front  105.8   \n",
            "9   0    ?         audi  gas  turbo   two    hatchback  4wd  front   99.5   \n",
            "\n",
            "   ...   16    17    18    19    20   21    22  23  24     25  \n",
            "0  ...  130  mpfi  3.47  2.68   9.0  111  5000  21  27  13495  \n",
            "1  ...  130  mpfi  3.47  2.68   9.0  111  5000  21  27  16500  \n",
            "2  ...  152  mpfi  2.68  3.47   9.0  154  5000  19  26  16500  \n",
            "3  ...  109  mpfi  3.19  3.40  10.0  102  5500  24  30  13950  \n",
            "4  ...  136  mpfi  3.19  3.40   8.0  115  5500  18  22  17450  \n",
            "5  ...  136  mpfi  3.19  3.40   8.5  110  5500  19  25  15250  \n",
            "6  ...  136  mpfi  3.19  3.40   8.5  110  5500  19  25  17710  \n",
            "7  ...  136  mpfi  3.19  3.40   8.5  110  5500  19  25  18920  \n",
            "8  ...  131  mpfi  3.13  3.40   8.3  140  5500  17  20  23875  \n",
            "9  ...  131  mpfi  3.13  3.40   7.0  160  5500  16  22      ?  \n",
            "\n",
            "[10 rows x 26 columns]\n"
          ]
        }
      ],
      "source": [
        "dt = np.dtype(\"f8, f8, f8, f8, U30\")\n",
        "data2 = pd.read_csv(data_path, header=None)\n",
        "print('Shape of the dataset:', data2.shape)\n",
        "print('Dataset type:', type(data2))\n",
        "print('A single row of the dataset is type of:', type(data2[0]))\n",
        "print('Types of elements:', type(data2[0][1]), type(data2[0][4]))\n",
        "print('Dataset slice:')\n",
        "print(data2[:10])"
      ]
    },
    {
      "cell_type": "markdown",
      "metadata": {
        "id": "_zYCLCz1DlLU"
      },
      "source": [
        "### Построение графиков с использованием Matplotlib"
      ]
    },
    {
      "cell_type": "code",
      "execution_count": null,
      "metadata": {
        "ExecuteTime": {
          "end_time": "2022-08-22T15:51:05.402528Z",
          "start_time": "2022-08-22T15:51:01.482184Z"
        },
        "colab": {
          "base_uri": "https://localhost:8080/",
          "height": 607
        },
        "id": "JY7JW0tBDlLV",
        "outputId": "76ec2f1f-5f10-493d-f637-d5e5052d42ec"
      },
      "outputs": [
        {
          "data": {
            "image/png": "[encoded data removed]",
            "text/plain": [
              "<Figure size 1200x600 with 2 Axes>"
            ]
          },
          "metadata": {},
          "output_type": "display_data"
        }
      ],
      "source": [
        "import pandas as pd\n",
        "\n",
        "import matplotlib.pyplot as plt\n",
        "\n",
        "\n",
        "\n",
        "# Путь к файлу CSV (замените 'data_path' на фактический путь к файлу)\n",
        "\n",
        "data_path = 'imports-85.data'\n",
        "\n",
        "data2 = pd.read_csv(data_path, header=None, na_values='?')\n",
        "\n",
        "\n",
        "\n",
        "# Указываем индексы столбцов (согласно вашему описанию данных)\n",
        "\n",
        "columns = {\n",
        "\n",
        "    'curb_weight': 13,\n",
        "\n",
        "    'horsepower': 21,\n",
        "\n",
        "    'price': 25\n",
        "\n",
        "}\n",
        "\n",
        "\n",
        "\n",
        "# Удаляем строки, где цена не указана\n",
        "\n",
        "data2.dropna(subset=[columns['price']], inplace=True)\n",
        "\n",
        "\n",
        "\n",
        "# Создаем графики\n",
        "\n",
        "plt.figure(figsize=(12, 6))\n",
        "\n",
        "\n",
        "\n",
        "# График зависимости мощности двигателя от цены\n",
        "\n",
        "plt.subplot(1, 2, 1)\n",
        "\n",
        "plt.scatter(data2[columns['horsepower']], data2[columns['price']], color='red')\n",
        "\n",
        "plt.title('Correlation between Horsepower and Price')\n",
        "\n",
        "plt.xlabel('Horsepower')\n",
        "\n",
        "plt.ylabel('Price')\n",
        "\n",
        "\n",
        "\n",
        "# График зависимости снаряженной массы от цены\n",
        "\n",
        "plt.subplot(1, 2, 2)\n",
        "\n",
        "plt.scatter(data2[columns['curb_weight']], data2[columns['price']], color='blue')\n",
        "\n",
        "plt.title('Correlation between Curb Weight and Price')\n",
        "\n",
        "plt.xlabel('Curb Weight')\n",
        "\n",
        "plt.ylabel('Price')\n",
        "\n",
        "\n",
        "\n",
        "plt.tight_layout()\n",
        "\n",
        "plt.show()"
      ]
    },
    {
      "cell_type": "markdown",
      "id": "2112405c-c024-4668-ba76-fcc8b1d32318",
      "metadata": {},
      "source": [
        "## Контрольные вопросы"
      ]
    },
    {
      "cell_type": "markdown",
      "id": "1fec81e0-1fcb-4e01-9c8d-6c3181cbe0d1",
      "metadata": {},
      "source": [
        "### **1. Какие инструментальные средства используются для организации рабочего места специалиста Data Science?**"
      ]
    },
    {
      "cell_type": "markdown",
      "id": "9bcd8eb5-b272-43a8-b294-489a8dbc33e7",
      "metadata": {},
      "source": [
        "Для организации рабочего места специалиста Data Science используются следующие инструментальные средства:\n",
        "\n",
        "1. **Языки программирования**: Ключевым инструментом является Python, который широко используется в области Data Science благодаря своей простоте, мощности и богатой экосистеме библиотек.\n",
        "   \n",
        "2. **Интегрированные среды разработки (IDE)**: Популярные IDE для Data Science включают PyCharm, Jupyter Notebook, Spyder и VS Code. Они обеспечивают удобную среду для написания, отладки и выполнения кода.\n",
        "\n",
        "3. **Библиотеки и фреймворки**: Для обработки данных и построения моделей машинного обучения используются библиотеки такие как NumPy, Pandas, Scikit-learn, TensorFlow и PyTorch.\n",
        "\n",
        "4. **Виртуальные среды**: Для изоляции проектов и управления зависимостями часто используются виртуальные среды, такие как virtualenv или conda.\n",
        "\n",
        "5. **Системы управления версиями**: Для отслеживания изменений в коде и совместной работы над проектами используются системы контроля версий, например Git.\n",
        "\n",
        "Эти инструменты помогают специалистам Data Science эффективно работать с данными, создавать и тестировать модели машинного обучения."
      ]
    },
    {
      "cell_type": "markdown",
      "id": "e2caada8-b43f-4f67-a54d-ed73bdc28361",
      "metadata": {},
      "source": [
        "### **2. Какие библиотеки Python используются для работы в области машинного обучения? Дайте краткую характеристику каждой библиотеки.**"
      ]
    },
    {
      "cell_type": "markdown",
      "id": "83133567-3225-4492-afc2-11ffb26da5b6",
      "metadata": {},
      "source": [
        "Популярных библиотеки:\n",
        "\n",
        "1. **NumPy**: NumPy — это основная библиотека для работы с многомерными массивами и матрицами в Python. Она предоставляет мощные инструменты для работы с данными и выполнения математических операций.\n",
        "\n",
        "2. **Pandas**: Pandas предоставляет высокоуровневые структуры данных и инструменты для анализа данных. Она упрощает чтение, запись и манипулирование данными, что делает ее идеальным инструментом для предобработки данных.\n",
        "\n",
        "3. **Scikit-learn**: Scikit-learn — это библиотека машинного обучения с открытым исходным кодом, которая предоставляет простой и эффективный инструментарий для анализа данных и построения моделей машинного обучения.\n",
        "\n",
        "4. **TensorFlow**: TensorFlow — это популярная библиотека глубокого обучения, разработанная компанией Google. Она предоставляет инструменты для построения и обучения нейронных сетей.\n",
        "\n",
        "5. **PyTorch**: PyTorch — еще одна популярная библиотека глубокого обучения, которая широко используется для исследований и разработки моделей нейронных сетей.\n",
        "\n",
        "Каждая из этих библиотек имеет свои преимущества и подходит для различных задач в области машинного обучения."
      ]
    },
    {
      "cell_type": "markdown",
      "id": "a774505b-1530-48e5-8378-7802ba402a4b",
      "metadata": {},
      "source": [
        "### **3. Почему при реализации систем машинного обучения широкое распространение получили библиотеки Python?**"
      ]
    },
    {
      "cell_type": "markdown",
      "id": "96e91dca-5715-4c3f-a385-9a24d9b62b16",
      "metadata": {},
      "source": [
        "Библиотеки Python получили широкое распространение при реализации систем машинного обучения по нескольким причинам:\n",
        "\n",
        "1. **Простота и удобство**: Python известен своей простотой и удобством в использовании. Синтаксис Python легко читаем и понятен, что делает его привлекательным для начинающих и опытных разработчиков.\n",
        "\n",
        "2. **Большое сообщество**: Python имеет огромное сообщество разработчиков, которые активно разрабатывают и поддерживают различные библиотеки и фреймворки для машинного обучения. Это обеспечивает доступ к обширным ресурсам и поддержке.\n",
        "\n",
        "3. **Мощные библиотеки и фреймворки**: В Python существует множество высококачественных библиотек и фреймворков для машинного обучения, таких как NumPy, Pandas, Scikit-learn, TensorFlow и PyTorch. Эти инструменты обеспечивают широкие возможности для разработки и экспериментов с моделями машинного обучения.\n",
        "\n",
        "4. **Интеграция с другими технологиями**: Python легко интегрируется с другими технологиями и инструментами, что делает его удобным выбором для построения систем машинного обучения, включая работу с базами данных, веб-сервисами и другими компонентами.\n",
        "\n",
        "5. **Обширное применение**: Python широко используется не только в области машинного обучения, но и в других областях разработки программного обеспечения, что способствует его популярности и распространению среди разработчиков."
      ]
    },
    {
      "cell_type": "markdown",
      "id": "81c35d85-5f63-4b3d-86e7-86846377c55b",
      "metadata": {},
      "source": [
        "## Вывод"
      ]
    },
    {
      "cell_type": "markdown",
      "id": "8aefe9f0-db52-4517-885f-4c8fc7fd103f",
      "metadata": {},
      "source": [
        "В ходе лабораторной работы были достигнуты следующие результаты:\n",
        "\n",
        "- Установлена и настроена среда разработки Python для работы специалиста по анализу данных и машинному обучению.\n",
        "- Изучены принципы загрузки и очистки данных, что позволило приобрести навыки по предварительной обработке данных на языке Python.\n",
        "- Освоены основные библиотеки Python для работы с данными, что расширило набор инструментов специалиста по анализу данных.\n",
        "\n",
        "Таким образом, проделанная работа позволила овладеть основными навыками и инструментами необходимыми для успешной работы в области анализа данных и машинного обучения."
      ]
    }
  ],
  "metadata": {
    "colab": {
      "provenance": []
    },
    "kernelspec": {
      "display_name": "Python 3",
      "language": "python",
      "name": "python3"
    },
    "language_info": {
      "codemirror_mode": {
        "name": "ipython",
        "version": 3
      },
      "file_extension": ".py",
      "mimetype": "text/x-python",
      "name": "python",
      "nbconvert_exporter": "python",
      "pygments_lexer": "ipython3",
      "version": "3.6.6"
    },
    "toc": {
      "base_numbering": 1,
      "nav_menu": {},
      "number_sections": true,
      "sideBar": true,
      "skip_h1_title": false,
      "title_cell": "Table of Contents",
      "title_sidebar": "Contents",
      "toc_cell": false,
      "toc_position": {},
      "toc_section_display": true,
      "toc_window_display": false
    }
  },
  "nbformat": 4,
  "nbformat_minor": 0
}
